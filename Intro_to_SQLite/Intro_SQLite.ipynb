{
  "nbformat": 4,
  "nbformat_minor": 0,
  "metadata": {
    "kernelspec": {
      "display_name": "Python 3",
      "language": "python",
      "name": "python3"
    },
    "language_info": {
      "codemirror_mode": {
        "name": "ipython",
        "version": 3
      },
      "file_extension": ".py",
      "mimetype": "text/x-python",
      "name": "python",
      "nbconvert_exporter": "python",
      "pygments_lexer": "ipython3",
      "version": "3.6.3"
    },
    "colab": {
      "provenance": [],
      "include_colab_link": true
    }
  },
  "cells": [
    {
      "cell_type": "markdown",
      "metadata": {
        "id": "view-in-github",
        "colab_type": "text"
      },
      "source": [
        "<a href=\"https://colab.research.google.com/github/kristenvonbecker/sql_projects/blob/main/Intro_to_SQLite/Intro_SQLite.ipynb\" target=\"_parent\"><img src=\"https://colab.research.google.com/assets/colab-badge.svg\" alt=\"Open In Colab\"/></a>"
      ]
    },
    {
      "cell_type": "markdown",
      "source": [
        "# MMA Bootcamp - Intro to SQL\n",
        "\n",
        "## 1. Preparation\n",
        "\n",
        "We start by setting up a connection to our sample database, Northwind DB."
      ],
      "metadata": {
        "id": "dbmDBqw1P5hn"
      }
    },
    {
      "cell_type": "code",
      "execution_count": 1,
      "source": [
        "# download Northwind SQLite DB\n",
        "!wget https://tdmdal.github.io/mma-sql-2021/data/northwind.sqlite3"
      ],
      "outputs": [
        {
          "output_type": "stream",
          "name": "stdout",
          "text": [
            "--2024-02-09 12:24:52--  https://tdmdal.github.io/mma-sql-2021/data/northwind.sqlite3\n",
            "Resolving tdmdal.github.io (tdmdal.github.io)... 185.199.108.153, 185.199.109.153, 185.199.110.153, ...\n",
            "Connecting to tdmdal.github.io (tdmdal.github.io)|185.199.108.153|:443... connected.\n",
            "HTTP request sent, awaiting response... 200 OK\n",
            "Length: 804864 (786K) [application/octet-stream]\n",
            "Saving to: ‘northwind.sqlite3’\n",
            "\n",
            "\rnorthwind.sqlite3     0%[                    ]       0  --.-KB/s               \rnorthwind.sqlite3   100%[===================>] 786.00K  --.-KB/s    in 0.03s   \n",
            "\n",
            "2024-02-09 12:24:52 (24.2 MB/s) - ‘northwind.sqlite3’ saved [804864/804864]\n",
            "\n"
          ]
        }
      ],
      "metadata": {
        "id": "Ylg7JbjIAZME",
        "colab": {
          "base_uri": "https://localhost:8080/"
        },
        "outputId": "0fe952ae-afbb-4540-de8a-4731886a96db"
      }
    },
    {
      "cell_type": "code",
      "execution_count": 2,
      "source": [
        "# load the SQL magic extension\n",
        "# https://github.com/catherinedevlin/ipython-sql\n",
        "# this extension allows us to connect to DBs and issue SQL command\n",
        "%load_ext sql\n",
        "\n",
        "# now we can use the magic extension to connect to our SQLite DB\n",
        "# use %sql to write an inline SQL command\n",
        "# use %%sql to write SQL commands in a cell\n",
        "%sql sqlite:///northwind.sqlite3"
      ],
      "outputs": [],
      "metadata": {
        "id": "RSE5sLAmP5hq"
      }
    },
    {
      "cell_type": "markdown",
      "source": [
        "After connecting to the Northwind DB, let's first check what database engine we are using."
      ],
      "metadata": {
        "id": "HjRxDwvkP5h7"
      }
    },
    {
      "cell_type": "code",
      "execution_count": 3,
      "source": [
        "%%sql\n",
        "SELECT sqlite_version();"
      ],
      "outputs": [
        {
          "output_type": "stream",
          "name": "stdout",
          "text": [
            " * sqlite:///northwind.sqlite3\n",
            "Done.\n"
          ]
        },
        {
          "output_type": "execute_result",
          "data": {
            "text/plain": [
              "[('3.37.2',)]"
            ],
            "text/html": [
              "<table>\n",
              "    <thead>\n",
              "        <tr>\n",
              "            <th>sqlite_version()</th>\n",
              "        </tr>\n",
              "    </thead>\n",
              "    <tbody>\n",
              "        <tr>\n",
              "            <td>3.37.2</td>\n",
              "        </tr>\n",
              "    </tbody>\n",
              "</table>"
            ]
          },
          "metadata": {},
          "execution_count": 3
        }
      ],
      "metadata": {
        "id": "3JdLzIG-P5iE",
        "colab": {
          "base_uri": "https://localhost:8080/",
          "height": 97
        },
        "outputId": "3d5c6dde-27ee-41b9-ef18-04472c15df72"
      }
    },
    {
      "cell_type": "markdown",
      "source": [
        "We are using [SQLite 3](https://www.sqlite.org/index.html). It's a small and fast Relational Database engine. SQLite DB is self-contained: one database is just a file. Believe it or not, SQLite is the most used DB engine in the world. It's built into millions of mobile phones (e.g. Android or iOS phones) and it's used by many popular apps to store data.  "
      ],
      "metadata": {
        "id": "Qxq151BGP5iN"
      }
    },
    {
      "cell_type": "markdown",
      "source": [
        "## 2. A quick look at Northwind DB\n",
        "\n",
        "### How many tables does this DB have?\n",
        "\n",
        "A database may contain many tables. Let's see how many tables we have in the Northwind DB.\n",
        "\n",
        "Every SQLite database has a special table called `sqlite_master`. It contains a master listing of all database objects (tables, indexes, etc.) in the database and the SQL used to create each object. We can query this table to find out how many tables (excluding `sqlite_master`) we have in our Northwind DB.\n",
        "\n",
        "We will use SQL keywords `SELECT...FROM...WHERE`. Don't worry about them for now. We will soon learn those keywords."
      ],
      "metadata": {
        "id": "bZZn0JyrP5iQ"
      }
    },
    {
      "cell_type": "code",
      "execution_count": 4,
      "source": [
        "%%sql\n",
        "SELECT name FROM sqlite_master WHERE type='table' AND name NOT LIKE 'sqlite_%';"
      ],
      "outputs": [
        {
          "output_type": "stream",
          "name": "stdout",
          "text": [
            " * sqlite:///northwind.sqlite3\n",
            "Done.\n"
          ]
        },
        {
          "output_type": "execute_result",
          "data": {
            "text/plain": [
              "[('Suppliers',),\n",
              " ('Shippers',),\n",
              " ('Employees',),\n",
              " ('Customers',),\n",
              " ('Orders',),\n",
              " ('Categories',),\n",
              " ('Products',),\n",
              " ('OrderDetails',)]"
            ],
            "text/html": [
              "<table>\n",
              "    <thead>\n",
              "        <tr>\n",
              "            <th>name</th>\n",
              "        </tr>\n",
              "    </thead>\n",
              "    <tbody>\n",
              "        <tr>\n",
              "            <td>Suppliers</td>\n",
              "        </tr>\n",
              "        <tr>\n",
              "            <td>Shippers</td>\n",
              "        </tr>\n",
              "        <tr>\n",
              "            <td>Employees</td>\n",
              "        </tr>\n",
              "        <tr>\n",
              "            <td>Customers</td>\n",
              "        </tr>\n",
              "        <tr>\n",
              "            <td>Orders</td>\n",
              "        </tr>\n",
              "        <tr>\n",
              "            <td>Categories</td>\n",
              "        </tr>\n",
              "        <tr>\n",
              "            <td>Products</td>\n",
              "        </tr>\n",
              "        <tr>\n",
              "            <td>OrderDetails</td>\n",
              "        </tr>\n",
              "    </tbody>\n",
              "</table>"
            ]
          },
          "metadata": {},
          "execution_count": 4
        }
      ],
      "metadata": {
        "id": "f6uSQXLtP5iU",
        "colab": {
          "base_uri": "https://localhost:8080/",
          "height": 247
        },
        "outputId": "25dbaacd-b7de-4188-dd94-0fb8f8043058"
      }
    },
    {
      "cell_type": "markdown",
      "source": [
        "Note that special tables in SQLite start with `sqlite_`. Those are reserved tables for SQLite engine system use. Above we filtered out those tables. In most cases, we shouldn't touch those special tables."
      ],
      "metadata": {
        "id": "rzZ4pHQuW2Jn"
      }
    },
    {
      "cell_type": "markdown",
      "source": [
        "### How does the Categories table look like?\n",
        "\n",
        "A table is made up of one or more columns/fields. Let's take a look a the Categories table (column names, types, etc.)."
      ],
      "metadata": {
        "id": "JZediGsUP5ic"
      }
    },
    {
      "cell_type": "code",
      "execution_count": 169,
      "source": [
        "%sql PRAGMA table_info([Categories]);"
      ],
      "outputs": [
        {
          "output_type": "stream",
          "name": "stdout",
          "text": [
            " * sqlite:///northwind.sqlite3\n",
            "Done.\n"
          ]
        },
        {
          "output_type": "execute_result",
          "data": {
            "text/plain": [
              "[(0, 'CategoryID', 'INTEGER', 1, None, 1),\n",
              " (1, 'CategoryName', 'nvarchar(15)', 1, None, 0),\n",
              " (2, 'Description', 'ntext', 0, None, 0),\n",
              " (3, 'Picture', 'image', 0, None, 0)]"
            ],
            "text/html": [
              "<table>\n",
              "    <thead>\n",
              "        <tr>\n",
              "            <th>cid</th>\n",
              "            <th>name</th>\n",
              "            <th>type</th>\n",
              "            <th>notnull</th>\n",
              "            <th>dflt_value</th>\n",
              "            <th>pk</th>\n",
              "        </tr>\n",
              "    </thead>\n",
              "    <tbody>\n",
              "        <tr>\n",
              "            <td>0</td>\n",
              "            <td>CategoryID</td>\n",
              "            <td>INTEGER</td>\n",
              "            <td>1</td>\n",
              "            <td>None</td>\n",
              "            <td>1</td>\n",
              "        </tr>\n",
              "        <tr>\n",
              "            <td>1</td>\n",
              "            <td>CategoryName</td>\n",
              "            <td>nvarchar(15)</td>\n",
              "            <td>1</td>\n",
              "            <td>None</td>\n",
              "            <td>0</td>\n",
              "        </tr>\n",
              "        <tr>\n",
              "            <td>2</td>\n",
              "            <td>Description</td>\n",
              "            <td>ntext</td>\n",
              "            <td>0</td>\n",
              "            <td>None</td>\n",
              "            <td>0</td>\n",
              "        </tr>\n",
              "        <tr>\n",
              "            <td>3</td>\n",
              "            <td>Picture</td>\n",
              "            <td>image</td>\n",
              "            <td>0</td>\n",
              "            <td>None</td>\n",
              "            <td>0</td>\n",
              "        </tr>\n",
              "    </tbody>\n",
              "</table>"
            ]
          },
          "metadata": {},
          "execution_count": 169
        }
      ],
      "metadata": {
        "id": "Kf76Zf33Zuh4",
        "colab": {
          "base_uri": "https://localhost:8080/",
          "height": 162
        },
        "outputId": "87c0adee-d97f-4540-a0e2-7283705f6320"
      }
    },
    {
      "cell_type": "markdown",
      "source": [
        "### How about the relationships between the tables?\n",
        "\n",
        "We present the relationships between the tables using an Entity Relationship (ER) diagram.\n",
        "\n",
        "<img src=\"https://tdmdal.github.io/mma-sql-2021/images/NW_ER.png\" alt=\"ER Diagram\" width=\"836\" height=\"605\" />\n",
        "\n",
        "In the above ER diagram, the tiny vertical key icon indicates a column is a primary key. A primary key is a column (or set of columns) whose values uniquely identify every row in a table. For example, `OrderID` is the primary key in the `Orders` table, and `OrderID` and `ProductID` (combined) is the primary key in the `OrderDetails` table.\n",
        "\n",
        "The relationship icon (a line with a horizontal key at one end and an infinite symbol at the other end) indicates a foreign key constraint and a one-to-many relationship. A foreign key is a column (or set of columns) in one table whose values uniquely identify a row of another table or the same table. A foreign key mostly refers to a primary key in another table. A foreign key constraint requires that the constrained column contain only values from the primary key column of the other table. For example `CustomerID` in the `Orders` table is a foreign key that refers to the `CustomerID` primary key in the `Customers` table, and it can only contain values that exist in the `CustomerID` column of the `Customers` table.\n",
        "\n",
        "In addition, it happens that every foreign key constraint in the Northwind DB establishes a one-to-many relationship, i.e. a row from one table can have multiple matching rows in another table. For example, one row from the `Customers` table can match multiple rows in the `Orders` table (via `CustomerID`). This makes sense as one customer can place more than one orders. (Another common relationship a foreign key constraint can establish is the one-to-one relationship.)\n",
        "\n",
        "|logo|meaning|\n",
        "|:------:|:------:|\n",
        "|![key logo](https://tdmdal.github.io/mma-sql-2021/images/key_vertical.png \"key logo\")|primary key|\n",
        "|![foreign key constraint](https://tdmdal.github.io/mma-sql-2021/images/relationship.png \"foreign key constraint\")|one-to-many foreign key contraint|\n",
        "\n",
        "**Question**: Why do we need foreign key constraints? (Discussion)\n",
        "\n",
        "You can find out relationships between tables by querying the `sqlite_master` table. See the code below.\n",
        "\n",
        "Of course, querying the `sqlite_master` table to find out relationships between tables is specific to SQLite. We would do it differently if we use other database management systems. For example, if we use MySQL system, we would query the `key_column_usage` table in the `information_schema` DB. See this stackoverflow [question](https://stackoverflow.com/questions/20855065/how-to-find-all-the-relations-between-all-mysql-tables).\n",
        "\n",
        "Alternatively, some SQL client tools can generate ER diagram for you. The above diagram is generated by SQL Server Management Studio (SSMS). The Northwind DB is a sample DB originally shipped with Microsoft SQL Server."
      ],
      "metadata": {
        "id": "h5EZYKPcP5iq"
      }
    },
    {
      "cell_type": "code",
      "execution_count": 6,
      "source": [
        "%%sql\n",
        "-- find out relationships between tables using SQL command\n",
        "SELECT sql\n",
        "FROM sqlite_master\n",
        "WHERE name = \"Orders\""
      ],
      "outputs": [
        {
          "output_type": "stream",
          "name": "stdout",
          "text": [
            " * sqlite:///northwind.sqlite3\n",
            "Done.\n"
          ]
        },
        {
          "output_type": "execute_result",
          "data": {
            "text/plain": [
              "[('CREATE TABLE [Orders] (\\n  [OrderID] INTEGER PRIMARY KEY AUTOINCREMENT NOT NULL\\n, [CustomerID] nchar(5) NOT NULL COLLATE NOCASE\\n, [EmployeeID] int  ... (719 characters truncated) ... E NO ACTION\\n, CONSTRAINT [FK_Orders_Shippers] FOREIGN KEY ([ShipVia]) REFERENCES [Shippers] ([ShipperID]) ON DELETE NO ACTION ON UPDATE NO ACTION\\n)',)]"
            ],
            "text/html": [
              "<table>\n",
              "    <thead>\n",
              "        <tr>\n",
              "            <th>sql</th>\n",
              "        </tr>\n",
              "    </thead>\n",
              "    <tbody>\n",
              "        <tr>\n",
              "            <td>CREATE TABLE [Orders] (<br>  [OrderID] INTEGER PRIMARY KEY AUTOINCREMENT NOT NULL<br>, [CustomerID] nchar(5) NOT NULL COLLATE NOCASE<br>, [EmployeeID] int NULL<br>, [OrderDate] datetime NULL<br>, [RequiredDate] datetime NULL<br>, [ShippedDate] datetime NULL<br>, [ShipVia] int NULL<br>, [Freight] money DEFAULT 0 NULL<br>, [ShipName] nvarchar(40) NULL COLLATE NOCASE<br>, [ShipAddress] nvarchar(60) NULL COLLATE NOCASE<br>, [ShipCity] nvarchar(15) NULL COLLATE NOCASE<br>, [ShipRegion] nvarchar(15) NULL COLLATE NOCASE<br>, [ShipPostalCode] nvarchar(10) NULL COLLATE NOCASE<br>, [ShipCountry] nvarchar(15) NULL COLLATE NOCASE<br>, CONSTRAINT [FK_Orders_Customers] FOREIGN KEY ([CustomerID]) REFERENCES [Customers] ([CustomerID]) ON DELETE NO ACTION ON UPDATE NO ACTION<br>, CONSTRAINT [FK_Orders_Employees] FOREIGN KEY ([EmployeeID]) REFERENCES [Employees] ([EmployeeID]) ON DELETE NO ACTION ON UPDATE NO ACTION<br>, CONSTRAINT [FK_Orders_Shippers] FOREIGN KEY ([ShipVia]) REFERENCES [Shippers] ([ShipperID]) ON DELETE NO ACTION ON UPDATE NO ACTION<br>)</td>\n",
              "        </tr>\n",
              "    </tbody>\n",
              "</table>"
            ]
          },
          "metadata": {},
          "execution_count": 6
        }
      ],
      "metadata": {
        "id": "k6UG5tFhgEgn",
        "colab": {
          "base_uri": "https://localhost:8080/",
          "height": 410
        },
        "outputId": "4dff9446-15f5-469e-c26e-c7854479c80a"
      }
    },
    {
      "cell_type": "markdown",
      "source": [
        "## Exercises\n",
        "\n",
        "**We will work on the problems with a * sign together.** Other problems are left for homework.\n",
        "\n",
        "## Part 1. Warm-up\n",
        "\n",
        "We review\n",
        "\n",
        "1. Retrieve data: `SELECT...FROM...`\n",
        "2. Sort retrieved data: `SELECT...FROM...ORDER BY...`\n",
        "3. Filter data: `SELECT...FROM...WHERE...`; `IN`, `NOT`, `LIKE` and `%` wildcard\n",
        "4. Create calculated fields: mathematical calculations (e.g. +, -, *, /); data manipulation functions (e.g. `DATE()`, `||`)"
      ],
      "metadata": {
        "id": "pCMJAERPP5i4"
      }
    },
    {
      "cell_type": "markdown",
      "source": [
        "### Ex1*. Which categories do we have?\n",
        "\n",
        "Display `CategoryName` and `Description` in the `Categories` table."
      ],
      "metadata": {
        "id": "DsN97oCBP5i5"
      }
    },
    {
      "cell_type": "code",
      "source": [
        "%sql SELECT CategoryName, Description FROM Categories;"
      ],
      "metadata": {
        "colab": {
          "base_uri": "https://localhost:8080/",
          "height": 247
        },
        "id": "sYNTL_y91ONa",
        "outputId": "92d48509-27b8-489a-ef49-d648b20b1a1e"
      },
      "execution_count": 7,
      "outputs": [
        {
          "output_type": "stream",
          "name": "stdout",
          "text": [
            " * sqlite:///northwind.sqlite3\n",
            "Done.\n"
          ]
        },
        {
          "output_type": "execute_result",
          "data": {
            "text/plain": [
              "[('Beverages', 'Soft drinks, coffees, teas, beers, and ales'),\n",
              " ('Condiments', 'Sweet and savory sauces, relishes, spreads, and seasonings'),\n",
              " ('Confections', 'Desserts, candies, and sweet breads'),\n",
              " ('Dairy Products', 'Cheeses'),\n",
              " ('Grains/Cereals', 'Breads, crackers, pasta, and cereal'),\n",
              " ('Meat/Poultry', 'Prepared meats'),\n",
              " ('Produce', 'Dried fruit and bean curd'),\n",
              " ('Seafood', 'Seaweed and fish')]"
            ],
            "text/html": [
              "<table>\n",
              "    <thead>\n",
              "        <tr>\n",
              "            <th>CategoryName</th>\n",
              "            <th>Description</th>\n",
              "        </tr>\n",
              "    </thead>\n",
              "    <tbody>\n",
              "        <tr>\n",
              "            <td>Beverages</td>\n",
              "            <td>Soft drinks, coffees, teas, beers, and ales</td>\n",
              "        </tr>\n",
              "        <tr>\n",
              "            <td>Condiments</td>\n",
              "            <td>Sweet and savory sauces, relishes, spreads, and seasonings</td>\n",
              "        </tr>\n",
              "        <tr>\n",
              "            <td>Confections</td>\n",
              "            <td>Desserts, candies, and sweet breads</td>\n",
              "        </tr>\n",
              "        <tr>\n",
              "            <td>Dairy Products</td>\n",
              "            <td>Cheeses</td>\n",
              "        </tr>\n",
              "        <tr>\n",
              "            <td>Grains/Cereals</td>\n",
              "            <td>Breads, crackers, pasta, and cereal</td>\n",
              "        </tr>\n",
              "        <tr>\n",
              "            <td>Meat/Poultry</td>\n",
              "            <td>Prepared meats</td>\n",
              "        </tr>\n",
              "        <tr>\n",
              "            <td>Produce</td>\n",
              "            <td>Dried fruit and bean curd</td>\n",
              "        </tr>\n",
              "        <tr>\n",
              "            <td>Seafood</td>\n",
              "            <td>Seaweed and fish</td>\n",
              "        </tr>\n",
              "    </tbody>\n",
              "</table>"
            ]
          },
          "metadata": {},
          "execution_count": 7
        }
      ]
    },
    {
      "cell_type": "code",
      "execution_count": 9,
      "source": [
        "# Just curious, what's in the picture column?\n",
        "result = %sql SELECT Picture FROM Categories;\n",
        "result.DataFrame().loc[2, 'Picture']"
      ],
      "outputs": [
        {
          "output_type": "stream",
          "name": "stdout",
          "text": [
            " * sqlite:///northwind.sqlite3\n",
            "Done.\n"
          ]
        },
        {
          "output_type": "execute_result",
          "data": {
            "text/plain": [
              "b\"\\x15\\x1c/\\x00\\x02\\x00\\x00\\x00\\r\\x00\\x0e\\x00\\x14\\x00!\\x00\\xff\\xff\\xff\\xffBitmap Image\\x00Paint.Picture\\x00\\x01\\x05\\x00\\x00\\x02\\x00\\x00\\x00\\x07\\x00\\x00\\x00PBrush\\x00\\x00\\x00\\x00\\x00\\x00\\x00\\x00\\x00\\xa0)\\x00\\x00BM\\x98)\\x00\\x00\\x00\\x00\\x00\\x00V\\x00\\x00\\x00(\\x00\\x00\\x00\\xac\\x00\\x00\\x00x\\x00\\x00\\x00\\x01\\x00\\x04\\x00\\x00\\x00\\x00\\x00\\x00\\x00\\x00\\x00\\x88\\x0b\\x00\\x00\\x88\\x0b\\x00\\x00\\x08\\x00\\x00\\x00\\x08\\x00\\x00\\x00\\xff\\xff\\xff\\x00\\x00\\xff\\xff\\x00\\xff\\x00\\xff\\x00\\x00\\x00\\xff\\x00\\xff\\xff\\x00\\x00\\x00\\xff\\x00\\x00\\xff\\x00\\x00\\x00\\x00\\x00\\x00\\x00\\x1130sW7ww\\x04\\x00\\x00\\x00\\x00\\x00\\x00\\x00``\\x00\\x02R\\x00\\x00\\x14\\x13\\x13\\x151\\x17\\x16\\x03pp\\x02\\x12@\\x16\\x10u7\\x16\\x17cu\\x065qrQ!q5qp\\x1757\\x16\\x00\\x00\\x02R\\x14\\x00 p\\x00\\x00\\x12Cagwww\\x1733sqqw777w\\x00\\x00\\x11\\x11\\x13\\x130\\x13\\x13Wsw\\x00\\x00\\x00\\x00\\x00\\x00\\x10\\x00\\x00P\\x04\\x00\\x063\\x11113\\x10pPsC\\x00@\\x00\\x00\\x03\\x07\\x07aat3QCVSuqw1qw\\x17\\x16\\x16qp`@vwgugpd%47\\x17wwssWS\\x17777SSs7\\x113\\x13\\x11\\x11\\x11\\x1111#Ww\\x00\\x00Cq \\x06vwsgwwq\\x111S\\x13\\x11wsw\\x07pC\\x12Sapqq\\x17wsV7775cwqw7\\x13tsW\\x16w\\x17\\x07qw5cw\\x00\\x01gwGgwsu1373Ssq77\\x17S\\x11\\x11110\\x13\\x13\\x16\\x13\\x11\\x12\\x16057\\x13P\\x00wSGqw1\\x117\\x131q3\\x17wwwpsGrQawww\\x17wsRWWw5swqu7S1swq`'wgwww\\x0465g7\\x17su33qq575ssSw7\\x13\\x11\\x12q\\x13\\x1101p\\x13\\x11\\x11\\x11\\x13\\x111g\\x00sgwvw\\x173\\x111\\x13\\x13Q7wwww\\x14pwv\\x16wwwwqu7su7sW\\x17wsW7W\\x075wwVwwvww\\x03ecWwgu3u573sqssS7sw11\\x11\\x1210\\x13\\x13\\x13\\x1011111q\\x17pGvpwsSS13S\\x131\\x17wwwwcwqwqwwwwwsSW7wWww7wsS55Ssw7wwwwwaw\\x167SW3S33\\x13S\\x1777S7\\x13\\x177\\x12q\\x13\\x11\\x1115!13\\x10\\x11!1\\x17\\x137\\x007\\x177wq11\\x17\\x111q\\x13\\x17wwww\\x17w\\x16wwwwwwwwwsSSw7wwwwwWs6Wwwwwwwg\\x16\\x06wtvs\\x177\\x17\\x11s73SswqwwS\\x11\\x121\\x03\\x12\\x11\\x13\\x13\\x03q\\x13\\x13\\x17\\x113\\x13\\x140GvWg\\x17\\x17\\x153\\x13\\x13\\x1317wwwwvwww47wwwwwCuwwsWwwwww75u0sWwwwww`qww71sqs73S\\x177\\x17s\\x13s77\\x13\\x11\\x1311\\x1305\\x11\\x13\\x01S1\\x13\\x111sC\\x07www113\\x11q51S\\x13wwww57wwwwwwwwwu7sqwwwwwwwww7wwgwwwww\\x17\\x06\\x16\\x17qs13s\\x13\\x173qsw775sw1\\x03\\x11\\x13\\x13\\x1012\\x13\\x013\\x07\\x13\\x111\\x13\\x13\\x00\\x06\\x17'qs\\x17\\x1713\\x13\\x13\\x11\\x117wwwwwW\\x17Swwwwww6Ruw\\x177WwWwwRWSqqww56\\x17w%5%ag\\x1775531q7\\x177qqsu7\\x1311!\\x01\\x13\\x13\\x111\\x13\\x1511\\x13\\x13q1\\x00\\x00`Ag\\x1111\\x17\\x111q11\\x17wwwSSsw6SWw\\x177su7RvwW7w7swwsgWwqwwwv\\x16R\\x065753\\x13\\x173q33Ssu7777s\\x11\\x13\\x11\\x13\\x13\\x110\\x13\\x12\\x13\\x03101\\x13\\x13\\x17\\x01\\x07\\x01'\\x013S\\x1311q1\\x13\\x111qw77w5qu7sRvWvRt7\\x17\\x17sw7wwsw7Scqwww\\x07\\x17w\\x16SRsS1ss\\x17\\x13qq3qsw1qw71!\\x13\\x11\\x11\\x12\\x110111\\x03\\x13\\x13151`\\x00vPw\\x111qS\\x13\\x13\\x13\\x111\\x17wwwqqcv7wvwSqss\\x13aacGwWqwuwWwug\\x07W\\x17wcSa47G3S\\x13\\x17713\\x1353ss\\x13ssS\\x11\\x13\\x11\\x03\\x11\\x111\\x11\\x13\\x01s\\x11\\x1513\\x13\\x13\\x11 \\x01%\\x071q31q1q1\\x13\\x13wsWw7u7SCSswvuue7SW6\\x177wswsw5w7w6wwwgv\\x17Cqs3s1ss\\x1353Su7q3S7\\x13\\x11\\x11\\x11\\x01101!s\\x10s\\x13\\x10q114\\x10v\\x12w\\x13\\x13SS\\x13S\\x13\\x1115sussSSu7wwVwCRrSG445vwSuw7WwsW\\x17w\\x17\\x17\\x17\\x17qpqg1q1s571s\\x113\\x13s3q7\\x13\\x11\\x033\\x13\\x13\\x111\\x11\\x111\\x131!3\\x13\\x13\\x13P0qe\\x011111S\\x13\\x1111suswuwwst7w7\\x177wu6sCqwsSww7Wsswwwwwwww\\x16w6SS371ss\\x13\\x13\\x13571\\x13\\x1313\\x11\\x11\\x11!50\\x1103\\x103S\\x13\\x11\\x1311!agss\\x13Ss\\x1311\\x13S\\x11wswwssqu7qwwwwwrSW464wwwwwsuwWwwwwwwww\\x16W73\\x17\\x13\\x17\\x17\\x17317\\x131s13\\x13\\x133\\x131\\x13\\x03\\x131\\x11\\x131\\x113\\x173\\x11S\\x13qu7wqq1\\x17\\x11\\x17\\x17111\\x17wwwwuw7qwwwwwwwv4wWswwwwwwsw7swwwwwwww7w\\x171333sS\\x13\\x1313\\x133\\x1311\\x11!w3\\x131\\x1014\\x13s\\x051\\x0511qw7ww\\x13\\x13Sq3q111\\x117wwwwswwwwwwwwwu5wwwWwwwwwwwwwwwwwwwwwwww3\\x13q5573\\x131113\\x11\\x10\\x1011\\x13w\\x01q\\x01\\x13\\x11111s13113ww\\x17w1s\\x13\\x111\\x13\\x17\\x17\\x111\\x17wwwwwwwsqwwwww7w7777ww7wwuwwwwwwwwwwsWwq13\\x13\\x133\\x13s\\x13\\x13\\x13\\x111\\x11\\x01\\x01\\x11w3q`\\x07q!0\\x110S\\x13\\x17\\x11C\\x17\\x117www\\x13\\x17\\x13\\x13\\x17111q\\x13\\x17wwwwwwwwwwwwsWw7wwtw\\x077wqsssuwwwwwwwwwwW73\\x13\\x1311751\\x13\\x101\\x133\\x11\\x11\\x11w\\x01gp\\x00\\x07\\x15\\x13\\x13\\x131513\\x13\\x131\\x17w7u111517\\x13\\x13\\x13\\x11\\x17wwww7wwww555wsww\\x17sw7usqwwwu7wwwwwwwwwswsS\\x1311113s\\x111\\x10\\x11\\x111\\x111q`ww\\x00\\x00r\\x11\\x11\\x11\\x13C7\\x1111\\x137qww51q\\x137\\x13\\x10\\x11q\\x13\\x17wwwwwwwu7www7wSSw5qw7wwwu7ww5wswwwwwwwwq3133\\x13\\x13\\x13\\x13\\x11\\x01\\x01\\x111\\x111\\x11gpwp\\x00\\x00\\x00\\x00\\x03711\\x013SS7\\x13wss\\x13\\x13\\x13\\x13Q51611wwwwwwsqsusw7w777qs71w7Sssw7ww7wu7wwwwww73\\x13\\x11\\x1113\\x133\\x13\\x11\\x11153S\\x13ww44\\x00\\x00\\x00\\x00\\x00\\x01\\x13\\x111\\x111!\\x11qsWq1q113\\x13\\x17\\x17S\\x11wwwwwsu7wsw\\x17qqqqq7\\x07S\\x17SW757\\x17w77w\\x177ww7wwwwq1s\\x133\\x13\\x110\\x13111\\x113w7qwp\\x13Sp\\x00\\x00\\x00\\x00\\x03\\x117\\x13\\x12\\x13\\x13\\x13\\x13\\x177\\x13q1\\x13\\x17\\x171q1q17wwssW7w57\\x17q7777\\x17q353r1qsSswuwwwww7wwwwww3\\x131\\x13\\x11\\x11\\x13\\x10\\x13\\x13\\x13\\x17W\\x171s44\\x10\\x11\\x13\\x13A\\x00\\x00\\x04\\x13q5151577S5\\x13\\x171q1\\x17\\x13Sw\\x17ww7wW7uw\\x177swwsSS3\\x17\\x17\\x13S\\x11\\x17757\\x175777wsqqswwwww13\\x13\\x1111\\x11\\x11\\x111\\x11s3sW\\x13\\x13S\\x13\\x13\\x01\\x11\\x13C\\x03Sc\\x13\\x13\\x17\\x131\\x131q7\\x133\\x13\\x113\\x13151c\\x11w7wSwws17\\x1751!\\x0111qqq1!\\x133\\x13\\x131!\\x13wwSswwwuswwww\\x13131\\x11\\x00\\x01\\x01\\x11\\x1101\\x17qs1\\x10\\x11\\x11\\x11\\x11\\x03\\x111u%u1s\\x111S\\x03S7q551s\\x171S\\x13\\x17\\x153\\x15wsw757SSqsS\\x113\\x13\\x13\\x1311\\x01\\x10\\x11\\x0111\\x13\\x13\\x10\\x13\\x13w5sswsw\\x17swwq\\x13111\\x11\\x11\\x13\\x131\\x13\\x13q77\\x13\\x13\\x13\\x13\\x011\\x111\\x13\\x13ssq\\x177\\x13\\x13\\x13\\x17\\x13w\\x13\\x13\\x13\\x151s\\x13S\\x13sQ3SWwWw\\x1371s\\x13\\x133\\x13\\x12\\x11\\x1111\\x10\\x11\\x011\\x11\\x11\\x11\\x11\\x13\\x13\\x031su7swwsWsws13\\x13313\\x1313\\x10\\x11\\x17\\x17\\x171\\x11\\x11\\x11\\x13\\x03\\x11\\x111557sq\\x131!q17\\x13q1537\\x13q1q\\x177\\x111773\\x13qs\\x13\\x1311\\x11\\x11\\x11\\x13\\x03\\x01\\x01!\\x01\\x11\\x11\\x00\\x10\\x10\\x10\\x11\\x11\\x11\\x1013q577u0wws\\x13\\x1111313\\x13\\x11113swS\\x13\\x01\\x101\\x110\\x13\\x13\\x13\\x17ww\\x137\\x17\\x13\\x13\\x1111\\x13Ss1q7\\x13\\x13\\x10qq\\x13\\x111\\x13Ww\\x13q\\x13\\x11\\x11\\x01\\x01\\x10\\x11\\x01\\x11\\x111\\x11\\x13\\x10\\x00\\x11\\x11\\x01\\x01\\x00\\x00\\x10\\x11\\x11!\\x13\\x13wwsw0sw\\x13\\x13\\x113\\x10\\x13\\x1113q11\\x11q1\\x11\\x13\\x13P1\\x131p501w511q1q\\x13\\x1711\\x11q\\x13q1511!1q\\x1511\\x13s\\x1310\\x10\\x10\\x10\\x01\\x01\\x10\\x10\\x10\\x11\\x10\\x10\\x11\\x11\\x00\\x01\\x11\\x01\\x01\\x01\\x01\\x01\\x01\\x10\\x11\\x111sw5wW\\x07q\\x11\\x13\\x11\\x01\\x013\\x13q31\\x131\\x10\\x17\\x101\\x13\\x13R\\x11R\\x13\\x13\\x13\\x13\\x13\\x13\\x17\\x13\\x13S\\x03\\x13\\x1153s7\\x117\\x17\\x13\\x13\\x13\\x17\\x13\\x1311\\x13\\x1311\\x01\\x13\\x11\\x111\\x13\\x01!\\x11\\x11\\x1011\\x01!\\x13\\x10\\x01\\x10\\x10\\x10\\x10\\x10\\x10\\x11\\x00\\x01\\x137\\x17w7sqs\\x13\\x11\\x11\\x10\\x10\\x11\\x17753533\\x13\\x13P\\x10\\x13\\x11\\x161\\x13\\x17551sS531151151q713\\x13\\x17\\x17\\x13\\x11\\x11\\x11\\x11\\x11\\x11\\x10\\x10\\x11\\x01\\x01!\\x01!\\x11\\x11\\x01\\x01\\x01\\x10\\x11\\x13\\x11\\x01\\x01\\x10\\x01\\x10\\x11\\x03q\\x01\\x12\\x11\\x01\\x01\\x11ssw7we1\\x13\\x10\\x11\\x03\\x13qs\\x1353513\\x13\\x13\\x13\\x17\\x13\\x13\\x110s\\x13\\x031!3S\\x13SS\\x13\\x13\\x03S\\x173q\\x1555111\\x13\\x13\\x13\\x13\\x13\\x17\\x01\\x01\\x10\\x11\\x11\\x111\\x11\\x10\\x10\\x10\\x10\\x11\\x01\\x10\\x10\\x101\\x10\\x10\\x11\\x01\\x105\\x13\\x10\\x155\\x01\\x01\\x127\\x17Sww\\x13w\\x11\\x110\\x11\\x13\\x1313S3Ss1\\x10\\x13\\x111\\x01!7\\x13\\x1011\\x13\\x13\\x173Q15!3S1qq\\x17313\\x13\\x13\\x13\\x11\\x11\\x11\\x11!\\x131\\x13\\x01\\x10\\x10\\x10\\x10\\x11\\x01\\x10\\x10\\x10\\x00\\x10\\x11\\x01\\x10\\x10\\x13\\x03\\x00\\x10\\x13\\x101\\x13\\x13\\x13S\\x10\\x11\\x13s7\\x13SpRq1\\x11\\x1333\\x13S3S3\\x17\\x13\\x13\\x17s\\x073Q\\x12\\x151qrSSq\\x111q3\\x13Q503s1qs\\x17\\x17\\x11111\\x131\\x10\\x17R\\x10\\x12\\x11\\x01\\x01\\x11\\x00\\x10\\x10\\x10\\x01\\x10\\x10\\x00\\x10\\x11\\x11!\\x11\\x11\\x10\\x10\\x13\\x17\\x01p\\x1001!\\x0153swsqG\\x13\\x1311\\x1131s5771\\x111\\x11q\\x153\\x113\\x133\\x1111\\x03\\x17\\x13\\x13\\x11q3\\x13\\x17\\x157\\x17\\x13qq111\\x1311\\x10\\x1111\\x13\\x11\\x10\\x11\\x10\\x10\\x11\\x11\\x01\\x01\\x10\\x01\\x00\\x11\\x01\\x01\\x01\\x1110\\x13\\x17\\x01\\x01\\x13\\x13\\x13\\x11\\x11\\x11\\x133\\x17\\x131ww211\\x13\\x10\\x03\\x13\\x1313113s\\x07\\x13\\x1101\\x03\\x11!53\\x1711\\x13\\x13\\x17\\x171q%13517\\x13\\x13\\x13\\x13\\x111\\x11\\x01\\x01551\\x01\\x01\\x01\\x11\\x01\\x01\\x10\\x10\\x10\\x10\\x01\\x11\\x01\\x00\\x10\\x10\\x11\\x12\\x10\\x11\\x011111\\x01\\x01\\x01\\x03\\x12\\x11\\x11\\x135\\x171wu\\x07\\x11\\x11\\x10113\\x131\\x1371\\x11q\\x11\\x03\\x13\\x1157\\x17\\x13A1\\x07\\x11!\\x111111\\x13SW\\x13sSq11\\x11\\x03\\x10\\x10\\x13S\\x111!\\x11\\x10\\x10\\x10\\x10\\x11\\x01\\x01\\x01\\x01\\x10\\x00\\x10\\x11\\x01\\x01\\x10\\x11\\x11\\x011\\x01\\x01\\x13\\x01\\x13\\x11\\x13\\x11\\x110\\x101\\x131s57ps1\\x11\\x13\\x10\\x111\\x1311q\\x13\\x11s\\x17\\x153\\x13\\x13\\x13\\x131s\\x137\\x13\\x12\\x17\\x13SS\\x12\\x131q\\x1753S\\x13\\x13\\x11\\x11\\x11\\x03\\x11!\\x11\\x13\\x01\\x01\\x11\\x01\\x10\\x10\\x10\\x10\\x11\\x10\\x11\\x10\\x10\\x01\\x10\\x10\\x13\\x1011\\x01\\x11\\x11\\x01\\x12\\x10\\x10\\x10\\x12\\x10\\x13\\x11\\x03\\x113\\x177sw\\x07q1\\x11\\x113\\x13\\x010\\x13\\x13\\x11\\x03\\x1111\\x011111\\x1151q51q511\\x115\\x17\\x13s\\x17\\x171sw3\\x01\\x011\\x13\\x13\\x03\\x11\\x11\\x10\\x10\\x10\\x13\\x01\\x03\\x01\\x12\\x11\\x01\\x01\\x01\\x10\\x10\\x11\\x01\\x03\\x10\\x10\\x10\\x10\\x10\\x10\\x11\\x11\\x01!\\x11\\x111!\\x11\\x03\\x11s\\x13\\x17\\x17\\x12w103\\x11!\\x01\\x0111s\\x17\\x13\\x11\\x13\\x17\\x01a`\\x173s53\\x13113\\x17\\x13\\x03S751s3\\x17qs\\x11\\x111\\x13\\x01\\x111\\x03\\x03\\x01\\x01\\x01\\x10\\x13\\x11\\x11\\x01\\x10\\x10\\x11\\x13\\x00\\x10\\x10\\x111\\x111\\x11\\x01\\x00\\x11\\x01\\x00\\x10\\x11\\x01\\x01\\x01\\x13\\x10\\x1131qswpwwWu1\\x11\\x11\\x13\\x01\\x17\\x111pp`pp\\x00\\x05 \\x01\\x01s\\x171SSQs\\x11q51s\\x17\\x17Ws7\\x171\\x03\\x13\\x01\\x10\\x11\\x01\\x11\\x111\\x11\\x10\\x11\\x11\\x01\\x03\\x10\\x13\\x11\\x01\\x010\\x00\\x01\\x01\\x10\\x10\\x12\\x10\\x10\\x11\\x00\\x10\\x11\\x01\\x10\\x10\\x11\\x00\\x10\\x13\\x11\\x11\\x13\\x1351wWw7sw\\x13\\x13\\x11\\x117\\x13\\x11wwwww\\x16pSG%51s\\x13\\x13171\\x13SS\\x17\\x13s1wS1\\x13Q\\x01\\x11\\x01\\x01\\x11\\x01\\x01\\x00\\x10\\x11\\x01\\x011\\x10\\x13\\x10\\x10\\x11\\x01\\x11\\x01\\x01\\x10\\x13\\x13\\x11\\x10\\x10\\x00\\x10\\x10\\x01\\x10\\x10\\x10\\x01\\x11\\x01\\x00#\\x00\\x111\\x13w\\x13p7wwwwww7wppw%wwwa\\x0640Rw555571sq7\\x13q7\\x17w11\\x0113\\x13\\x10\\x11\\x10\\x10\\x11\\x11\\x111\\x01\\x13\\x11\\x10\\x11\\x10\\x111\\x01\\x17\\x00\\x10\\x11\\x01\\x01\\x01\\x10\\x11\\x01\\x01\\x00\\x10\\x10\\x01\\x01\\x01\\x00\\x00\\x11\\x03\\x13q\\x01\\x13s\\x13\\x17\\x17wpwsuuwWwwwww6wv\\x10qwu sSsq1qw5557\\x1717\\x13\\x13\\x10\\x13\\x01\\x11\\x11\\x01\\x10\\x01\\x01\\x01\\x01\\x10\\x101\\x10\\x10\\x11\\x01\\x01\\x10\\x10\\x10s\\x111\\x10\\x11\\x10\\x11\\x01\\x00\\x10\\x10\\x01\\x01\\x01\\x01\\x13\\x01\\x03\\x110\\x11\\x0730\\x1317sw\\x07wtwsw47Ww%wwwww\\x07vp6W\\x177u757\\x13S\\x13sSs\\x17\\x13s\\x11\\x011\\x13\\x03\\x017u1\\x10\\x11\\x10\\x11\\x11\\x10\\x11\\x11\\x01\\x10\\x10\\x11\\x11\\x11q\\x01\\x00\\x01\\x01\\x01\\x10\\x11\\x11\\x01\\x01\\x01\\x00\\x10\\x11\\x01\\x111\\x12\\x11\\x003\\x13\\x11\\x01\\x13\\x11\\x17\\x17qwsuwwwSwwwgvwgwpw\\x16Ssqq7\\x17\\x13Sw7qqq53\\x11\\x131\\x110\\x11\\x11\\x13\\x137wQ\\x00\\x11\\x01\\x01\\x11\\x00\\x10\\x10\\x11\\x01\\x01\\x01\\x013\\x11\\x11\\x10\\x10\\x10\\x11\\x01\\x01\\x00\\x11\\x00\\x10\\x10\\x10\\x10\\x10\\x12\\x11\\x01\\x10\\x01\\x10\\x10\\x10\\x11\\x03757wwwwwWwwwwwwwwwppw5577ssw51qw773\\x1111\\x10\\x17\\x110\\x01\\x01\\x10\\x11\\x13s1\\x00\\x10\\x11\\x01\\x11\\x01\\x01\\x00\\x10\\x10\\x11\\x10\\x11\\x01\\x01\\x01\\x01\\x01\\x10\\x10\\x10\\x11\\x00\\x11\\x101\\x10\\x10\\x11\\x11\\x01\\x10\\x01\\x10\\x01!\\x10\\x101\\x177u'wswwsWwgvwwwwwpRS\\x137\\x17\\x1757\\x13\\x17\\x1773Sqq3\\x11\\x1313\\x11\\x01\\x11\\x11\\x0111\\x03Wq\\x00\\x10\\x10\\x10\\x10\\x10\\x11\\x00\\x11\\x01\\x01p\\x11\\x10\\x10\\x11\\x01\\x00\\x10\\x10\\x10\\x11\\x10\\x00\\x11\\x01\\x01\\x00\\x10\\x10\\x01\\x11\\x01\\x11\\x11\\x01\\x00\\x103S\\x17wutwwwwSww\\x17%pwww%1qSssssqswSWqssQ1\\x11\\x11\\x01\\x13\\x10\\x10\\x01\\x11\\x01\\x03\\x1013q\\x01\\x10\\x10\\x10\\x01\\x00\\x11\\x00\\x10\\x101\\x01\\x01\\x01\\x00\\x10\\x01\\x01\\x01\\x01\\x01\\x01\\x111\\x11\\x10\\x11\\x01\\x01\\x11!\\x10\\x01\\x01\\x13\\x11\\x11\\x111#ww7Wwuwwww\\x04rW\\x07Ce1q77\\x17qsu557v77\\x17\\x133\\x13\\x13\\x11\\x11\\x01\\x11\\x11\\x010\\x11\\x11\\x13\\x10\\x11\\x130\\x10\\x10\\x11\\x00\\x10\\x01\\x10\\x11\\x01\\x11\\x01\\x01\\x01\\x10\\x11\\x10\\x10\\x11\\x11\\x10\\x10\\x13\\x010\\x11\\x01\\x10\\x10\\x01\\x10\\x11\\x11\\x10\\x11\\x10\\x13\\x13\\x01\\x17Sww7wwww\\x17%\\x075 qwSC\\x13SSs\\x175\\x13swpquss1\\x11\\x11\\x11\\x13\\x01\\x11\\x01\\x01\\x11\\x01\\x101\\x01\\x13\\x10\\x10\\x13\\x11\\x01\\x00\\x11\\x01\\x10\\x01\\x10\\x11\\x03\\x10\\x01\\x01\\x01\\x00\\x11\\x01\\x100\\x11\\x110\\x11\\x01\\x10\\x11\\x01\\x01\\x10\\x01\\x01\\x01\\x01\\x10\\x11\\x10\\x10\\x10q7\\x17wwwww\\x17\\x04r\\x07BWv46q%151qswWW\\x07ssu1\\x111111\\x10\\x10\\x11\\x10\\x10\\x11\\x01\\x10\\x13\\x01\\x01\\x11\\x01\\x01\\x11\\x01\\x10\\x11\\x01\\x13\\x01\\x10\\x11\\x01\\x10\\x10\\x10\\x01\\x01\\x11\\x01\\x11\\x101\\x01\\x10\\x11\\x01\\x10\\x11\\x01\\x01\\x13\\x13\\x10\\x10\\x01\\x01\\x01\\x11\\x13\\x11qwquwu5w\\x075\\x12u4qww\\x07S\\x17Sw7\\x17sw7sSWww1\\x111\\x13\\x131\\x01\\x01\\x01\\x01\\x01\\x10\\x11\\x01\\x11\\x10\\x01\\x10\\x10\\x10\\x10\\x01\\x01\\x01\\x01\\x11\\x01\\x01\\x10\\x00\\x10\\x10\\x10\\x10\\x10\\x10\\x10\\x11\\x01\\x11\\x01\\x01\\x10\\x01\\x10\\x10\\x10\\x11\\x13\\x13\\x01\\x10\\x10\\x11\\x01\\x0101wwsCwww\\x07BacC\\x06\\x16\\x17pvrqqwwwwwwg7sqq1\\x13\\x11\\x11\\x13\\x11\\x01\\x01\\x10\\x10\\x01\\x01\\x11\\x01\\x11\\x10\\x11\\x01\\x011\\x01\\x10\\x10\\x10\\x10\\x10\\x10\\x11\\x10\\x11\\x01\\x11\\x01\\x01\\x11\\x01\\x01\\x10\\x10\\x10\\x10\\x11\\x10\\x11\\x01\\x10\\x10\\x11\\x11\\x10\\x101\\x01\\x10\\x12\\x11w\\x17wwuwww\\x12uRWwwww\\x0755vwwwwwwqsW5ss\\x13\\x11\\x10\\x12\\x11\\x10\\x10\\x10\\x11\\x01\\x11\\x11\\x00\\x11\\x01\\x01\\x00\\x10\\x10\\x11\\x10\\x01\\x01\\x11\\x01\\x10\\x10\\x10\\x01\\x00\\x10\\x10\\x11\\x11\\x01\\x01\\x10\\x11\\x01\\x01\\x01\\x00\\x11\\x01\\x10\\x01\\x03\\x10\\x11\\x01\\x01\\x00\\x11!\\x11\\x17swwwwwwWac'wwwwwwVwsWwwwwwwu7w5511\\x00\\x11\\x11\\x01\\x10\\x11\\x00\\x11\\x00\\x10\\x11\\x10\\x10\\x11\\x11\\x00\\x11\\x10\\x10\\x11\\x11\\x00\\x11\\x00\\x10\\x11\\x01\\x01\\x01\\x01\\x10\\x10\\x11\\x11\\x01\\x10\\x11\\x101\\x11\\x10\\x10\\x107\\x17\\x13\\x10\\x11\\x13\\x11\\x10\\x11\\x10s\\x13SwqquwwRWPwwwwwsswwswwwwwwswsw3\\x13\\x10\\x111!\\x13\\x01\\x00\\x11\\x00\\x11\\x01\\x00\\x01\\x01\\x00\\x10\\x11\\x01\\x01\\x01\\x10\\x10\\x11\\x10\\x11\\x01\\x01\\x10\\x01\\x01\\x11\\x01\\x01\\x01\\x010\\x13\\x12\\x11\\x01a\\x01\\x01!q0\\x11\\x01\\x01\\x01\\x01\\x01\\x1011qwqwww\\x17\\x17'ww'wwwwtwwwwwwwwwww\\x1757S1\\x01\\x01\\x01\\x12\\x11\\x10\\x11\\x01\\x11\\x01\\x01\\x11\\x01\\x01\\x11\\x01\\x01\\x01\\x01\\x01\\x01\\x01\\x00\\x01\\x01\\x01\\x00\\x10\\x10\\x10\\x01\\x11\\x01\\x10\\x10\\x11\\x01\\x11\\x011\\x13q1\\x15%\\x11\\x01\\x10\\x10\\x10\\x13\\x10\\x11\\x111\\x03\\x17wRW7wwPwvWwwwwwwwwwwwwwwww7sq7\\x13\\x13\\x10\\x17\\x11\\x10\\x01\\x00\\x11\\x01\\x11\\x10\\x10\\x10\\x10\\x00\\x10\\x10\\x10\\x11\\x10\\x10\\x10\\x110\\x10\\x10\\x11\\x01\\x01\\x01\\x11\\x01\\x10\\x10\\x11\\x01\\x11\\x01\\x13\\x13\\x11\\x11\\x17\\x03\\x13\\x03\\x10\\x11\\x01\\x01\\x01\\x01\\x10\\x10\\x101u7wwWwww'57wwwww7wwwwwwwwww57Sq5q\\x011!\\x01\\x11\\x01\\x10\\x11\\x01\\x01\\x01\\x01\\x00\\x11\\x10\\x11\\x01\\x10\\x00\\x10\\x11\\x11\\x01\\x11\\x01\\x00\\x00\\x10\\x11\\x10\\x11\\x01\\x10\\x10\\x10\\x1010\\x10\\x11!!54\\x11\\x01\\x10\\x11\\x01\\x11\\x11!\\x11\\x13\\x157u7SwSWvWCGwwwwwWwwwwwwwwww7\\x133\\x13\\x13555\\x13\\x10\\x00\\x11\\x01\\x0111\\x10\\x10\\x11\\x00\\x01\\x01\\x01\\x01\\x11\\x01\\x10\\x01\\x10\\x10\\x10\\x03\\x11\\x01\\x10\\x11\\x01\\x10\\x11\\x01\\x01\\x11\\x10\\x115!\\x11S\\x11\\x13p\\x11\\x01\\x10\\x10\\x01\\x01\\x110\\x113\\x17wWwwww57t7wwwwwsw77wwwwwwwWqq1ws\\x173\\x101\\x11\\x01\\x01\\x10\\x11\\x01\\x11\\x01\\x01\\x11\\x10\\x10\\x11\\x10\\x10\\x10\\x11\\x10\\x111\\x11Www7\\x01\\x10\\x11\\x01\\x01\\x10\\x01\\x01\\x0111a56\\x11\\x13\\x050\\x10\\x11\\x10\\x10\\x11\\x01\\x03\\x17\\x01w7wwwwCG\\x03Ag6\\x17Ww'Wwwwwwwwwwss\\x13\\x131\\x117\\x151\\x111\\x11\\x10\\x11\\x10\\x11\\x01\\x10\\x10\\x10\\x111\\x01\\x01\\x01\\x11\\x01\\x01\\x03\\x01\\x07sw7w\\x10\\x11\\x01\\x10\\x10\\x11\\x10\\x111\\x11S\\x13S\\x1165\\x13\\x01q\\x01\\x01s\\x10\\x111q7wWwwwwt746uerw7Wswwwwwwwww77\\x13\\x10\\x111\\x17\\x13\\x10\\x105\\x01\\x01\\x01\\x01\\x10\\x11\\x011\\x07\\x10\\x10\\x11\\x10\\x11\\x00\\x10\\x13\\x11\\x11w7wWs\\x13\\x00\\x01\\x01\\x11\\x01\\x011\\x01!3\\x17\\x13C\\x11\\x117\\x17!ps\\x11\\x01\\x13\\x13\\x13\\x17ww\\x17www\\x03AAasswvwswwwwwwwwwwwwq11\\x03\\x03\\x1011\\x13\\x17ss\\x01\\x01\\x01\\x11\\x0111\\x11\\x01\\x01\\x10\\x11\\x01\\x01\\x01\\x017sw'\\x17\\x011\\x10\\x10\\x00\\x10\\x11\\x011\\x13\\x11\\x03q5\\x03\\x17\\x011S\\x13\\x15!\\x11\\x011\\x12uwwwWww46!agVu5wwwwwwwwwwwwqssS\\x13\\x11\\x151\\x10\\x11\\x077wu7\\x13\\x1011\\x17wq1\\x10\\x11\\x01\\x10\\x11\\x11\\x10su!qs\\x10\\x10\\x13q1\\x01\\x01\\x11\\x03\\x11\\x01q\\x01\\x13\\x1411S\\x11q3\\x13\\x01\\x10\\x13\\x1177wwwwwAaRPqcRw7wwwwwwwwwwwww110\\x10s\\x01\\x03\\x10\\x13Q3S\\x175\\x11\\x11\\x1053\\x17\\x17\\x01p\\x10\\x10\\x10\\x01\\x01\\x17\\x13Ssq\\x01\\x1157u\\x10\\x10\\x10\\x11\\x10\\x17\\x13\\x11\\x03S\\x17\\x13\\x010\\x11\\x10\\x11\\x10\\x11\\x10\\x13WwWwwww!a\\x02RwwwwwwwwwwwwwwwwssWsQ1\\x11\\x11\\x11\\x01\\x10\\x13\\x153S\\x170\\x105\\x13\\x01\\x011\\x13\\x11\\x11\\x01\\x01\\x11w'w7wq\\x01\\x12\\x11%77\\x13\\x01\\x01\\x030\\x11\\x03\\x17\\x13\\x1151\\x11\\x13\\x07\\x11!\\x0117wWwwwwwRPu4wwwwwwwwwwwwwwwwwW3\\x137\\x17s\\x01\\x01\\x12\\x11\\x01\\x03\\x155\\x12\\x131\\x13A\\x110\\x17\\x11!%\\x11\\x12\\x17\\x13Q7sS\\x13\\x12\\x111\\x110Sww\\x175\\x11\\x01\\x01!1p\\x10\\x13\\x03\\x01\\x11!\\x17\\x11\\x01\\x017wsWwww\\x02RvsGwwwwwwww7wwwwwww7qq\\x131u1\\x12\\x11\\x011\\x111\\x12\\x17\\x11R\\x111!Q1%\\x11\\x13\\x03\\x11\\x12Q4\\x11ww\\x01\\x11\\x10\\x101\\x13\\x10\\x13Sq\\x12\\x101\\x11qR\\x13\\x13\\x10\\x11\\x10\\x11\\x101q3\\x13WsWwwwwu4st7ww7wswwwwwwwwwww7\\x177553\\x10\\x11\\x10\\x10\\x10\\x12\\x10q\\x11\\x03\\x11\\x10\\x11\\x113\\x11\\x13\\x12\\x11\\x11\\x03\\x011\\x03\\x12\\x1311\\x01\\x01\\x01\\x10\\x10S51\\x12\\x11\\x13\\x10\\x12\\x13\\x11\\x11\\x10\\x11\\x01\\x01\\x10\\x13S\\x13\\x11\\x117www55wvsuwwwwwwwwwwwwwwwwwwws\\x13\\x13\\x130S\\x11\\x01\\x11\\x011\\x13\\x11!1\\x01!\\x101%\\x101\\x01\\x11\\x015\\x17\\x10\\x10\\x11\\x11\\x01\\x00\\x11\\x01\\x11\\x011\\x13Q1q\\x110\\x151\\x110\\x12\\x11\\x10\\x11\\x01\\x01\\x011\\x13\\x01%wwwWww7stwcGwwwwwwswwwwwwwww7wq11S\\x01\\x01\\x13\\x011\\x111!\\x11\\x011\\x111\\x11\\x111\\x01\\x11\\x017\\x0105\\x13\\x10\\x10\\x11\\x11\\x07\\x11\\x03\\x11\\x0101\\x03\\x13\\x16\\x17\\x13\\x12\\x10\\x13\\x11\\x01\\x01\\x01\\x10\\x10\\x13\\x13\\x01\\x11\\x13wwwwWwwuw7W7wswwwswwwwwwwwww\\x17sS\\x10\\x13\\x1110\\x10\\x11\\x01!\\x05\\x13\\x03\\x10\\x11!\\x01!0\\x11\\x10\\x10wqs\\x11\\x12\\x10s\\x11\\x01\\x01\\x101\\x10\\x110\\x11\\x13\\x10\\x1111!\\x11\\x13\\x10\\x11\\x12\\x10\\x10\\x11\\x03\\x11\\x01\\x12\\x10qwwwww\\x17WwcW'Wwwwswwww7wwwwwwwwwwq11q\\x01\\x11\\x101\\x11\\x13\\x151\\x01\\x01\\x11\\x11\\x11\\x01\\x10\\x117sS\\x11q!\\x17q\\x01\\x10\\x01\\x01\\x17\\x01\\x01\\x11\\x100\\x13\\x12\\x11\\x11\\x11!0\\x11\\x01\\x01\\x11\\x17\\x01u!\\x111\\x13\\x13wwwwwww7WrW'wwwwwwwwwwwwwwwwsw71\\x12\\x1751\\x01\\x01\\x0100\\x13\\x051\\x13\\x03\\x01!\\x13\\x01ww\\x17\\x17\\x13\\x03\\x11\\x03\\x10\\x11\\x01\\x11\\x13\\x13q\\x10\\x01\\x01\\x11\\x11\\x01\\x1100\\x11\\x01\\x100\\x10\\x10s\\x17\\x13\\x11!\\x11sWwwwwwwwW'u5ww7swww77swwwwwwwswSS\\x11qqp\\x10\\x11\\x10\\x11\\x11\\x01\\x13\\x13\\x01\\x111\\x11\\x01\\x13ww\\x13\\x11q\\x11\\x03Wq0\\x10\\x10\\x10\\x11\\x13\\x01\\x11\\x10\\x10\\x10\\x11\\x10\\x11\\x11\\x01\\x13\\x01\\x11\\x111\\x01sqq\\x10\\x13\\x177wwwwwwwrW'cSwwwsw7wwwwwwwsw7qw77\\x13Ss\\x13Q\\x00\\x11\\x01\\x011\\x01\\x011\\x01\\x03\\x01\\x10\\x17w7\\x171\\x12\\x11\\x1070SQ\\x01\\x11\\x01\\x01\\x13\\x12\\x11\\x01\\x11\\x01\\x01\\x01\\x01\\x10\\x11\\x10\\x12\\x10\\x13\\x11\\x1717101wwwwwwuwu5W\\x17www7wwww7wwwwwwwwsww\\x13\\x13w\\x17\\x13\\x13\\x11\\x01\\x10\\x11\\x001\\x11\\x01\\x13\\x11\\x11\\x01wsS1\\x07\\x11R\\x11wq12\\x10\\x10\\x10\\x11\\x01\\x01\\x10\\x10\\x10\\x10\\x10\\x10\\x101\\x01\\x01\\x01\\x11\\x01Cq\\x13qsS\\x13wwwwwwww'cswsw7w77w7wswwswwwwsWw11q1%50\\x11\\x01\\x10\\x11\\x110\\x13\\x01\\x10\\x107w\\x171\\x151!!\\x1751\\x145\\x11!\\x110\\x10\\x13\\x13\\x11\\x01\\x10\\x10\\x11\\x11\\x10\\x11\\x13\\x11!13\\x100\\x13q1\\x17wwwwwwwwW\\x17wwwww7wswwwwwwwssssw7wq01q\\x13\\x03\\x17\\x10\\x11\\x01\\x10\\x10\\x11\\x01\\x10\\x01\\x01w\\x171R\\x13\\x11\\x11\\x13\\x17s\\x12\\x13\\x11!\\x12\\x10\\x11\\x11\\x10\\x100\\x11\\x01\\x11\\x01\\x01\\x01\\x01\\x01\\x01\\x10P\\x151S\\x017q7wwwwwwwwswwwww7ssw7wswwwwwwwww3wwS\\x13\\x13\\x11\\x1111!\\x10\\x01\\x01\\x01\\x10\\x11\\x10\\x11wqs\\x11101\\x10\\x171\\x11\\x01\\x07\\x17\\x11q\\x12\\x10\\x11\\x01\\x11\\x100\\x101\\x10\\x11\\x10\\x11\\x10\\x111!\\x13\\x13\\x17\\x13\\x13wwwwwwwwwwwwww7w7w7wswsw77w7777\\x17ww115\\x03\\x07\\x10SQ\\x01\\x11\\x01\\x10\\x11\\x01\\x01\\x07s\\x12\\x11!\\x01\\x01\\x10\\x01r\\x11\\x01\\x13\\x13\\x13\\x03\\x11%\\x13\\x10\\x10\\x10\\x01\\x11\\x13\\x12\\x110\\x13\\x10\\x13\\x01\\x01\\x11!7\\x13\\x13wwwwwwwwwwwwwwwwsssW7wswwww7wwww7www\\x11!1\\x1110\\x10q\\x10\\x11\\x01\\x10\\x10\\x117\\x11!\\x10\\x11\\x10\\x11\\x017q\\x10\\x10\\x145%5!\\x110q1\\x11\\x13\\x12q\\x01\\x11\\x01\\x11\\x01\\x10\\x12\\x110\\x11175wwwwwswwwwwwwww77w\\x177swwqssww\\x17777qwww1\\x13W7sS\\x13\\x105\\x10\\x11\\x01\\x11\\x01q1\\x11\\x01\\x10\\x01\\x10\\x10sW\\x01111\\x13\\x13\\x12\\x13\\x111R\\x12\\x10Q\\x11\\x11\\x01\\x11\\x10\\x10\\x11\\x11\\x10\\x13W\\x11\\x157wwwwwwwswwwwwwwwsssCw7swwwswcwssswwww11sW551\\x03\\x11!\\x10\\x10\\x170\\x10\\x11\\x10\\x11\\x10\\x01\\x11w1q\\x03RS\\x141QpsR\\x11\\x11\\x13\\x12\\x101\\x10\\x12\\x11\\x13\\x01\\x01sW773wwwww7wwwwwwwwwwsw\\x1755wwwwsW7sw77w7\\x17ww1\\x11wws\\x175551\\x11!\\x11\\x01\\x11\\x01\\x00\\x11\\x00\\x111\\x07w505\\x13\\x10\\x13\\x13\\x13\\x13\\x11\\x1100\\x10\\x11\\x13\\x1015\\x12\\x14\\x13\\x13\\x173usWwwwwwwswwwwwwwww5ssswwwwwwwwwqsssw1wwqss51sSq0p0\\x11\\x101\\x00\\x10\\x11\\x10\\x11\\x10P1qR\\x17\\x11!51p7\\x03\\x13\\x03\\x11\\x11\\x13\\x13\\x10S\\x14\\x10511a\\x13qS1swwww7wwwwwwwwwwwsw'77\\x07wwwwqwws7\\x177ww\\x17ww1\\x17sw\\x151sS\\x17\\x11\\x01\\x01\\x10\\x11\\x01\\x01\\x01\\x03\\x011\\x13w1\\x11!\\x17\\x13\\x12\\x13\\x11\\x11\\x01\\x10\\x12\\x12\\x10\\x10\\x11!\\x13\\x17\\x13SS\\x17131swwsw7wswwsw7wwwwww\\x07SW545ww7wqqwRsswwwwww1S\\x171sW51s\\x12\\x10\\x11\\x01\\x10\\x101\\x11\\x10\\x13A\\x07\\x17\\x03\\x17\\x01\\x10q\\x1101\\x10\\x11\\x11\\x111\\x11!\\x12Sqw557\\x17\\x11wwwwwwsSww7wwwwwwwwsw77'7747uwwwqsswwwwwwww1sS\\x177\\x17555\\x130\\x10\\x01\\x11\\x100\\x13\\x10\\x13\\x11!\\x11\\x01\\x13\\x03\\x13\\x03\\x01\\x10\\x11\\x01\\x03\\x01\\x01\\x01\\x1157\\x13qw7qq7www7w7wwwwwwwwwwwwwwpwsSCesw\\x167SW\\x167\\x177wwwwwwww17qswSSSsQ1q\\x01\\x01\\x01\\x11\\x011\\x07\\x11\\x12\\x110\\x11\\x10\\x11\\x11\\x01\\x10\\x10\\x11\\x11\\x13\\x100qqwSqw\\x173Swwwwww777wwwswwwwwww7\\x07\\x16s52wwqAw7\\x17'7wwwwwwwwww\\x113SSsq7\\x157\\x17\\x17w\\x11\\x11\\x03\\x11\\x01\\x110\\x110\\x1101\\x01\\x01\\x10sq\\x10\\x12\\x101\\x13\\x13\\x13\\x1357sw\\x177wswwswwwsww7wwwwwswwsssv3SSQw0\\x11PsSswwwwwwwwwws\\x157557Ssqsq77\\x07\\x10\\x13\\x100\\x13\\x01\\x13\\x10\\x11\\x01\\x10\\x103qw51qwW\\x16\\x1553SW7w\\x177wsswsswwswww7wwwww7w451r7'w54\\x16\\x171swwwwwwwwwwwwsSSsSqw\\x17\\x17\\x17Sw110\\x17\\x115\\x13\\x05\\x03\\x10\\x11\\x01\\x17WWsSSSq713\\x13W73q1wwwwwwwwswwww7wwswwwwws67557swu57\\x167wwwwwwwwwwwwq17qqwq7575sSC\\x07\\x12\\x17\\x03\\x03Sq\\x03\\x107w77\\x177577w\\x17\\x11q3\\x13\\x17Rwww7ww77swwwswwwwwww7wwwqpscW502RV77wwwwwwwwwwwwwwQ77swqw53W51qqqu57\\x1757SqsSwSWw\\x17\\x13qs\\x13\\x11qcqwsww77wwwww7wwwwwww7ww7ww7%7#cSS517wwwwwwwwwwwwwwssSSu1w\\x177SwsW\\x17ws\\x13sSqsSu7\\x157\\x177357qsSqpgRBGwswww7sw7wwwsw7wwwww7www7\\x12qw7%!cwwwwwwwwwwwwwwwwuwsw7w1sQ7\\x1757w7\\x145u7\\x17\\x177\\x13\\x17757SWS131ss\\x00\\x10$\\x10sCwsswwwww7w7wwww7ww7wwwww7\\x12\\x10\\x10\\x12\\x177wwwwwwwwwwwwwwwwsgwSSs\\x17\\x13\\x13qsSqww\\x13w3575qqw\\x17\\x17\\x177s1\\x13\\x10\\x017\\x10\\x00\\x00\\x10\\x00t4w5wsw7sww7wwswwwwwwww7wwwssswwwwwwwwwwwwwwwwwwsG\\x17W77\\x17pqu7\\x17577\\x11usWSqssw\\x13ss5551!at!0\\x00\\x00\\x00\\x00\\x16\\x017sqw7ww7wwwswwww7wwwwwwwwwwwswwwwwwwwwwwwwwwwuw4rwusqw\\x07\\x02SqsSSs7\\x173qsSu1qqusss\\x17\\x17\\x0654q\\x00\\x00B\\x10qbG677cswssssww7www7wswww7w7wwpwwwwwwwwwwwwwwwwswSWwwwwpsS\\x17\\x17\\x1777\\x17SsW\\x1757\\x13w773517\\x00pqBS`\\x00\\x00\\x01\\x06\\x16\\x15\\x03w\\x17qw7swwwwssw7www7wsw7wwwws\\x07wwwwwwwwwwwwwwwwwwvqwwwwwP@`1!1qw7qs1\\x13\\x17wq11\\x10\\x1041\\x074t54\\x10A\\x06\\x10awrvSccqw7\\x17777\\x16w7w7wwwwwwww7w7w\\x01swwwwwww7wwwwwwwwwqgwwwww'7\\x17\\x07Wg\\x13\\x17sw1\\x10`\\x13\\x13\\x137\\x17cCC@4w7vwa qa\\x00pwW7\\x13\\x177qwcugRqsSwwswwsw7w7w7wpvwswwwwwwwwwwwwwwwww\\x17wwwwwRVw\\x02\\x07Sg151\\x16w\\x16`r\\x14ww\\x14\\x07t4\\x03wgwwt\\x16v\\x16pww7gwarr3w7777swwwwswwww7W7w7\\x07aswwwwwwwwwwwwwwwwwwwwwwwwwsWu'wqrS\\x17p\\x16q\\x07usugcrSw4wwwwru4w\\x12wvwwp7\\x01wW\\x13sssR5#swSwswsrwsSSww\\x175wswsww7wwwwwwwsw7wwwwwwwqwarWwwwv\\x07\\x07ppwvwws\\x14wV\\x10Gwwww Sg\\x10ewwwwpP3\\x0327Cppsw5ws67wsww46wvp\\x00vw7wwwwwwwwwwwwww\\x17wwww7wwwwAv\\x14'pwgw0pw\\x07\\x07swgwC\\x067'\\x07wwwwQ$\\x167\\x03vwWwrwe0\\x17\\x035777\\x12\\x12Swqp7t7\\x17sSR\\x13\\x17\\x00\\x01\\x07swswwwwwww7wwwwwwwwwWwwww6\\x01!GwwSW@\\x07\\x05%%ww\\x17v4\\x10PP\\x03Cw\\x07\\x17`\\x12\\x14\\x05\\x05qw'\\x03P\\x01\\x00\\x06\\x0043\\x03\\x03\\x005567\\x167u7wcGv7vp\\x07\\x00\\x03u'7sw7w7swww77wwwwwwwwwwwa\\x04\\x00\\x03\\x07\\x07'c\\x01\\x00\\x00\\x00\\x07%\\x04v\\x17\\x00\\x02\\x00\\x00\\x07t\\x10wg\\x01`\\x02\\x10\\x066\\x00SG \\x00\\x02\\x01\\x00c\\x04407\\x02\\x00qpw\\x07\\x12u%57\\x03\\x17\\x07\\x16\\x10\\x00\\x07swwwwwwwwwwwwwwwwwwwwwww\\x10\\x10s\\x00\\x16u%\\x054\\x06\\x000\\x10CRC\\x01pPp\\x16\\x12W\\x03g`\\x10\\x00\\x00P\\x00'\\x14\\x17pC@\\x14\\x01@\\x07QCppP\\x01C\\x167@pw\\x03rsCvppp\\x00\\x01Cw577wwwwwsw7sw\\x17\\x17wwwwwwwwwwww\\x05 wrR\\x10\\x14\\x06\\x07\\x07awg\\x07\\x03\\x05 @6W\\x17\\x17w\\x16\\x10\\x01$\\x15cg\\x077\\x14#\\x00\\x02\\x10rpRW \\x02\\x00w\\x070p\\x07pqcp\\x10\\x10\\x07\\x07`\\x00 Sgwwswsswwww\\x17www\\x07wwwwwwwwwwwwS\\x07\\x07u`!\\x01\\x10qv\\x17\\x16waaS\\x14\\x17'vpwag\\x07\\x17'\\x16\\x10pvqPp\\x14%%rW%pP\\x07@p\\x0440\\x07\\x07\\x16\\x16wgwp\\x10p\\x01g\\x17777swwsw7qgwwqqqw\\x17wwwWwSWwwwRRR\\x10P``\\x16qaap\\x10R\\x04!cW\\x07\\x17p\\x10\\x104rWwwwq\\x06\\x07\\x01a\\x07wwww% p0pwp\\x00qaawwwww\\x07\\x07psswwwwwwwww77wwwwwqwwwwwww\\x07\\x07wwwww\\x07\\x07\\x17\\x17wwwwwwsW5wwwwwwww5wwwwww\\x17w\\x07wwwwwRWw\\x044\\x00\\x00\\x00\\x00\\x00\\x00\\x00\\x00\\x00\\x00\\x01\\x05\\x00\\x00\\x00\\x00\\x00\\x00\\xe1\\xad\\x05\\xfe\""
            ]
          },
          "metadata": {},
          "execution_count": 9
        }
      ],
      "metadata": {
        "id": "noxeIeauP5jB",
        "colab": {
          "base_uri": "https://localhost:8080/"
        },
        "outputId": "8f10d06d-b64a-44f8-963f-f36ac2f36b03"
      }
    },
    {
      "cell_type": "code",
      "execution_count": 12,
      "source": [
        "# still curious about the picture column?\n",
        "# image is actually stored as a blob (Binary Large Object) in SQLite\n",
        "from matplotlib.pyplot import imshow\n",
        "from PIL import Image\n",
        "from io import BytesIO\n",
        "%matplotlib inline\n",
        "row = 2\n",
        "im = Image.open(BytesIO(result.DataFrame().loc[row, 'Picture'][78:])) # cut the first 78 bytes (OLE header)\n",
        "print(im)\n",
        "imshow(im)"
      ],
      "outputs": [
        {
          "output_type": "stream",
          "name": "stdout",
          "text": [
            "<PIL.BmpImagePlugin.BmpImageFile image mode=P size=172x120 at 0x7C1F4B2C7190>\n"
          ]
        },
        {
          "output_type": "execute_result",
          "data": {
            "text/plain": [
              "<matplotlib.image.AxesImage at 0x7c1f4b3417b0>"
            ]
          },
          "metadata": {},
          "execution_count": 12
        },
        {
          "output_type": "display_data",
          "data": {
            "text/plain": [
              "<Figure size 640x480 with 1 Axes>"
            ],
            "image/png": "[encoded data removed]"
          },
          "metadata": {}
        }
      ],
      "metadata": {
        "id": "3nBk-vEXP5jL",
        "colab": {
          "base_uri": "https://localhost:8080/",
          "height": 446
        },
        "outputId": "729b471a-bc24-4b12-be62-1b042c934147"
      }
    },
    {
      "cell_type": "markdown",
      "source": [
        "### Ex2. Which shippers do we have?"
      ],
      "metadata": {
        "id": "vfyHGYXUP5jS"
      }
    },
    {
      "cell_type": "code",
      "source": [
        "%%sql\n",
        "-- start your code here\n",
        "SELECT CompanyName FROM Shippers;"
      ],
      "metadata": {
        "colab": {
          "base_uri": "https://localhost:8080/",
          "height": 140
        },
        "id": "GupPK5y618mN",
        "outputId": "28b14271-63b5-42fc-afde-77c1e03b9492"
      },
      "execution_count": 16,
      "outputs": [
        {
          "output_type": "stream",
          "name": "stdout",
          "text": [
            " * sqlite:///northwind.sqlite3\n",
            "Done.\n"
          ]
        },
        {
          "output_type": "execute_result",
          "data": {
            "text/plain": [
              "[('Speedy Express',), ('United Package',), ('Federal Shipping',)]"
            ],
            "text/html": [
              "<table>\n",
              "    <thead>\n",
              "        <tr>\n",
              "            <th>CompanyName</th>\n",
              "        </tr>\n",
              "    </thead>\n",
              "    <tbody>\n",
              "        <tr>\n",
              "            <td>Speedy Express</td>\n",
              "        </tr>\n",
              "        <tr>\n",
              "            <td>United Package</td>\n",
              "        </tr>\n",
              "        <tr>\n",
              "            <td>Federal Shipping</td>\n",
              "        </tr>\n",
              "    </tbody>\n",
              "</table>"
            ]
          },
          "metadata": {},
          "execution_count": 16
        }
      ]
    },
    {
      "cell_type": "markdown",
      "source": [
        "### Ex3* Find names and hire dates of all US sales representatives\n",
        "\n",
        "The resulting table should display `FirstName`, `LastName`, `HireDate`, `Title` and `Country`."
      ],
      "metadata": {
        "id": "CJGFfDmMP5jd"
      }
    },
    {
      "cell_type": "code",
      "execution_count": 31,
      "source": [
        "%%sql\n",
        "-- take a look at the Employees table first\n",
        "-- use LIMIT to limit the rows being displayed\n",
        "SELECT FirstName, LastName, HireDate, Title, Country\n",
        "FROM Employees\n",
        "LIMIT 10"
      ],
      "outputs": [
        {
          "output_type": "stream",
          "name": "stdout",
          "text": [
            " * sqlite:///northwind.sqlite3\n",
            "Done.\n"
          ]
        },
        {
          "output_type": "execute_result",
          "data": {
            "text/plain": [
              "[('Nancy', 'Davolio', '2010-05-01 00:00:00.000', 'Sales Representative', 'USA'),\n",
              " ('Andrew', 'Fuller', '2010-08-14 00:00:00.000', 'Vice President, Sales', 'USA'),\n",
              " ('Janet', 'Leverling', '2010-04-01 00:00:00.000', 'Sales Representative', 'USA'),\n",
              " ('Margaret', 'Peacock', '2011-05-03 00:00:00.000', 'Sales Representative', 'USA'),\n",
              " ('Steven', 'Buchanan', '2011-10-17 00:00:00.000', 'Sales Manager', 'UK'),\n",
              " ('Michael', 'Suyama', '2011-10-17 00:00:00.000', 'Sales Representative', 'UK'),\n",
              " ('Robert', 'King', '2012-01-02 00:00:00.000', 'Sales Representative', 'UK'),\n",
              " ('Laura', 'Callahan', '2012-03-05 00:00:00.000', 'Inside Sales Coordinator', 'USA'),\n",
              " ('Anne', 'Dodsworth', '2012-11-15 00:00:00.000', 'Sales Representative', 'UK')]"
            ],
            "text/html": [
              "<table>\n",
              "    <thead>\n",
              "        <tr>\n",
              "            <th>FirstName</th>\n",
              "            <th>LastName</th>\n",
              "            <th>HireDate</th>\n",
              "            <th>Title</th>\n",
              "            <th>Country</th>\n",
              "        </tr>\n",
              "    </thead>\n",
              "    <tbody>\n",
              "        <tr>\n",
              "            <td>Nancy</td>\n",
              "            <td>Davolio</td>\n",
              "            <td>2010-05-01 00:00:00.000</td>\n",
              "            <td>Sales Representative</td>\n",
              "            <td>USA</td>\n",
              "        </tr>\n",
              "        <tr>\n",
              "            <td>Andrew</td>\n",
              "            <td>Fuller</td>\n",
              "            <td>2010-08-14 00:00:00.000</td>\n",
              "            <td>Vice President, Sales</td>\n",
              "            <td>USA</td>\n",
              "        </tr>\n",
              "        <tr>\n",
              "            <td>Janet</td>\n",
              "            <td>Leverling</td>\n",
              "            <td>2010-04-01 00:00:00.000</td>\n",
              "            <td>Sales Representative</td>\n",
              "            <td>USA</td>\n",
              "        </tr>\n",
              "        <tr>\n",
              "            <td>Margaret</td>\n",
              "            <td>Peacock</td>\n",
              "            <td>2011-05-03 00:00:00.000</td>\n",
              "            <td>Sales Representative</td>\n",
              "            <td>USA</td>\n",
              "        </tr>\n",
              "        <tr>\n",
              "            <td>Steven</td>\n",
              "            <td>Buchanan</td>\n",
              "            <td>2011-10-17 00:00:00.000</td>\n",
              "            <td>Sales Manager</td>\n",
              "            <td>UK</td>\n",
              "        </tr>\n",
              "        <tr>\n",
              "            <td>Michael</td>\n",
              "            <td>Suyama</td>\n",
              "            <td>2011-10-17 00:00:00.000</td>\n",
              "            <td>Sales Representative</td>\n",
              "            <td>UK</td>\n",
              "        </tr>\n",
              "        <tr>\n",
              "            <td>Robert</td>\n",
              "            <td>King</td>\n",
              "            <td>2012-01-02 00:00:00.000</td>\n",
              "            <td>Sales Representative</td>\n",
              "            <td>UK</td>\n",
              "        </tr>\n",
              "        <tr>\n",
              "            <td>Laura</td>\n",
              "            <td>Callahan</td>\n",
              "            <td>2012-03-05 00:00:00.000</td>\n",
              "            <td>Inside Sales Coordinator</td>\n",
              "            <td>USA</td>\n",
              "        </tr>\n",
              "        <tr>\n",
              "            <td>Anne</td>\n",
              "            <td>Dodsworth</td>\n",
              "            <td>2012-11-15 00:00:00.000</td>\n",
              "            <td>Sales Representative</td>\n",
              "            <td>UK</td>\n",
              "        </tr>\n",
              "    </tbody>\n",
              "</table>"
            ]
          },
          "metadata": {},
          "execution_count": 31
        }
      ],
      "metadata": {
        "id": "nAijMy1ZP5je",
        "colab": {
          "base_uri": "https://localhost:8080/",
          "height": 268
        },
        "outputId": "13160634-5abd-4139-e872-3efa454bd3a8"
      }
    },
    {
      "cell_type": "code",
      "execution_count": 17,
      "source": [
        "%%sql\n",
        "-- just curious, how many distinct coutries do we have?\n",
        "SELECT DISTINCT Country\n",
        "FROM Employees"
      ],
      "outputs": [
        {
          "output_type": "stream",
          "name": "stdout",
          "text": [
            " * sqlite:///northwind.sqlite3\n",
            "Done.\n"
          ]
        },
        {
          "output_type": "execute_result",
          "data": {
            "text/plain": [
              "[('USA',), ('UK',)]"
            ],
            "text/html": [
              "<table>\n",
              "    <thead>\n",
              "        <tr>\n",
              "            <th>Country</th>\n",
              "        </tr>\n",
              "    </thead>\n",
              "    <tbody>\n",
              "        <tr>\n",
              "            <td>USA</td>\n",
              "        </tr>\n",
              "        <tr>\n",
              "            <td>UK</td>\n",
              "        </tr>\n",
              "    </tbody>\n",
              "</table>"
            ]
          },
          "metadata": {},
          "execution_count": 17
        }
      ],
      "metadata": {
        "id": "s7SiTpDIP5jm",
        "colab": {
          "base_uri": "https://localhost:8080/",
          "height": 119
        },
        "outputId": "f5a25bd4-aef5-4a1a-bb14-9c31985d0fda"
      }
    },
    {
      "cell_type": "code",
      "execution_count": 19,
      "source": [
        "%%sql\n",
        "-- start your code here\n",
        "SELECT FirstName, LastName, HireDate\n",
        "FROM Employees\n",
        "WHERE Title = 'Sales Representative' AND Country = 'USA'\n",
        "LIMIT 10"
      ],
      "outputs": [
        {
          "output_type": "stream",
          "name": "stdout",
          "text": [
            " * sqlite:///northwind.sqlite3\n",
            "Done.\n"
          ]
        },
        {
          "output_type": "execute_result",
          "data": {
            "text/plain": [
              "[('Nancy', 'Davolio', '2010-05-01 00:00:00.000'),\n",
              " ('Janet', 'Leverling', '2010-04-01 00:00:00.000'),\n",
              " ('Margaret', 'Peacock', '2011-05-03 00:00:00.000')]"
            ],
            "text/html": [
              "<table>\n",
              "    <thead>\n",
              "        <tr>\n",
              "            <th>FirstName</th>\n",
              "            <th>LastName</th>\n",
              "            <th>HireDate</th>\n",
              "        </tr>\n",
              "    </thead>\n",
              "    <tbody>\n",
              "        <tr>\n",
              "            <td>Nancy</td>\n",
              "            <td>Davolio</td>\n",
              "            <td>2010-05-01 00:00:00.000</td>\n",
              "        </tr>\n",
              "        <tr>\n",
              "            <td>Janet</td>\n",
              "            <td>Leverling</td>\n",
              "            <td>2010-04-01 00:00:00.000</td>\n",
              "        </tr>\n",
              "        <tr>\n",
              "            <td>Margaret</td>\n",
              "            <td>Peacock</td>\n",
              "            <td>2011-05-03 00:00:00.000</td>\n",
              "        </tr>\n",
              "    </tbody>\n",
              "</table>"
            ]
          },
          "metadata": {},
          "execution_count": 19
        }
      ],
      "metadata": {
        "id": "ZzSRms3PP5jw",
        "colab": {
          "base_uri": "https://localhost:8080/",
          "height": 140
        },
        "outputId": "87cf67e6-c48d-424a-ea7e-1f048b03046a"
      }
    },
    {
      "cell_type": "markdown",
      "source": [
        "### Ex4. Find supplier contacts who are *not* marketing managers\n",
        "\n",
        "Display `supplierID`, `ContactNames` and `ContactTitle` for those whose `ContactTitle` is *not* Marketing Manager.\n",
        "\n",
        "Hint: `NOT` operator."
      ],
      "metadata": {
        "id": "HjWUArDrP5j_"
      }
    },
    {
      "cell_type": "code",
      "execution_count": 25,
      "source": [
        "%%sql\n",
        "-- start your code here\n",
        "SELECT SupplierID, ContactName, ContactTitle\n",
        "FROM suppliers\n",
        "WHERE NOT ContactTitle = 'Marketing Manager'\n",
        "LIMIT 10"
      ],
      "outputs": [
        {
          "output_type": "stream",
          "name": "stdout",
          "text": [
            " * sqlite:///northwind.sqlite3\n",
            "Done.\n"
          ]
        },
        {
          "output_type": "execute_result",
          "data": {
            "text/plain": [
              "[(1, 'Charlotte Cooper', 'Purchasing Manager'),\n",
              " (2, 'Shelley Burke', 'Order Administrator'),\n",
              " (3, 'Regina Murphy', 'Sales Representative'),\n",
              " (5, 'Antonio del Valle Saavedra', 'Export Administrator'),\n",
              " (6, 'Mayumi Ohno', 'Marketing Representative'),\n",
              " (8, 'Peter Wilson', 'Sales Representative'),\n",
              " (9, 'Lars Peterson', 'Sales Agent'),\n",
              " (11, 'Petra Winkler', 'Sales Manager'),\n",
              " (12, 'Martin Bein', 'International Marketing Mgr.'),\n",
              " (13, 'Sven Petersen', 'Coordinator Foreign Markets')]"
            ],
            "text/html": [
              "<table>\n",
              "    <thead>\n",
              "        <tr>\n",
              "            <th>SupplierID</th>\n",
              "            <th>ContactName</th>\n",
              "            <th>ContactTitle</th>\n",
              "        </tr>\n",
              "    </thead>\n",
              "    <tbody>\n",
              "        <tr>\n",
              "            <td>1</td>\n",
              "            <td>Charlotte Cooper</td>\n",
              "            <td>Purchasing Manager</td>\n",
              "        </tr>\n",
              "        <tr>\n",
              "            <td>2</td>\n",
              "            <td>Shelley Burke</td>\n",
              "            <td>Order Administrator</td>\n",
              "        </tr>\n",
              "        <tr>\n",
              "            <td>3</td>\n",
              "            <td>Regina Murphy</td>\n",
              "            <td>Sales Representative</td>\n",
              "        </tr>\n",
              "        <tr>\n",
              "            <td>5</td>\n",
              "            <td>Antonio del Valle Saavedra</td>\n",
              "            <td>Export Administrator</td>\n",
              "        </tr>\n",
              "        <tr>\n",
              "            <td>6</td>\n",
              "            <td>Mayumi Ohno</td>\n",
              "            <td>Marketing Representative</td>\n",
              "        </tr>\n",
              "        <tr>\n",
              "            <td>8</td>\n",
              "            <td>Peter Wilson</td>\n",
              "            <td>Sales Representative</td>\n",
              "        </tr>\n",
              "        <tr>\n",
              "            <td>9</td>\n",
              "            <td>Lars Peterson</td>\n",
              "            <td>Sales Agent</td>\n",
              "        </tr>\n",
              "        <tr>\n",
              "            <td>11</td>\n",
              "            <td>Petra Winkler</td>\n",
              "            <td>Sales Manager</td>\n",
              "        </tr>\n",
              "        <tr>\n",
              "            <td>12</td>\n",
              "            <td>Martin Bein</td>\n",
              "            <td>International Marketing Mgr.</td>\n",
              "        </tr>\n",
              "        <tr>\n",
              "            <td>13</td>\n",
              "            <td>Sven Petersen</td>\n",
              "            <td>Coordinator Foreign Markets</td>\n",
              "        </tr>\n",
              "    </tbody>\n",
              "</table>"
            ]
          },
          "metadata": {},
          "execution_count": 25
        }
      ],
      "metadata": {
        "id": "uKSTe5S_P5kL",
        "colab": {
          "base_uri": "https://localhost:8080/",
          "height": 290
        },
        "outputId": "f2c93048-c90c-4bd6-f51a-b262c0e679a5"
      }
    },
    {
      "cell_type": "markdown",
      "source": [
        "### Ex.5* Find products with \"Chef\" in its name\n",
        "\n",
        "Hint: `LIKE` operator and `%` wildcard."
      ],
      "metadata": {
        "id": "v67A6_DaP5kQ"
      }
    },
    {
      "cell_type": "code",
      "source": [
        "%%sql\n",
        "-- start your code here\n",
        "SELECT *\n",
        "FROM Products\n",
        "WHERE ProductName LIKE '%Chef%'"
      ],
      "metadata": {
        "colab": {
          "base_uri": "https://localhost:8080/",
          "height": 119
        },
        "id": "_lg_A8VI5wA6",
        "outputId": "e3df9eed-7bd9-4e64-919d-ae37262953e8"
      },
      "execution_count": 31,
      "outputs": [
        {
          "output_type": "stream",
          "name": "stdout",
          "text": [
            " * sqlite:///northwind.sqlite3\n",
            "Done.\n"
          ]
        },
        {
          "output_type": "execute_result",
          "data": {
            "text/plain": [
              "[(4, \"Chef Anton's Cajun Seasoning\", 2, 2, '48 - 6 oz jars', 22, 53, 0, 0, 0),\n",
              " (5, \"Chef Anton's Gumbo Mix\", 2, 2, '36 boxes', 21.35, 0, 0, 0, 1)]"
            ],
            "text/html": [
              "<table>\n",
              "    <thead>\n",
              "        <tr>\n",
              "            <th>ProductID</th>\n",
              "            <th>ProductName</th>\n",
              "            <th>SupplierID</th>\n",
              "            <th>CategoryID</th>\n",
              "            <th>QuantityPerUnit</th>\n",
              "            <th>UnitPrice</th>\n",
              "            <th>UnitsInStock</th>\n",
              "            <th>UnitsOnOrder</th>\n",
              "            <th>ReorderLevel</th>\n",
              "            <th>Discontinued</th>\n",
              "        </tr>\n",
              "    </thead>\n",
              "    <tbody>\n",
              "        <tr>\n",
              "            <td>4</td>\n",
              "            <td>Chef Anton&#x27;s Cajun Seasoning</td>\n",
              "            <td>2</td>\n",
              "            <td>2</td>\n",
              "            <td>48 - 6 oz jars</td>\n",
              "            <td>22</td>\n",
              "            <td>53</td>\n",
              "            <td>0</td>\n",
              "            <td>0</td>\n",
              "            <td>0</td>\n",
              "        </tr>\n",
              "        <tr>\n",
              "            <td>5</td>\n",
              "            <td>Chef Anton&#x27;s Gumbo Mix</td>\n",
              "            <td>2</td>\n",
              "            <td>2</td>\n",
              "            <td>36 boxes</td>\n",
              "            <td>21.35</td>\n",
              "            <td>0</td>\n",
              "            <td>0</td>\n",
              "            <td>0</td>\n",
              "            <td>1</td>\n",
              "        </tr>\n",
              "    </tbody>\n",
              "</table>"
            ]
          },
          "metadata": {},
          "execution_count": 31
        }
      ]
    },
    {
      "cell_type": "markdown",
      "source": [
        "### Ex.6 Find all orders shipping to Canada, Mexico or USA.\n",
        "\n",
        "Hint: `IN` operator."
      ],
      "metadata": {
        "id": "8td7jDiWP5ke"
      }
    },
    {
      "cell_type": "code",
      "source": [
        "%%sql\n",
        "-- start your code here\n",
        "SELECT *\n",
        "FROM Orders\n",
        "WHERE ShipCountry IN ('Canada', 'Mexico', 'USA')\n",
        "LIMIT 10"
      ],
      "metadata": {
        "colab": {
          "base_uri": "https://localhost:8080/",
          "height": 290
        },
        "id": "v3a_0V5q7Cr7",
        "outputId": "d736ecb9-2a3c-4d2e-ac9d-e231a7be8f6d"
      },
      "execution_count": 171,
      "outputs": [
        {
          "output_type": "stream",
          "name": "stdout",
          "text": [
            " * sqlite:///northwind.sqlite3\n",
            "Done.\n"
          ]
        },
        {
          "output_type": "execute_result",
          "data": {
            "text/plain": [
              "[(10259, 'CENTC', 4, '2014-07-18 16:00:00.000', '2014-08-15 00:00:00.000', '2014-07-25 00:00:00.000', 3, 3.25, 'Centro comercial Moctezuma', 'Sierras de Granada 9993', 'México D.F.', None, '05022', 'Mexico'),\n",
              " (10262, 'RATTC', 8, '2014-07-22 19:00:00.000', '2014-08-19 00:00:00.000', '2014-07-25 00:00:00.000', 3, 48.29, 'Rattlesnake Canyon Grocery', '2817 Milton Dr.', 'Albuquerque', 'NM', '87110', 'USA'),\n",
              " (10269, 'WHITC', 5, '2014-07-31 00:00:00.000', '2014-08-14 00:00:00.000', '2014-08-09 00:00:00.000', 1, 4.56, 'White Clover Markets', '1029 - 12th Ave. S.', 'Seattle', 'WA', '98124', 'USA'),\n",
              " (10271, 'SPLIR', 6, '2014-08-01 05:00:00.000', '2014-08-29 00:00:00.000', '2014-08-30 00:00:00.000', 2, 4.54, 'Split Rail Beer & Ale', 'P.O. Box 555', 'Lander', 'WY', '82520', 'USA'),\n",
              " (10272, 'RATTC', 6, '2014-08-02 03:00:00.000', '2014-08-30 00:00:00.000', '2014-08-06 00:00:00.000', 2, 98.03, 'Rattlesnake Canyon Grocery', '2817 Milton Dr.', 'Albuquerque', 'NM', '87110', 'USA'),\n",
              " (10276, 'TORTU', 8, '2014-08-08 18:00:00.000', '2014-08-22 00:00:00.000', '2014-08-14 00:00:00.000', 3, 13.84, 'Tortuga Restaurante', 'Avda. Azteca 123', 'México D.F.', None, '05033', 'Mexico'),\n",
              " (10293, 'TORTU', 1, '2014-08-29 15:00:00.000', '2014-09-26 00:00:00.000', '2014-09-11 00:00:00.000', 3, 21.18, 'Tortuga Restaurante', 'Avda. Azteca 123', 'México D.F.', None, '05033', 'Mexico'),\n",
              " (10294, 'RATTC', 4, '2014-08-30 05:00:00.000', '2014-09-27 00:00:00.000', '2014-09-05 00:00:00.000', 2, 147.26, 'Rattlesnake Canyon Grocery', '2817 Milton Dr.', 'Albuquerque', 'NM', '87110', 'USA'),\n",
              " (10304, 'TORTU', 1, '2014-09-12 06:00:00.000', '2014-10-10 00:00:00.000', '2014-09-17 00:00:00.000', 2, 63.79, 'Tortuga Restaurante', 'Avda. Azteca 123', 'México D.F.', None, '05033', 'Mexico'),\n",
              " (10305, 'OLDWO', 8, '2014-09-13 20:00:00.000', '2014-10-11 00:00:00.000', '2014-10-09 00:00:00.000', 3, 257.62, 'Old World Delicatessen', '2743 Bering St.', 'Anchorage', 'AK', '99508', 'USA')]"
            ],
            "text/html": [
              "<table>\n",
              "    <thead>\n",
              "        <tr>\n",
              "            <th>OrderID</th>\n",
              "            <th>CustomerID</th>\n",
              "            <th>EmployeeID</th>\n",
              "            <th>OrderDate</th>\n",
              "            <th>RequiredDate</th>\n",
              "            <th>ShippedDate</th>\n",
              "            <th>ShipVia</th>\n",
              "            <th>Freight</th>\n",
              "            <th>ShipName</th>\n",
              "            <th>ShipAddress</th>\n",
              "            <th>ShipCity</th>\n",
              "            <th>ShipRegion</th>\n",
              "            <th>ShipPostalCode</th>\n",
              "            <th>ShipCountry</th>\n",
              "        </tr>\n",
              "    </thead>\n",
              "    <tbody>\n",
              "        <tr>\n",
              "            <td>10259</td>\n",
              "            <td>CENTC</td>\n",
              "            <td>4</td>\n",
              "            <td>2014-07-18 16:00:00.000</td>\n",
              "            <td>2014-08-15 00:00:00.000</td>\n",
              "            <td>2014-07-25 00:00:00.000</td>\n",
              "            <td>3</td>\n",
              "            <td>3.25</td>\n",
              "            <td>Centro comercial Moctezuma</td>\n",
              "            <td>Sierras de Granada 9993</td>\n",
              "            <td>México D.F.</td>\n",
              "            <td>None</td>\n",
              "            <td>05022</td>\n",
              "            <td>Mexico</td>\n",
              "        </tr>\n",
              "        <tr>\n",
              "            <td>10262</td>\n",
              "            <td>RATTC</td>\n",
              "            <td>8</td>\n",
              "            <td>2014-07-22 19:00:00.000</td>\n",
              "            <td>2014-08-19 00:00:00.000</td>\n",
              "            <td>2014-07-25 00:00:00.000</td>\n",
              "            <td>3</td>\n",
              "            <td>48.29</td>\n",
              "            <td>Rattlesnake Canyon Grocery</td>\n",
              "            <td>2817 Milton Dr.</td>\n",
              "            <td>Albuquerque</td>\n",
              "            <td>NM</td>\n",
              "            <td>87110</td>\n",
              "            <td>USA</td>\n",
              "        </tr>\n",
              "        <tr>\n",
              "            <td>10269</td>\n",
              "            <td>WHITC</td>\n",
              "            <td>5</td>\n",
              "            <td>2014-07-31 00:00:00.000</td>\n",
              "            <td>2014-08-14 00:00:00.000</td>\n",
              "            <td>2014-08-09 00:00:00.000</td>\n",
              "            <td>1</td>\n",
              "            <td>4.56</td>\n",
              "            <td>White Clover Markets</td>\n",
              "            <td>1029 - 12th Ave. S.</td>\n",
              "            <td>Seattle</td>\n",
              "            <td>WA</td>\n",
              "            <td>98124</td>\n",
              "            <td>USA</td>\n",
              "        </tr>\n",
              "        <tr>\n",
              "            <td>10271</td>\n",
              "            <td>SPLIR</td>\n",
              "            <td>6</td>\n",
              "            <td>2014-08-01 05:00:00.000</td>\n",
              "            <td>2014-08-29 00:00:00.000</td>\n",
              "            <td>2014-08-30 00:00:00.000</td>\n",
              "            <td>2</td>\n",
              "            <td>4.54</td>\n",
              "            <td>Split Rail Beer &amp; Ale</td>\n",
              "            <td>P.O. Box 555</td>\n",
              "            <td>Lander</td>\n",
              "            <td>WY</td>\n",
              "            <td>82520</td>\n",
              "            <td>USA</td>\n",
              "        </tr>\n",
              "        <tr>\n",
              "            <td>10272</td>\n",
              "            <td>RATTC</td>\n",
              "            <td>6</td>\n",
              "            <td>2014-08-02 03:00:00.000</td>\n",
              "            <td>2014-08-30 00:00:00.000</td>\n",
              "            <td>2014-08-06 00:00:00.000</td>\n",
              "            <td>2</td>\n",
              "            <td>98.03</td>\n",
              "            <td>Rattlesnake Canyon Grocery</td>\n",
              "            <td>2817 Milton Dr.</td>\n",
              "            <td>Albuquerque</td>\n",
              "            <td>NM</td>\n",
              "            <td>87110</td>\n",
              "            <td>USA</td>\n",
              "        </tr>\n",
              "        <tr>\n",
              "            <td>10276</td>\n",
              "            <td>TORTU</td>\n",
              "            <td>8</td>\n",
              "            <td>2014-08-08 18:00:00.000</td>\n",
              "            <td>2014-08-22 00:00:00.000</td>\n",
              "            <td>2014-08-14 00:00:00.000</td>\n",
              "            <td>3</td>\n",
              "            <td>13.84</td>\n",
              "            <td>Tortuga Restaurante</td>\n",
              "            <td>Avda. Azteca 123</td>\n",
              "            <td>México D.F.</td>\n",
              "            <td>None</td>\n",
              "            <td>05033</td>\n",
              "            <td>Mexico</td>\n",
              "        </tr>\n",
              "        <tr>\n",
              "            <td>10293</td>\n",
              "            <td>TORTU</td>\n",
              "            <td>1</td>\n",
              "            <td>2014-08-29 15:00:00.000</td>\n",
              "            <td>2014-09-26 00:00:00.000</td>\n",
              "            <td>2014-09-11 00:00:00.000</td>\n",
              "            <td>3</td>\n",
              "            <td>21.18</td>\n",
              "            <td>Tortuga Restaurante</td>\n",
              "            <td>Avda. Azteca 123</td>\n",
              "            <td>México D.F.</td>\n",
              "            <td>None</td>\n",
              "            <td>05033</td>\n",
              "            <td>Mexico</td>\n",
              "        </tr>\n",
              "        <tr>\n",
              "            <td>10294</td>\n",
              "            <td>RATTC</td>\n",
              "            <td>4</td>\n",
              "            <td>2014-08-30 05:00:00.000</td>\n",
              "            <td>2014-09-27 00:00:00.000</td>\n",
              "            <td>2014-09-05 00:00:00.000</td>\n",
              "            <td>2</td>\n",
              "            <td>147.26</td>\n",
              "            <td>Rattlesnake Canyon Grocery</td>\n",
              "            <td>2817 Milton Dr.</td>\n",
              "            <td>Albuquerque</td>\n",
              "            <td>NM</td>\n",
              "            <td>87110</td>\n",
              "            <td>USA</td>\n",
              "        </tr>\n",
              "        <tr>\n",
              "            <td>10304</td>\n",
              "            <td>TORTU</td>\n",
              "            <td>1</td>\n",
              "            <td>2014-09-12 06:00:00.000</td>\n",
              "            <td>2014-10-10 00:00:00.000</td>\n",
              "            <td>2014-09-17 00:00:00.000</td>\n",
              "            <td>2</td>\n",
              "            <td>63.79</td>\n",
              "            <td>Tortuga Restaurante</td>\n",
              "            <td>Avda. Azteca 123</td>\n",
              "            <td>México D.F.</td>\n",
              "            <td>None</td>\n",
              "            <td>05033</td>\n",
              "            <td>Mexico</td>\n",
              "        </tr>\n",
              "        <tr>\n",
              "            <td>10305</td>\n",
              "            <td>OLDWO</td>\n",
              "            <td>8</td>\n",
              "            <td>2014-09-13 20:00:00.000</td>\n",
              "            <td>2014-10-11 00:00:00.000</td>\n",
              "            <td>2014-10-09 00:00:00.000</td>\n",
              "            <td>3</td>\n",
              "            <td>257.62</td>\n",
              "            <td>Old World Delicatessen</td>\n",
              "            <td>2743 Bering St.</td>\n",
              "            <td>Anchorage</td>\n",
              "            <td>AK</td>\n",
              "            <td>99508</td>\n",
              "            <td>USA</td>\n",
              "        </tr>\n",
              "    </tbody>\n",
              "</table>"
            ]
          },
          "metadata": {},
          "execution_count": 171
        }
      ]
    },
    {
      "cell_type": "markdown",
      "source": [
        "### Ex.7* Who is the oldest employee?\n",
        "\n",
        "Display `FirstName`, `LastName`, `Title`, and birth date, ordered by birth date. Show only the date portion of the `BirthDate` column/field (YYYY-MM-DD)."
      ],
      "metadata": {
        "id": "actDI1XLP5kl"
      }
    },
    {
      "cell_type": "code",
      "execution_count": 38,
      "source": [
        "%%sql\n",
        "-- start your code here\n",
        "SELECT FirstName, LastName, Title, DATE(BirthDate) AS Birthday\n",
        "FROM Employees\n",
        "ORDER BY BirthDate"
      ],
      "outputs": [
        {
          "output_type": "stream",
          "name": "stdout",
          "text": [
            " * sqlite:///northwind.sqlite3\n",
            "Done.\n"
          ]
        },
        {
          "output_type": "execute_result",
          "data": {
            "text/plain": [
              "[('Margaret', 'Peacock', 'Sales Representative', '1955-09-19'),\n",
              " ('Nancy', 'Davolio', 'Sales Representative', '1966-12-08'),\n",
              " ('Andrew', 'Fuller', 'Vice President, Sales', '1970-02-19'),\n",
              " ('Steven', 'Buchanan', 'Sales Manager', '1973-03-04'),\n",
              " ('Laura', 'Callahan', 'Inside Sales Coordinator', '1976-01-09'),\n",
              " ('Robert', 'King', 'Sales Representative', '1978-05-29'),\n",
              " ('Michael', 'Suyama', 'Sales Representative', '1981-07-02'),\n",
              " ('Janet', 'Leverling', 'Sales Representative', '1981-08-30'),\n",
              " ('Anne', 'Dodsworth', 'Sales Representative', '1984-01-27')]"
            ],
            "text/html": [
              "<table>\n",
              "    <thead>\n",
              "        <tr>\n",
              "            <th>FirstName</th>\n",
              "            <th>LastName</th>\n",
              "            <th>Title</th>\n",
              "            <th>Birthday</th>\n",
              "        </tr>\n",
              "    </thead>\n",
              "    <tbody>\n",
              "        <tr>\n",
              "            <td>Margaret</td>\n",
              "            <td>Peacock</td>\n",
              "            <td>Sales Representative</td>\n",
              "            <td>1955-09-19</td>\n",
              "        </tr>\n",
              "        <tr>\n",
              "            <td>Nancy</td>\n",
              "            <td>Davolio</td>\n",
              "            <td>Sales Representative</td>\n",
              "            <td>1966-12-08</td>\n",
              "        </tr>\n",
              "        <tr>\n",
              "            <td>Andrew</td>\n",
              "            <td>Fuller</td>\n",
              "            <td>Vice President, Sales</td>\n",
              "            <td>1970-02-19</td>\n",
              "        </tr>\n",
              "        <tr>\n",
              "            <td>Steven</td>\n",
              "            <td>Buchanan</td>\n",
              "            <td>Sales Manager</td>\n",
              "            <td>1973-03-04</td>\n",
              "        </tr>\n",
              "        <tr>\n",
              "            <td>Laura</td>\n",
              "            <td>Callahan</td>\n",
              "            <td>Inside Sales Coordinator</td>\n",
              "            <td>1976-01-09</td>\n",
              "        </tr>\n",
              "        <tr>\n",
              "            <td>Robert</td>\n",
              "            <td>King</td>\n",
              "            <td>Sales Representative</td>\n",
              "            <td>1978-05-29</td>\n",
              "        </tr>\n",
              "        <tr>\n",
              "            <td>Michael</td>\n",
              "            <td>Suyama</td>\n",
              "            <td>Sales Representative</td>\n",
              "            <td>1981-07-02</td>\n",
              "        </tr>\n",
              "        <tr>\n",
              "            <td>Janet</td>\n",
              "            <td>Leverling</td>\n",
              "            <td>Sales Representative</td>\n",
              "            <td>1981-08-30</td>\n",
              "        </tr>\n",
              "        <tr>\n",
              "            <td>Anne</td>\n",
              "            <td>Dodsworth</td>\n",
              "            <td>Sales Representative</td>\n",
              "            <td>1984-01-27</td>\n",
              "        </tr>\n",
              "    </tbody>\n",
              "</table>"
            ]
          },
          "metadata": {},
          "execution_count": 38
        }
      ],
      "metadata": {
        "id": "0xIt3fpHP5kl",
        "colab": {
          "base_uri": "https://localhost:8080/",
          "height": 268
        },
        "outputId": "7b5a5309-8be2-4c8d-9fbb-6058a2971253"
      }
    },
    {
      "cell_type": "code",
      "source": [
        "%%sql\n",
        "SELECT FirstName, LastName, BirthDate, MIN(BirthDate)\n",
        "FROM Employees"
      ],
      "metadata": {
        "colab": {
          "base_uri": "https://localhost:8080/",
          "height": 97
        },
        "id": "xrGPj0od8-0g",
        "outputId": "fd0ae81b-e620-4d6a-b298-7a9ddc668610"
      },
      "execution_count": 57,
      "outputs": [
        {
          "output_type": "stream",
          "name": "stdout",
          "text": [
            " * sqlite:///northwind.sqlite3\n",
            "Done.\n"
          ]
        },
        {
          "output_type": "execute_result",
          "data": {
            "text/plain": [
              "[('Margaret', 'Peacock', '1955-09-19 00:00:00.000', '1955-09-19 00:00:00.000')]"
            ],
            "text/html": [
              "<table>\n",
              "    <thead>\n",
              "        <tr>\n",
              "            <th>FirstName</th>\n",
              "            <th>LastName</th>\n",
              "            <th>BirthDate</th>\n",
              "            <th>MIN(BirthDate)</th>\n",
              "        </tr>\n",
              "    </thead>\n",
              "    <tbody>\n",
              "        <tr>\n",
              "            <td>Margaret</td>\n",
              "            <td>Peacock</td>\n",
              "            <td>1955-09-19 00:00:00.000</td>\n",
              "            <td>1955-09-19 00:00:00.000</td>\n",
              "        </tr>\n",
              "    </tbody>\n",
              "</table>"
            ]
          },
          "metadata": {},
          "execution_count": 57
        }
      ]
    },
    {
      "cell_type": "markdown",
      "source": [
        "### EX.8 Show employee full name\n",
        "\n",
        "Show the `FirstName` and `LastName` columns from the `Employees` table, and then create a new column called `FullName`, showing first name and last name joined together in one column in a format like \"DAVOLIO, Nancy\"."
      ],
      "metadata": {
        "id": "h107mQkjP5kx"
      }
    },
    {
      "cell_type": "code",
      "execution_count": 60,
      "source": [
        "%%sql\n",
        "-- start your code here\n",
        "SELECT UPPER(LastName) || ', ' || FirstName AS FullName\n",
        "FROM Employees\n",
        "LIMIT 10"
      ],
      "outputs": [
        {
          "output_type": "stream",
          "name": "stdout",
          "text": [
            " * sqlite:///northwind.sqlite3\n",
            "Done.\n"
          ]
        },
        {
          "output_type": "execute_result",
          "data": {
            "text/plain": [
              "[('DAVOLIO, Nancy',),\n",
              " ('FULLER, Andrew',),\n",
              " ('LEVERLING, Janet',),\n",
              " ('PEACOCK, Margaret',),\n",
              " ('BUCHANAN, Steven',),\n",
              " ('SUYAMA, Michael',),\n",
              " ('KING, Robert',),\n",
              " ('CALLAHAN, Laura',),\n",
              " ('DODSWORTH, Anne',)]"
            ],
            "text/html": [
              "<table>\n",
              "    <thead>\n",
              "        <tr>\n",
              "            <th>FullName</th>\n",
              "        </tr>\n",
              "    </thead>\n",
              "    <tbody>\n",
              "        <tr>\n",
              "            <td>DAVOLIO, Nancy</td>\n",
              "        </tr>\n",
              "        <tr>\n",
              "            <td>FULLER, Andrew</td>\n",
              "        </tr>\n",
              "        <tr>\n",
              "            <td>LEVERLING, Janet</td>\n",
              "        </tr>\n",
              "        <tr>\n",
              "            <td>PEACOCK, Margaret</td>\n",
              "        </tr>\n",
              "        <tr>\n",
              "            <td>BUCHANAN, Steven</td>\n",
              "        </tr>\n",
              "        <tr>\n",
              "            <td>SUYAMA, Michael</td>\n",
              "        </tr>\n",
              "        <tr>\n",
              "            <td>KING, Robert</td>\n",
              "        </tr>\n",
              "        <tr>\n",
              "            <td>CALLAHAN, Laura</td>\n",
              "        </tr>\n",
              "        <tr>\n",
              "            <td>DODSWORTH, Anne</td>\n",
              "        </tr>\n",
              "    </tbody>\n",
              "</table>"
            ]
          },
          "metadata": {},
          "execution_count": 60
        }
      ],
      "metadata": {
        "id": "dmCenF_lP5kz",
        "colab": {
          "base_uri": "https://localhost:8080/",
          "height": 268
        },
        "outputId": "a98a7df6-d4b6-4d2c-8a23-1efdfe2c56c0"
      }
    },
    {
      "cell_type": "markdown",
      "source": [
        "### Ex.9* Which order items have total sales above $12,000.\n",
        "\n",
        "In the `OrderDetails` table, we have the columns `UnitPrice` and `Quantity`. Create a new column, `TotalPrice`, that multiplies these two (ignore the `Discount` column). Display `OrderID`, `ProductID`, `UnitPrice`, `Quantity` and `TotalPrice`. Order the result first by `ProductID` (ascending) and then by `TotalPrice` (descending).\n",
        "\n",
        "Note that the question asks about order items (not orders). One order may contain multiple items/products. An order item is identified by the `OrderID` and `ProductID` columns."
      ],
      "metadata": {
        "id": "heh3Gl-CP5k5"
      }
    },
    {
      "cell_type": "code",
      "execution_count": 97,
      "source": [
        "%%sql\n",
        "-- start your code here\n",
        "SELECT OrderID, ProductID, SUM(UnitPrice * Quantity) AS TotalPrice\n",
        "FROM OrderDetails\n",
        "GROUP BY OrderID, ProductID\n",
        "HAVING TotalPrice > 12000\n",
        "ORDER BY TotalPrice DESC"
      ],
      "outputs": [
        {
          "output_type": "stream",
          "name": "stdout",
          "text": [
            " * sqlite:///northwind.sqlite3\n",
            "Done.\n"
          ]
        },
        {
          "output_type": "execute_result",
          "data": {
            "text/plain": [
              "[(10865, 38, 15810.0), (10981, 38, 15810.0)]"
            ],
            "text/html": [
              "<table>\n",
              "    <thead>\n",
              "        <tr>\n",
              "            <th>OrderID</th>\n",
              "            <th>ProductID</th>\n",
              "            <th>TotalPrice</th>\n",
              "        </tr>\n",
              "    </thead>\n",
              "    <tbody>\n",
              "        <tr>\n",
              "            <td>10865</td>\n",
              "            <td>38</td>\n",
              "            <td>15810.0</td>\n",
              "        </tr>\n",
              "        <tr>\n",
              "            <td>10981</td>\n",
              "            <td>38</td>\n",
              "            <td>15810.0</td>\n",
              "        </tr>\n",
              "    </tbody>\n",
              "</table>"
            ]
          },
          "metadata": {},
          "execution_count": 97
        }
      ],
      "metadata": {
        "id": "8jlohcepP5k5",
        "colab": {
          "base_uri": "https://localhost:8080/",
          "height": 119
        },
        "outputId": "352e97fd-da48-4fe4-9b15-54f63142754a"
      }
    },
    {
      "cell_type": "markdown",
      "source": [
        "### Ex.10 Show all products that need reordering\n",
        "\n",
        "A product need reordering if `UnitsInStock + UnitsOnOrder <= ReorderLevel` and `Discontinued = 0`. In your result, display `ProductID`, `ProductName`, `UnitsInStock`, `UnitsOnOrder`, `ReorderLevel`, and `Discontinued`."
      ],
      "metadata": {
        "id": "8SitwG-HP5lG"
      }
    },
    {
      "cell_type": "code",
      "execution_count": 79,
      "source": [
        "%%sql\n",
        "-- start your code here\n",
        "SELECT ProductID, ProductName, UnitsInStock, UnitsOnOrder, ReorderLevel, Discontinued\n",
        "FROM Products\n",
        "WHERE UnitsInStock + UnitsOnOrder <= ReorderLevel AND Discontinued = 0"
      ],
      "outputs": [
        {
          "output_type": "stream",
          "name": "stdout",
          "text": [
            " * sqlite:///northwind.sqlite3\n",
            "Done.\n"
          ]
        },
        {
          "output_type": "execute_result",
          "data": {
            "text/plain": [
              "[(30, 'Nord-Ost Matjeshering', 10, 0, 15, 0),\n",
              " (70, 'Outback Lager', 15, 10, 30, 0)]"
            ],
            "text/html": [
              "<table>\n",
              "    <thead>\n",
              "        <tr>\n",
              "            <th>ProductID</th>\n",
              "            <th>ProductName</th>\n",
              "            <th>UnitsInStock</th>\n",
              "            <th>UnitsOnOrder</th>\n",
              "            <th>ReorderLevel</th>\n",
              "            <th>Discontinued</th>\n",
              "        </tr>\n",
              "    </thead>\n",
              "    <tbody>\n",
              "        <tr>\n",
              "            <td>30</td>\n",
              "            <td>Nord-Ost Matjeshering</td>\n",
              "            <td>10</td>\n",
              "            <td>0</td>\n",
              "            <td>15</td>\n",
              "            <td>0</td>\n",
              "        </tr>\n",
              "        <tr>\n",
              "            <td>70</td>\n",
              "            <td>Outback Lager</td>\n",
              "            <td>15</td>\n",
              "            <td>10</td>\n",
              "            <td>30</td>\n",
              "            <td>0</td>\n",
              "        </tr>\n",
              "    </tbody>\n",
              "</table>"
            ]
          },
          "metadata": {},
          "execution_count": 79
        }
      ],
      "metadata": {
        "id": "w6WKD5WTP5lG",
        "colab": {
          "base_uri": "https://localhost:8080/",
          "height": 119
        },
        "outputId": "4125c903-83b6-4ec8-b9c6-e2236c963e41"
      }
    },
    {
      "cell_type": "markdown",
      "source": [
        "## Part 2. Summarize and Group Data\n",
        "\n",
        "1. Summarize data using aggregate functions (e.g. `COUNT()`, `MIN()`, `MAX()`, and `AVG()`).\n",
        "2. Group data and filter groups: `SELECT...FROM...GROUP BY...HAVING...`.\n",
        "3. `SELECT` clause ordering: `SELECT...FROM...WHERE...GROUP BY...HAVING...ORDER BY...`.\n",
        "4. Filter data by *subquery*: `SELECT...FROM...WHERE...(SELECT...FROM...)`\n",
        "\n",
        "### Ex.11* Count total number of order items. What's their minimum, maximum and average price?\n",
        "\n",
        "Note that the question asks about order items (not orders). One order may contain multiple items/products. An order item is identified by (OrderID + ProductID)."
      ],
      "metadata": {
        "id": "IJWnaTtsP5lM"
      }
    },
    {
      "cell_type": "code",
      "execution_count": 108,
      "source": [
        "%%sql\n",
        "-- start your code here\n",
        "SELECT SUM(Counts) as N, MIN(TotalPrice) as Min, MAX(TotalPrice) as Max, ROUND(AVG(TotalPrice), 2) as Avg\n",
        "FROM ( SELECT OrderID, ProductID, COUNT(*) AS Counts, SUM(UnitPrice * Quantity) AS TotalPrice FROM OrderDetails GROUP BY OrderID, ProductID )"
      ],
      "outputs": [
        {
          "output_type": "stream",
          "name": "stdout",
          "text": [
            " * sqlite:///northwind.sqlite3\n",
            "Done.\n"
          ]
        },
        {
          "output_type": "execute_result",
          "data": {
            "text/plain": [
              "[(2155, 4.8, 15810.0, 628.81)]"
            ],
            "text/html": [
              "<table>\n",
              "    <thead>\n",
              "        <tr>\n",
              "            <th>N</th>\n",
              "            <th>Min</th>\n",
              "            <th>Max</th>\n",
              "            <th>Avg</th>\n",
              "        </tr>\n",
              "    </thead>\n",
              "    <tbody>\n",
              "        <tr>\n",
              "            <td>2155</td>\n",
              "            <td>4.8</td>\n",
              "            <td>15810.0</td>\n",
              "            <td>628.81</td>\n",
              "        </tr>\n",
              "    </tbody>\n",
              "</table>"
            ]
          },
          "metadata": {},
          "execution_count": 108
        }
      ],
      "metadata": {
        "id": "QN_WXbVDP5lN",
        "colab": {
          "base_uri": "https://localhost:8080/",
          "height": 97
        },
        "outputId": "f6005938-97db-47e1-b111-e11caaa40819"
      }
    },
    {
      "cell_type": "markdown",
      "source": [
        "### Ex. 12* How many customers do we have for each contact title.\n",
        "\n",
        "Order the result by the count of contact titles."
      ],
      "metadata": {
        "id": "atzWiwfxP5lU"
      }
    },
    {
      "cell_type": "code",
      "execution_count": 83,
      "source": [
        "%%sql\n",
        "-- start your code here\n",
        "SELECT ContactTitle, COUNT(CustomerID) AS Count\n",
        "FROM Customers\n",
        "GROUP BY ContactTitle\n",
        "ORDER BY Count DESC"
      ],
      "outputs": [
        {
          "output_type": "stream",
          "name": "stdout",
          "text": [
            " * sqlite:///northwind.sqlite3\n",
            "Done.\n"
          ]
        },
        {
          "output_type": "execute_result",
          "data": {
            "text/plain": [
              "[('Sales Representative', 17),\n",
              " ('Owner', 17),\n",
              " ('Marketing Manager', 12),\n",
              " ('Sales Manager', 11),\n",
              " ('Accounting Manager', 10),\n",
              " ('Sales Associate', 7),\n",
              " ('Marketing Assistant', 6),\n",
              " ('Sales Agent', 5),\n",
              " ('Order Administrator', 2),\n",
              " ('Assistant Sales Agent', 2),\n",
              " ('Owner/Marketing Assistant', 1),\n",
              " ('Assistant Sales Representative', 1)]"
            ],
            "text/html": [
              "<table>\n",
              "    <thead>\n",
              "        <tr>\n",
              "            <th>ContactTitle</th>\n",
              "            <th>Count</th>\n",
              "        </tr>\n",
              "    </thead>\n",
              "    <tbody>\n",
              "        <tr>\n",
              "            <td>Sales Representative</td>\n",
              "            <td>17</td>\n",
              "        </tr>\n",
              "        <tr>\n",
              "            <td>Owner</td>\n",
              "            <td>17</td>\n",
              "        </tr>\n",
              "        <tr>\n",
              "            <td>Marketing Manager</td>\n",
              "            <td>12</td>\n",
              "        </tr>\n",
              "        <tr>\n",
              "            <td>Sales Manager</td>\n",
              "            <td>11</td>\n",
              "        </tr>\n",
              "        <tr>\n",
              "            <td>Accounting Manager</td>\n",
              "            <td>10</td>\n",
              "        </tr>\n",
              "        <tr>\n",
              "            <td>Sales Associate</td>\n",
              "            <td>7</td>\n",
              "        </tr>\n",
              "        <tr>\n",
              "            <td>Marketing Assistant</td>\n",
              "            <td>6</td>\n",
              "        </tr>\n",
              "        <tr>\n",
              "            <td>Sales Agent</td>\n",
              "            <td>5</td>\n",
              "        </tr>\n",
              "        <tr>\n",
              "            <td>Order Administrator</td>\n",
              "            <td>2</td>\n",
              "        </tr>\n",
              "        <tr>\n",
              "            <td>Assistant Sales Agent</td>\n",
              "            <td>2</td>\n",
              "        </tr>\n",
              "        <tr>\n",
              "            <td>Owner/Marketing Assistant</td>\n",
              "            <td>1</td>\n",
              "        </tr>\n",
              "        <tr>\n",
              "            <td>Assistant Sales Representative</td>\n",
              "            <td>1</td>\n",
              "        </tr>\n",
              "    </tbody>\n",
              "</table>"
            ]
          },
          "metadata": {},
          "execution_count": 83
        }
      ],
      "metadata": {
        "id": "XpwkY2yPP5lU",
        "colab": {
          "base_uri": "https://localhost:8080/",
          "height": 332
        },
        "outputId": "75d06c64-d916-4ba1-99c1-179de0bb15b8"
      }
    },
    {
      "cell_type": "markdown",
      "source": [
        "### Ex.13 Find total customers per country and city"
      ],
      "metadata": {
        "id": "1e2HP45FP5lY"
      }
    },
    {
      "cell_type": "code",
      "execution_count": 86,
      "source": [
        "%%sql\n",
        "-- start your code here\n",
        "SELECT Country, City, COUNT(CustomerID) AS Count\n",
        "FROM Customers\n",
        "GROUP BY Country, City"
      ],
      "outputs": [
        {
          "output_type": "stream",
          "name": "stdout",
          "text": [
            " * sqlite:///northwind.sqlite3\n",
            "Done.\n"
          ]
        },
        {
          "output_type": "execute_result",
          "data": {
            "text/plain": [
              "[('Argentina', 'Buenos Aires', 3),\n",
              " ('Austria', 'Graz', 1),\n",
              " ('Austria', 'Salzburg', 1),\n",
              " ('Belgium', 'Bruxelles', 1),\n",
              " ('Belgium', 'Charleroi', 1),\n",
              " ('Brazil', 'Campinas', 1),\n",
              " ('Brazil', 'Resende', 1),\n",
              " ('Brazil', 'Rio de Janeiro', 3),\n",
              " ('Brazil', 'Sao Paulo', 4),\n",
              " ('Canada', 'Montréal', 1),\n",
              " ('Canada', 'Tsawassen', 1),\n",
              " ('Canada', 'Vancouver', 1),\n",
              " ('Denmark', 'Kobenhavn', 1),\n",
              " ('Denmark', 'Århus', 1),\n",
              " ('Finland', 'Helsinki', 1),\n",
              " ('Finland', 'Oulu', 1),\n",
              " ('France', 'Lille', 1),\n",
              " ('France', 'Lyon', 1),\n",
              " ('France', 'Marseille', 1),\n",
              " ('France', 'Nantes', 2),\n",
              " ('France', 'Paris', 2),\n",
              " ('France', 'Reims', 1),\n",
              " ('France', 'Strasbourg', 1),\n",
              " ('France', 'Toulouse', 1),\n",
              " ('France', 'Versailles', 1),\n",
              " ('Germany', 'Aachen', 1),\n",
              " ('Germany', 'Berlin', 1),\n",
              " ('Germany', 'Brandenburg', 1),\n",
              " ('Germany', 'Cunewalde', 1),\n",
              " ('Germany', 'Frankfurt a.M.', 1),\n",
              " ('Germany', 'Köln', 1),\n",
              " ('Germany', 'Leipzig', 1),\n",
              " ('Germany', 'Mannheim', 1),\n",
              " ('Germany', 'München', 1),\n",
              " ('Germany', 'Münster', 1),\n",
              " ('Germany', 'Stuttgart', 1),\n",
              " ('Ireland', 'Cork', 1),\n",
              " ('Italy', 'Bergamo', 1),\n",
              " ('Italy', 'Reggio Emilia', 1),\n",
              " ('Italy', 'Torino', 1),\n",
              " ('Mexico', 'México D.F.', 5),\n",
              " ('Norway', 'Stavern', 1),\n",
              " ('Poland', 'Warszawa', 1),\n",
              " ('Portugal', 'Lisboa', 2),\n",
              " ('Spain', 'Barcelona', 1),\n",
              " ('Spain', 'Madrid', 3),\n",
              " ('Spain', 'Sevilla', 1),\n",
              " ('Sweden', 'Bräcke', 1),\n",
              " ('Sweden', 'Luleå', 1),\n",
              " ('Switzerland', 'Bern', 1),\n",
              " ('Switzerland', 'Genève', 1),\n",
              " ('UK', 'Cowes', 1),\n",
              " ('UK', 'London', 6),\n",
              " ('USA', 'Albuquerque', 1),\n",
              " ('USA', 'Anchorage', 1),\n",
              " ('USA', 'Boise', 1),\n",
              " ('USA', 'Butte', 1),\n",
              " ('USA', 'Elgin', 1),\n",
              " ('USA', 'Eugene', 1),\n",
              " ('USA', 'Kirkland', 1),\n",
              " ('USA', 'Lander', 1),\n",
              " ('USA', 'Portland', 2),\n",
              " ('USA', 'San Francisco', 1),\n",
              " ('USA', 'Seattle', 1),\n",
              " ('USA', 'Walla Walla', 1),\n",
              " ('Venezuela', 'Barquisimeto', 1),\n",
              " ('Venezuela', 'Caracas', 1),\n",
              " ('Venezuela', 'I. de Margarita', 1),\n",
              " ('Venezuela', 'San Cristóbal', 1)]"
            ],
            "text/html": [
              "<table>\n",
              "    <thead>\n",
              "        <tr>\n",
              "            <th>Country</th>\n",
              "            <th>City</th>\n",
              "            <th>Count</th>\n",
              "        </tr>\n",
              "    </thead>\n",
              "    <tbody>\n",
              "        <tr>\n",
              "            <td>Argentina</td>\n",
              "            <td>Buenos Aires</td>\n",
              "            <td>3</td>\n",
              "        </tr>\n",
              "        <tr>\n",
              "            <td>Austria</td>\n",
              "            <td>Graz</td>\n",
              "            <td>1</td>\n",
              "        </tr>\n",
              "        <tr>\n",
              "            <td>Austria</td>\n",
              "            <td>Salzburg</td>\n",
              "            <td>1</td>\n",
              "        </tr>\n",
              "        <tr>\n",
              "            <td>Belgium</td>\n",
              "            <td>Bruxelles</td>\n",
              "            <td>1</td>\n",
              "        </tr>\n",
              "        <tr>\n",
              "            <td>Belgium</td>\n",
              "            <td>Charleroi</td>\n",
              "            <td>1</td>\n",
              "        </tr>\n",
              "        <tr>\n",
              "            <td>Brazil</td>\n",
              "            <td>Campinas</td>\n",
              "            <td>1</td>\n",
              "        </tr>\n",
              "        <tr>\n",
              "            <td>Brazil</td>\n",
              "            <td>Resende</td>\n",
              "            <td>1</td>\n",
              "        </tr>\n",
              "        <tr>\n",
              "            <td>Brazil</td>\n",
              "            <td>Rio de Janeiro</td>\n",
              "            <td>3</td>\n",
              "        </tr>\n",
              "        <tr>\n",
              "            <td>Brazil</td>\n",
              "            <td>Sao Paulo</td>\n",
              "            <td>4</td>\n",
              "        </tr>\n",
              "        <tr>\n",
              "            <td>Canada</td>\n",
              "            <td>Montréal</td>\n",
              "            <td>1</td>\n",
              "        </tr>\n",
              "        <tr>\n",
              "            <td>Canada</td>\n",
              "            <td>Tsawassen</td>\n",
              "            <td>1</td>\n",
              "        </tr>\n",
              "        <tr>\n",
              "            <td>Canada</td>\n",
              "            <td>Vancouver</td>\n",
              "            <td>1</td>\n",
              "        </tr>\n",
              "        <tr>\n",
              "            <td>Denmark</td>\n",
              "            <td>Kobenhavn</td>\n",
              "            <td>1</td>\n",
              "        </tr>\n",
              "        <tr>\n",
              "            <td>Denmark</td>\n",
              "            <td>Århus</td>\n",
              "            <td>1</td>\n",
              "        </tr>\n",
              "        <tr>\n",
              "            <td>Finland</td>\n",
              "            <td>Helsinki</td>\n",
              "            <td>1</td>\n",
              "        </tr>\n",
              "        <tr>\n",
              "            <td>Finland</td>\n",
              "            <td>Oulu</td>\n",
              "            <td>1</td>\n",
              "        </tr>\n",
              "        <tr>\n",
              "            <td>France</td>\n",
              "            <td>Lille</td>\n",
              "            <td>1</td>\n",
              "        </tr>\n",
              "        <tr>\n",
              "            <td>France</td>\n",
              "            <td>Lyon</td>\n",
              "            <td>1</td>\n",
              "        </tr>\n",
              "        <tr>\n",
              "            <td>France</td>\n",
              "            <td>Marseille</td>\n",
              "            <td>1</td>\n",
              "        </tr>\n",
              "        <tr>\n",
              "            <td>France</td>\n",
              "            <td>Nantes</td>\n",
              "            <td>2</td>\n",
              "        </tr>\n",
              "        <tr>\n",
              "            <td>France</td>\n",
              "            <td>Paris</td>\n",
              "            <td>2</td>\n",
              "        </tr>\n",
              "        <tr>\n",
              "            <td>France</td>\n",
              "            <td>Reims</td>\n",
              "            <td>1</td>\n",
              "        </tr>\n",
              "        <tr>\n",
              "            <td>France</td>\n",
              "            <td>Strasbourg</td>\n",
              "            <td>1</td>\n",
              "        </tr>\n",
              "        <tr>\n",
              "            <td>France</td>\n",
              "            <td>Toulouse</td>\n",
              "            <td>1</td>\n",
              "        </tr>\n",
              "        <tr>\n",
              "            <td>France</td>\n",
              "            <td>Versailles</td>\n",
              "            <td>1</td>\n",
              "        </tr>\n",
              "        <tr>\n",
              "            <td>Germany</td>\n",
              "            <td>Aachen</td>\n",
              "            <td>1</td>\n",
              "        </tr>\n",
              "        <tr>\n",
              "            <td>Germany</td>\n",
              "            <td>Berlin</td>\n",
              "            <td>1</td>\n",
              "        </tr>\n",
              "        <tr>\n",
              "            <td>Germany</td>\n",
              "            <td>Brandenburg</td>\n",
              "            <td>1</td>\n",
              "        </tr>\n",
              "        <tr>\n",
              "            <td>Germany</td>\n",
              "            <td>Cunewalde</td>\n",
              "            <td>1</td>\n",
              "        </tr>\n",
              "        <tr>\n",
              "            <td>Germany</td>\n",
              "            <td>Frankfurt a.M.</td>\n",
              "            <td>1</td>\n",
              "        </tr>\n",
              "        <tr>\n",
              "            <td>Germany</td>\n",
              "            <td>Köln</td>\n",
              "            <td>1</td>\n",
              "        </tr>\n",
              "        <tr>\n",
              "            <td>Germany</td>\n",
              "            <td>Leipzig</td>\n",
              "            <td>1</td>\n",
              "        </tr>\n",
              "        <tr>\n",
              "            <td>Germany</td>\n",
              "            <td>Mannheim</td>\n",
              "            <td>1</td>\n",
              "        </tr>\n",
              "        <tr>\n",
              "            <td>Germany</td>\n",
              "            <td>München</td>\n",
              "            <td>1</td>\n",
              "        </tr>\n",
              "        <tr>\n",
              "            <td>Germany</td>\n",
              "            <td>Münster</td>\n",
              "            <td>1</td>\n",
              "        </tr>\n",
              "        <tr>\n",
              "            <td>Germany</td>\n",
              "            <td>Stuttgart</td>\n",
              "            <td>1</td>\n",
              "        </tr>\n",
              "        <tr>\n",
              "            <td>Ireland</td>\n",
              "            <td>Cork</td>\n",
              "            <td>1</td>\n",
              "        </tr>\n",
              "        <tr>\n",
              "            <td>Italy</td>\n",
              "            <td>Bergamo</td>\n",
              "            <td>1</td>\n",
              "        </tr>\n",
              "        <tr>\n",
              "            <td>Italy</td>\n",
              "            <td>Reggio Emilia</td>\n",
              "            <td>1</td>\n",
              "        </tr>\n",
              "        <tr>\n",
              "            <td>Italy</td>\n",
              "            <td>Torino</td>\n",
              "            <td>1</td>\n",
              "        </tr>\n",
              "        <tr>\n",
              "            <td>Mexico</td>\n",
              "            <td>México D.F.</td>\n",
              "            <td>5</td>\n",
              "        </tr>\n",
              "        <tr>\n",
              "            <td>Norway</td>\n",
              "            <td>Stavern</td>\n",
              "            <td>1</td>\n",
              "        </tr>\n",
              "        <tr>\n",
              "            <td>Poland</td>\n",
              "            <td>Warszawa</td>\n",
              "            <td>1</td>\n",
              "        </tr>\n",
              "        <tr>\n",
              "            <td>Portugal</td>\n",
              "            <td>Lisboa</td>\n",
              "            <td>2</td>\n",
              "        </tr>\n",
              "        <tr>\n",
              "            <td>Spain</td>\n",
              "            <td>Barcelona</td>\n",
              "            <td>1</td>\n",
              "        </tr>\n",
              "        <tr>\n",
              "            <td>Spain</td>\n",
              "            <td>Madrid</td>\n",
              "            <td>3</td>\n",
              "        </tr>\n",
              "        <tr>\n",
              "            <td>Spain</td>\n",
              "            <td>Sevilla</td>\n",
              "            <td>1</td>\n",
              "        </tr>\n",
              "        <tr>\n",
              "            <td>Sweden</td>\n",
              "            <td>Bräcke</td>\n",
              "            <td>1</td>\n",
              "        </tr>\n",
              "        <tr>\n",
              "            <td>Sweden</td>\n",
              "            <td>Luleå</td>\n",
              "            <td>1</td>\n",
              "        </tr>\n",
              "        <tr>\n",
              "            <td>Switzerland</td>\n",
              "            <td>Bern</td>\n",
              "            <td>1</td>\n",
              "        </tr>\n",
              "        <tr>\n",
              "            <td>Switzerland</td>\n",
              "            <td>Genève</td>\n",
              "            <td>1</td>\n",
              "        </tr>\n",
              "        <tr>\n",
              "            <td>UK</td>\n",
              "            <td>Cowes</td>\n",
              "            <td>1</td>\n",
              "        </tr>\n",
              "        <tr>\n",
              "            <td>UK</td>\n",
              "            <td>London</td>\n",
              "            <td>6</td>\n",
              "        </tr>\n",
              "        <tr>\n",
              "            <td>USA</td>\n",
              "            <td>Albuquerque</td>\n",
              "            <td>1</td>\n",
              "        </tr>\n",
              "        <tr>\n",
              "            <td>USA</td>\n",
              "            <td>Anchorage</td>\n",
              "            <td>1</td>\n",
              "        </tr>\n",
              "        <tr>\n",
              "            <td>USA</td>\n",
              "            <td>Boise</td>\n",
              "            <td>1</td>\n",
              "        </tr>\n",
              "        <tr>\n",
              "            <td>USA</td>\n",
              "            <td>Butte</td>\n",
              "            <td>1</td>\n",
              "        </tr>\n",
              "        <tr>\n",
              "            <td>USA</td>\n",
              "            <td>Elgin</td>\n",
              "            <td>1</td>\n",
              "        </tr>\n",
              "        <tr>\n",
              "            <td>USA</td>\n",
              "            <td>Eugene</td>\n",
              "            <td>1</td>\n",
              "        </tr>\n",
              "        <tr>\n",
              "            <td>USA</td>\n",
              "            <td>Kirkland</td>\n",
              "            <td>1</td>\n",
              "        </tr>\n",
              "        <tr>\n",
              "            <td>USA</td>\n",
              "            <td>Lander</td>\n",
              "            <td>1</td>\n",
              "        </tr>\n",
              "        <tr>\n",
              "            <td>USA</td>\n",
              "            <td>Portland</td>\n",
              "            <td>2</td>\n",
              "        </tr>\n",
              "        <tr>\n",
              "            <td>USA</td>\n",
              "            <td>San Francisco</td>\n",
              "            <td>1</td>\n",
              "        </tr>\n",
              "        <tr>\n",
              "            <td>USA</td>\n",
              "            <td>Seattle</td>\n",
              "            <td>1</td>\n",
              "        </tr>\n",
              "        <tr>\n",
              "            <td>USA</td>\n",
              "            <td>Walla Walla</td>\n",
              "            <td>1</td>\n",
              "        </tr>\n",
              "        <tr>\n",
              "            <td>Venezuela</td>\n",
              "            <td>Barquisimeto</td>\n",
              "            <td>1</td>\n",
              "        </tr>\n",
              "        <tr>\n",
              "            <td>Venezuela</td>\n",
              "            <td>Caracas</td>\n",
              "            <td>1</td>\n",
              "        </tr>\n",
              "        <tr>\n",
              "            <td>Venezuela</td>\n",
              "            <td>I. de Margarita</td>\n",
              "            <td>1</td>\n",
              "        </tr>\n",
              "        <tr>\n",
              "            <td>Venezuela</td>\n",
              "            <td>San Cristóbal</td>\n",
              "            <td>1</td>\n",
              "        </tr>\n",
              "    </tbody>\n",
              "</table>"
            ]
          },
          "metadata": {},
          "execution_count": 86
        }
      ],
      "metadata": {
        "id": "eyJLA4IsP5la",
        "colab": {
          "base_uri": "https://localhost:8080/",
          "height": 1000
        },
        "outputId": "6de185e4-df64-4f71-f623-44cd56bfa86e"
      }
    },
    {
      "cell_type": "markdown",
      "source": [
        "### Ex.14* Show all orders with values greater than $12,000?\n",
        "\n",
        "Ignore the `Discount`. Contrast this question to Ex.9."
      ],
      "metadata": {
        "id": "Ie1Up0WCP5lf"
      }
    },
    {
      "cell_type": "code",
      "execution_count": 89,
      "source": [
        "%%sql\n",
        "-- start your code here\n",
        "SELECT OrderID, ROUND(SUM(UnitPrice * Quantity), 2) AS TotalPrice\n",
        "FROM OrderDetails\n",
        "GROUP BY OrderID\n",
        "HAVING TotalPrice > 12000\n",
        "ORDER BY TotalPrice DESC"
      ],
      "outputs": [
        {
          "output_type": "stream",
          "name": "stdout",
          "text": [
            " * sqlite:///northwind.sqlite3\n",
            "Done.\n"
          ]
        },
        {
          "output_type": "execute_result",
          "data": {
            "text/plain": [
              "[(10865, 17250.0), (11030, 16321.9), (10981, 15810.0), (10372, 12281.2)]"
            ],
            "text/html": [
              "<table>\n",
              "    <thead>\n",
              "        <tr>\n",
              "            <th>OrderID</th>\n",
              "            <th>TotalPrice</th>\n",
              "        </tr>\n",
              "    </thead>\n",
              "    <tbody>\n",
              "        <tr>\n",
              "            <td>10865</td>\n",
              "            <td>17250.0</td>\n",
              "        </tr>\n",
              "        <tr>\n",
              "            <td>11030</td>\n",
              "            <td>16321.9</td>\n",
              "        </tr>\n",
              "        <tr>\n",
              "            <td>10981</td>\n",
              "            <td>15810.0</td>\n",
              "        </tr>\n",
              "        <tr>\n",
              "            <td>10372</td>\n",
              "            <td>12281.2</td>\n",
              "        </tr>\n",
              "    </tbody>\n",
              "</table>"
            ]
          },
          "metadata": {},
          "execution_count": 89
        }
      ],
      "metadata": {
        "id": "ghH38U-EP5lf",
        "colab": {
          "base_uri": "https://localhost:8080/",
          "height": 162
        },
        "outputId": "df83f5be-03d2-4687-e70b-1152136c2711"
      }
    },
    {
      "cell_type": "markdown",
      "source": [
        "### Ex.15* Find top three countries with the highest average freight charges for the last 12 months.\n",
        "\n",
        "\"The last 12 months\" is with respect to the last `OrderDate` in the `Orders` table."
      ],
      "metadata": {
        "id": "6L0C9-krP5ll"
      }
    },
    {
      "cell_type": "code",
      "execution_count": 172,
      "source": [
        "%%sql\n",
        "-- start your code here\n",
        "-- datetime(): https://www.sqlite.org/lang_datefunc.html"
      ],
      "outputs": [
        {
          "output_type": "stream",
          "name": "stdout",
          "text": [
            " * sqlite:///northwind.sqlite3\n",
            "Done.\n"
          ]
        },
        {
          "output_type": "execute_result",
          "data": {
            "text/plain": [
              "[]"
            ]
          },
          "metadata": {},
          "execution_count": 172
        }
      ],
      "metadata": {
        "id": "XGEsw_hL2FXR",
        "colab": {
          "base_uri": "https://localhost:8080/"
        },
        "outputId": "62bc1dd8-6337-484a-d532-3d64b45d447d"
      }
    },
    {
      "cell_type": "markdown",
      "source": [
        "## Part 3. Join Tables\n",
        "\n",
        "1. Inner join: `SELECT...FROM...INNER JOIN...ON...`\n",
        "2. Left join:  `SELECT...FROM...LEFT JOIN...ON...`\n",
        "3. Other joins.\n",
        "\n",
        "### Ex.16* Show products and their associated suppliers\n",
        "\n",
        "Display the `ProductID`, `ProductName`, and the `CompanyName` of the Supplier. Sort by `ProductID`.\n",
        "\n",
        "We can use the `WHERE` keyword."
      ],
      "metadata": {
        "id": "vd921rwiP5lr"
      }
    },
    {
      "cell_type": "code",
      "execution_count": 115,
      "source": [
        "%%sql\n",
        "-- start your code here\n",
        "SELECT ProductID, ProductName, CompanyName\n",
        "FROM Products, Suppliers\n",
        "WHERE Products.SupplierID = Suppliers.SupplierID\n",
        "ORDER BY ProductID\n",
        "LIMIT 20"
      ],
      "outputs": [
        {
          "output_type": "stream",
          "name": "stdout",
          "text": [
            " * sqlite:///northwind.sqlite3\n",
            "Done.\n"
          ]
        },
        {
          "output_type": "execute_result",
          "data": {
            "text/plain": [
              "[(1, 'Chai', 'Exotic Liquids'),\n",
              " (2, 'Chang', 'Exotic Liquids'),\n",
              " (3, 'Aniseed Syrup', 'Exotic Liquids'),\n",
              " (4, \"Chef Anton's Cajun Seasoning\", 'New Orleans Cajun Delights'),\n",
              " (5, \"Chef Anton's Gumbo Mix\", 'New Orleans Cajun Delights'),\n",
              " (6, \"Grandma's Boysenberry Spread\", \"Grandma Kelly's Homestead\"),\n",
              " (7, \"Uncle Bob's Organic Dried Pears\", \"Grandma Kelly's Homestead\"),\n",
              " (8, 'Northwoods Cranberry Sauce', \"Grandma Kelly's Homestead\"),\n",
              " (9, 'Mishi Kobe Niku', 'Tokyo Traders'),\n",
              " (10, 'Ikura', 'Tokyo Traders'),\n",
              " (11, 'Queso Cabrales', \"Cooperativa de Quesos 'Las Cabras'\"),\n",
              " (12, 'Queso Manchego La Pastora', \"Cooperativa de Quesos 'Las Cabras'\"),\n",
              " (13, 'Konbu', \"Mayumi's\"),\n",
              " (14, 'Tofu', \"Mayumi's\"),\n",
              " (15, 'Genen Shouyu', \"Mayumi's\"),\n",
              " (16, 'Pavlova', 'Pavlova, Ltd.'),\n",
              " (17, 'Alice Mutton', 'Pavlova, Ltd.'),\n",
              " (18, 'Carnarvon Tigers', 'Pavlova, Ltd.'),\n",
              " (19, 'Teatime Chocolate Biscuits', 'Specialty Biscuits, Ltd.'),\n",
              " (20, \"Sir Rodney's Marmalade\", 'Specialty Biscuits, Ltd.')]"
            ],
            "text/html": [
              "<table>\n",
              "    <thead>\n",
              "        <tr>\n",
              "            <th>ProductID</th>\n",
              "            <th>ProductName</th>\n",
              "            <th>CompanyName</th>\n",
              "        </tr>\n",
              "    </thead>\n",
              "    <tbody>\n",
              "        <tr>\n",
              "            <td>1</td>\n",
              "            <td>Chai</td>\n",
              "            <td>Exotic Liquids</td>\n",
              "        </tr>\n",
              "        <tr>\n",
              "            <td>2</td>\n",
              "            <td>Chang</td>\n",
              "            <td>Exotic Liquids</td>\n",
              "        </tr>\n",
              "        <tr>\n",
              "            <td>3</td>\n",
              "            <td>Aniseed Syrup</td>\n",
              "            <td>Exotic Liquids</td>\n",
              "        </tr>\n",
              "        <tr>\n",
              "            <td>4</td>\n",
              "            <td>Chef Anton&#x27;s Cajun Seasoning</td>\n",
              "            <td>New Orleans Cajun Delights</td>\n",
              "        </tr>\n",
              "        <tr>\n",
              "            <td>5</td>\n",
              "            <td>Chef Anton&#x27;s Gumbo Mix</td>\n",
              "            <td>New Orleans Cajun Delights</td>\n",
              "        </tr>\n",
              "        <tr>\n",
              "            <td>6</td>\n",
              "            <td>Grandma&#x27;s Boysenberry Spread</td>\n",
              "            <td>Grandma Kelly&#x27;s Homestead</td>\n",
              "        </tr>\n",
              "        <tr>\n",
              "            <td>7</td>\n",
              "            <td>Uncle Bob&#x27;s Organic Dried Pears</td>\n",
              "            <td>Grandma Kelly&#x27;s Homestead</td>\n",
              "        </tr>\n",
              "        <tr>\n",
              "            <td>8</td>\n",
              "            <td>Northwoods Cranberry Sauce</td>\n",
              "            <td>Grandma Kelly&#x27;s Homestead</td>\n",
              "        </tr>\n",
              "        <tr>\n",
              "            <td>9</td>\n",
              "            <td>Mishi Kobe Niku</td>\n",
              "            <td>Tokyo Traders</td>\n",
              "        </tr>\n",
              "        <tr>\n",
              "            <td>10</td>\n",
              "            <td>Ikura</td>\n",
              "            <td>Tokyo Traders</td>\n",
              "        </tr>\n",
              "        <tr>\n",
              "            <td>11</td>\n",
              "            <td>Queso Cabrales</td>\n",
              "            <td>Cooperativa de Quesos &#x27;Las Cabras&#x27;</td>\n",
              "        </tr>\n",
              "        <tr>\n",
              "            <td>12</td>\n",
              "            <td>Queso Manchego La Pastora</td>\n",
              "            <td>Cooperativa de Quesos &#x27;Las Cabras&#x27;</td>\n",
              "        </tr>\n",
              "        <tr>\n",
              "            <td>13</td>\n",
              "            <td>Konbu</td>\n",
              "            <td>Mayumi&#x27;s</td>\n",
              "        </tr>\n",
              "        <tr>\n",
              "            <td>14</td>\n",
              "            <td>Tofu</td>\n",
              "            <td>Mayumi&#x27;s</td>\n",
              "        </tr>\n",
              "        <tr>\n",
              "            <td>15</td>\n",
              "            <td>Genen Shouyu</td>\n",
              "            <td>Mayumi&#x27;s</td>\n",
              "        </tr>\n",
              "        <tr>\n",
              "            <td>16</td>\n",
              "            <td>Pavlova</td>\n",
              "            <td>Pavlova, Ltd.</td>\n",
              "        </tr>\n",
              "        <tr>\n",
              "            <td>17</td>\n",
              "            <td>Alice Mutton</td>\n",
              "            <td>Pavlova, Ltd.</td>\n",
              "        </tr>\n",
              "        <tr>\n",
              "            <td>18</td>\n",
              "            <td>Carnarvon Tigers</td>\n",
              "            <td>Pavlova, Ltd.</td>\n",
              "        </tr>\n",
              "        <tr>\n",
              "            <td>19</td>\n",
              "            <td>Teatime Chocolate Biscuits</td>\n",
              "            <td>Specialty Biscuits, Ltd.</td>\n",
              "        </tr>\n",
              "        <tr>\n",
              "            <td>20</td>\n",
              "            <td>Sir Rodney&#x27;s Marmalade</td>\n",
              "            <td>Specialty Biscuits, Ltd.</td>\n",
              "        </tr>\n",
              "    </tbody>\n",
              "</table>"
            ]
          },
          "metadata": {},
          "execution_count": 115
        }
      ],
      "metadata": {
        "id": "YlnNWYlVP5ls",
        "colab": {
          "base_uri": "https://localhost:8080/",
          "height": 503
        },
        "outputId": "932a0e92-4adf-414b-da51-52fb02844d64"
      }
    },
    {
      "cell_type": "markdown",
      "source": [
        "We can also use the `(INNER) JOIN` keyword."
      ],
      "metadata": {
        "id": "fLaN2Ph3P5lw"
      }
    },
    {
      "cell_type": "code",
      "execution_count": 114,
      "source": [
        "%%sql\n",
        "-- start your code here\n",
        "SELECT ProductID, ProductName, CompanyName\n",
        "FROM Products\n",
        "INNER JOIN Suppliers\n",
        "ON Products.SupplierID = Suppliers.SupplierID\n",
        "ORDER BY ProductID\n",
        "LIMIT 20"
      ],
      "outputs": [
        {
          "output_type": "stream",
          "name": "stdout",
          "text": [
            " * sqlite:///northwind.sqlite3\n",
            "Done.\n"
          ]
        },
        {
          "output_type": "execute_result",
          "data": {
            "text/plain": [
              "[(1, 'Chai', 'Exotic Liquids'),\n",
              " (2, 'Chang', 'Exotic Liquids'),\n",
              " (3, 'Aniseed Syrup', 'Exotic Liquids'),\n",
              " (4, \"Chef Anton's Cajun Seasoning\", 'New Orleans Cajun Delights'),\n",
              " (5, \"Chef Anton's Gumbo Mix\", 'New Orleans Cajun Delights'),\n",
              " (6, \"Grandma's Boysenberry Spread\", \"Grandma Kelly's Homestead\"),\n",
              " (7, \"Uncle Bob's Organic Dried Pears\", \"Grandma Kelly's Homestead\"),\n",
              " (8, 'Northwoods Cranberry Sauce', \"Grandma Kelly's Homestead\"),\n",
              " (9, 'Mishi Kobe Niku', 'Tokyo Traders'),\n",
              " (10, 'Ikura', 'Tokyo Traders'),\n",
              " (11, 'Queso Cabrales', \"Cooperativa de Quesos 'Las Cabras'\"),\n",
              " (12, 'Queso Manchego La Pastora', \"Cooperativa de Quesos 'Las Cabras'\"),\n",
              " (13, 'Konbu', \"Mayumi's\"),\n",
              " (14, 'Tofu', \"Mayumi's\"),\n",
              " (15, 'Genen Shouyu', \"Mayumi's\"),\n",
              " (16, 'Pavlova', 'Pavlova, Ltd.'),\n",
              " (17, 'Alice Mutton', 'Pavlova, Ltd.'),\n",
              " (18, 'Carnarvon Tigers', 'Pavlova, Ltd.'),\n",
              " (19, 'Teatime Chocolate Biscuits', 'Specialty Biscuits, Ltd.'),\n",
              " (20, \"Sir Rodney's Marmalade\", 'Specialty Biscuits, Ltd.')]"
            ],
            "text/html": [
              "<table>\n",
              "    <thead>\n",
              "        <tr>\n",
              "            <th>ProductID</th>\n",
              "            <th>ProductName</th>\n",
              "            <th>CompanyName</th>\n",
              "        </tr>\n",
              "    </thead>\n",
              "    <tbody>\n",
              "        <tr>\n",
              "            <td>1</td>\n",
              "            <td>Chai</td>\n",
              "            <td>Exotic Liquids</td>\n",
              "        </tr>\n",
              "        <tr>\n",
              "            <td>2</td>\n",
              "            <td>Chang</td>\n",
              "            <td>Exotic Liquids</td>\n",
              "        </tr>\n",
              "        <tr>\n",
              "            <td>3</td>\n",
              "            <td>Aniseed Syrup</td>\n",
              "            <td>Exotic Liquids</td>\n",
              "        </tr>\n",
              "        <tr>\n",
              "            <td>4</td>\n",
              "            <td>Chef Anton&#x27;s Cajun Seasoning</td>\n",
              "            <td>New Orleans Cajun Delights</td>\n",
              "        </tr>\n",
              "        <tr>\n",
              "            <td>5</td>\n",
              "            <td>Chef Anton&#x27;s Gumbo Mix</td>\n",
              "            <td>New Orleans Cajun Delights</td>\n",
              "        </tr>\n",
              "        <tr>\n",
              "            <td>6</td>\n",
              "            <td>Grandma&#x27;s Boysenberry Spread</td>\n",
              "            <td>Grandma Kelly&#x27;s Homestead</td>\n",
              "        </tr>\n",
              "        <tr>\n",
              "            <td>7</td>\n",
              "            <td>Uncle Bob&#x27;s Organic Dried Pears</td>\n",
              "            <td>Grandma Kelly&#x27;s Homestead</td>\n",
              "        </tr>\n",
              "        <tr>\n",
              "            <td>8</td>\n",
              "            <td>Northwoods Cranberry Sauce</td>\n",
              "            <td>Grandma Kelly&#x27;s Homestead</td>\n",
              "        </tr>\n",
              "        <tr>\n",
              "            <td>9</td>\n",
              "            <td>Mishi Kobe Niku</td>\n",
              "            <td>Tokyo Traders</td>\n",
              "        </tr>\n",
              "        <tr>\n",
              "            <td>10</td>\n",
              "            <td>Ikura</td>\n",
              "            <td>Tokyo Traders</td>\n",
              "        </tr>\n",
              "        <tr>\n",
              "            <td>11</td>\n",
              "            <td>Queso Cabrales</td>\n",
              "            <td>Cooperativa de Quesos &#x27;Las Cabras&#x27;</td>\n",
              "        </tr>\n",
              "        <tr>\n",
              "            <td>12</td>\n",
              "            <td>Queso Manchego La Pastora</td>\n",
              "            <td>Cooperativa de Quesos &#x27;Las Cabras&#x27;</td>\n",
              "        </tr>\n",
              "        <tr>\n",
              "            <td>13</td>\n",
              "            <td>Konbu</td>\n",
              "            <td>Mayumi&#x27;s</td>\n",
              "        </tr>\n",
              "        <tr>\n",
              "            <td>14</td>\n",
              "            <td>Tofu</td>\n",
              "            <td>Mayumi&#x27;s</td>\n",
              "        </tr>\n",
              "        <tr>\n",
              "            <td>15</td>\n",
              "            <td>Genen Shouyu</td>\n",
              "            <td>Mayumi&#x27;s</td>\n",
              "        </tr>\n",
              "        <tr>\n",
              "            <td>16</td>\n",
              "            <td>Pavlova</td>\n",
              "            <td>Pavlova, Ltd.</td>\n",
              "        </tr>\n",
              "        <tr>\n",
              "            <td>17</td>\n",
              "            <td>Alice Mutton</td>\n",
              "            <td>Pavlova, Ltd.</td>\n",
              "        </tr>\n",
              "        <tr>\n",
              "            <td>18</td>\n",
              "            <td>Carnarvon Tigers</td>\n",
              "            <td>Pavlova, Ltd.</td>\n",
              "        </tr>\n",
              "        <tr>\n",
              "            <td>19</td>\n",
              "            <td>Teatime Chocolate Biscuits</td>\n",
              "            <td>Specialty Biscuits, Ltd.</td>\n",
              "        </tr>\n",
              "        <tr>\n",
              "            <td>20</td>\n",
              "            <td>Sir Rodney&#x27;s Marmalade</td>\n",
              "            <td>Specialty Biscuits, Ltd.</td>\n",
              "        </tr>\n",
              "    </tbody>\n",
              "</table>"
            ]
          },
          "metadata": {},
          "execution_count": 114
        }
      ],
      "metadata": {
        "id": "R9QauiHNP5lw",
        "colab": {
          "base_uri": "https://localhost:8080/",
          "height": 503
        },
        "outputId": "fd5eefd0-aa65-439e-bc82-a9d256722f43"
      }
    },
    {
      "cell_type": "markdown",
      "source": [
        "### Ex.17 Show all orders and shippers with OrderID less than 10255.\n",
        "\n",
        "Display `OrderID`, `OrderDate` (date only), and `CompanyName` of the Shipper, and sort by `OrderID`. In addition, only display rows with `OrderID < 10255`."
      ],
      "metadata": {
        "id": "JJYHshMRP5l1"
      }
    },
    {
      "cell_type": "code",
      "execution_count": 121,
      "source": [
        "%%sql\n",
        "-- start your code here\n",
        "SELECT OrderID, DATE(OrderDate) as OrderDate, CompanyName\n",
        "FROM Orders\n",
        "INNER JOIN Shippers\n",
        "ON Orders.ShipVia = Shippers.ShipperID\n",
        "WHERE OrderID < 10255\n",
        "ORDER BY OrderID"
      ],
      "outputs": [
        {
          "output_type": "stream",
          "name": "stdout",
          "text": [
            " * sqlite:///northwind.sqlite3\n",
            "Done.\n"
          ]
        },
        {
          "output_type": "execute_result",
          "data": {
            "text/plain": [
              "[(10248, '2014-07-04', 'Federal Shipping'),\n",
              " (10249, '2014-07-05', 'Speedy Express'),\n",
              " (10250, '2014-07-08', 'United Package'),\n",
              " (10251, '2014-07-08', 'Speedy Express'),\n",
              " (10252, '2014-07-09', 'United Package'),\n",
              " (10253, '2014-07-10', 'United Package'),\n",
              " (10254, '2014-07-11', 'United Package')]"
            ],
            "text/html": [
              "<table>\n",
              "    <thead>\n",
              "        <tr>\n",
              "            <th>OrderID</th>\n",
              "            <th>OrderDate</th>\n",
              "            <th>CompanyName</th>\n",
              "        </tr>\n",
              "    </thead>\n",
              "    <tbody>\n",
              "        <tr>\n",
              "            <td>10248</td>\n",
              "            <td>2014-07-04</td>\n",
              "            <td>Federal Shipping</td>\n",
              "        </tr>\n",
              "        <tr>\n",
              "            <td>10249</td>\n",
              "            <td>2014-07-05</td>\n",
              "            <td>Speedy Express</td>\n",
              "        </tr>\n",
              "        <tr>\n",
              "            <td>10250</td>\n",
              "            <td>2014-07-08</td>\n",
              "            <td>United Package</td>\n",
              "        </tr>\n",
              "        <tr>\n",
              "            <td>10251</td>\n",
              "            <td>2014-07-08</td>\n",
              "            <td>Speedy Express</td>\n",
              "        </tr>\n",
              "        <tr>\n",
              "            <td>10252</td>\n",
              "            <td>2014-07-09</td>\n",
              "            <td>United Package</td>\n",
              "        </tr>\n",
              "        <tr>\n",
              "            <td>10253</td>\n",
              "            <td>2014-07-10</td>\n",
              "            <td>United Package</td>\n",
              "        </tr>\n",
              "        <tr>\n",
              "            <td>10254</td>\n",
              "            <td>2014-07-11</td>\n",
              "            <td>United Package</td>\n",
              "        </tr>\n",
              "    </tbody>\n",
              "</table>"
            ]
          },
          "metadata": {},
          "execution_count": 121
        }
      ],
      "metadata": {
        "id": "HUNuMMn_P5l8",
        "colab": {
          "base_uri": "https://localhost:8080/",
          "height": 226
        },
        "outputId": "f93ee87b-5695-4878-b135-d5b8bbce12ed"
      }
    },
    {
      "cell_type": "markdown",
      "source": [
        "### Ex.18* Find total number of products in each category\n",
        "\n",
        "In your result, display `CategoryName` and total number of product."
      ],
      "metadata": {
        "id": "f_9Va_7xP5mB"
      }
    },
    {
      "cell_type": "code",
      "execution_count": 124,
      "source": [
        "%%sql\n",
        "-- start your code here\n",
        "SELECT CategoryName, COUNT(*) as ProductCount\n",
        "FROM Products\n",
        "INNER JOIN Categories\n",
        "ON Products.CategoryID = Categories.CategoryID\n",
        "GROUP BY Products.CategoryID"
      ],
      "outputs": [
        {
          "output_type": "stream",
          "name": "stdout",
          "text": [
            " * sqlite:///northwind.sqlite3\n",
            "Done.\n"
          ]
        },
        {
          "output_type": "execute_result",
          "data": {
            "text/plain": [
              "[('Beverages', 12),\n",
              " ('Condiments', 12),\n",
              " ('Confections', 13),\n",
              " ('Dairy Products', 10),\n",
              " ('Grains/Cereals', 7),\n",
              " ('Meat/Poultry', 6),\n",
              " ('Produce', 5),\n",
              " ('Seafood', 12)]"
            ],
            "text/html": [
              "<table>\n",
              "    <thead>\n",
              "        <tr>\n",
              "            <th>CategoryName</th>\n",
              "            <th>ProductCount</th>\n",
              "        </tr>\n",
              "    </thead>\n",
              "    <tbody>\n",
              "        <tr>\n",
              "            <td>Beverages</td>\n",
              "            <td>12</td>\n",
              "        </tr>\n",
              "        <tr>\n",
              "            <td>Condiments</td>\n",
              "            <td>12</td>\n",
              "        </tr>\n",
              "        <tr>\n",
              "            <td>Confections</td>\n",
              "            <td>13</td>\n",
              "        </tr>\n",
              "        <tr>\n",
              "            <td>Dairy Products</td>\n",
              "            <td>10</td>\n",
              "        </tr>\n",
              "        <tr>\n",
              "            <td>Grains/Cereals</td>\n",
              "            <td>7</td>\n",
              "        </tr>\n",
              "        <tr>\n",
              "            <td>Meat/Poultry</td>\n",
              "            <td>6</td>\n",
              "        </tr>\n",
              "        <tr>\n",
              "            <td>Produce</td>\n",
              "            <td>5</td>\n",
              "        </tr>\n",
              "        <tr>\n",
              "            <td>Seafood</td>\n",
              "            <td>12</td>\n",
              "        </tr>\n",
              "    </tbody>\n",
              "</table>"
            ]
          },
          "metadata": {},
          "execution_count": 124
        }
      ],
      "metadata": {
        "id": "tK7punTbP5mC",
        "colab": {
          "base_uri": "https://localhost:8080/",
          "height": 247
        },
        "outputId": "21454200-64f9-46d1-ed8f-952baa3ee15b"
      }
    },
    {
      "cell_type": "markdown",
      "source": [
        "### Ex.19 Show all orders with values greater than $12,000 and are placed in 2016?\n",
        "\n",
        "In your result, display `OrderID` and total value of the order (ignore `Discount`)."
      ],
      "metadata": {
        "id": "J3VLQ3iXP5mO"
      }
    },
    {
      "cell_type": "code",
      "execution_count": 140,
      "source": [
        "%%sql\n",
        "-- start your code here\n",
        "SELECT Orders.OrderID, TotalPrice\n",
        "FROM Orders\n",
        "INNER JOIN ( SELECT OrderID, ROUND(SUM(UnitPrice * Quantity), 2) AS TotalPrice FROM OrderDetails GROUP BY OrderID) AS OrderDetails\n",
        "ON Orders.OrderID = OrderDetails.OrderID\n",
        "WHERE OrderDetails.TotalPrice > 12000 AND DATE(Orders.ShippedDate) BETWEEN '2016-01-01' AND '2016-12-31'"
      ],
      "outputs": [
        {
          "output_type": "stream",
          "name": "stdout",
          "text": [
            " * sqlite:///northwind.sqlite3\n",
            "Done.\n"
          ]
        },
        {
          "output_type": "execute_result",
          "data": {
            "text/plain": [
              "[(10865, 17250.0), (10981, 15810.0), (11030, 16321.9)]"
            ],
            "text/html": [
              "<table>\n",
              "    <thead>\n",
              "        <tr>\n",
              "            <th>OrderID</th>\n",
              "            <th>TotalPrice</th>\n",
              "        </tr>\n",
              "    </thead>\n",
              "    <tbody>\n",
              "        <tr>\n",
              "            <td>10865</td>\n",
              "            <td>17250.0</td>\n",
              "        </tr>\n",
              "        <tr>\n",
              "            <td>10981</td>\n",
              "            <td>15810.0</td>\n",
              "        </tr>\n",
              "        <tr>\n",
              "            <td>11030</td>\n",
              "            <td>16321.9</td>\n",
              "        </tr>\n",
              "    </tbody>\n",
              "</table>"
            ]
          },
          "metadata": {},
          "execution_count": 140
        }
      ],
      "metadata": {
        "id": "OpLqfrRoP5mO",
        "colab": {
          "base_uri": "https://localhost:8080/",
          "height": 140
        },
        "outputId": "a243492d-89fa-4a58-fa58-9990a4209061"
      }
    },
    {
      "cell_type": "markdown",
      "source": [
        "### Ex.20* What products has Michael Suyama ever sold?\n",
        "\n",
        "In your result, display `EmployeeID`, `FirstName`, `LastName`, `ProductID` and `ProductName`."
      ],
      "metadata": {
        "id": "2uSIBVYaP5mV"
      }
    },
    {
      "cell_type": "code",
      "execution_count": 146,
      "source": [
        "%%sql\n",
        "-- start your code here\n",
        "\n",
        "SELECT DISTINCT Employees.EmployeeID, FirstName, LastName, Products.ProductID, ProductName\n",
        "FROM Employees\n",
        "INNER JOIN Orders ON Employees.EmployeeID = Orders.EmployeeID\n",
        "INNER JOIN OrderDetails ON Orders.OrderID = OrderDetails.OrderID\n",
        "INNER JOIN Products ON OrderDetails.ProductID = Products.ProductID\n",
        "WHERE Employees.FirstName = 'Michael' AND Employees.LastName = 'Suyama'"
      ],
      "outputs": [
        {
          "output_type": "stream",
          "name": "stdout",
          "text": [
            " * sqlite:///northwind.sqlite3\n",
            "Done.\n"
          ]
        },
        {
          "output_type": "execute_result",
          "data": {
            "text/plain": [
              "[(6, 'Michael', 'Suyama', 14, 'Tofu'),\n",
              " (6, 'Michael', 'Suyama', 51, 'Manjimup Dried Apples'),\n",
              " (6, 'Michael', 'Suyama', 2, 'Chang'),\n",
              " (6, 'Michael', 'Suyama', 41, \"Jack's New England Clam Chowder\"),\n",
              " (6, 'Michael', 'Suyama', 33, 'Geitost'),\n",
              " (6, 'Michael', 'Suyama', 20, \"Sir Rodney's Marmalade\"),\n",
              " (6, 'Michael', 'Suyama', 31, 'Gorgonzola Telino'),\n",
              " (6, 'Michael', 'Suyama', 72, 'Mozzarella di Giovanni'),\n",
              " (6, 'Michael', 'Suyama', 71, 'Flotemysost'),\n",
              " (6, 'Michael', 'Suyama', 13, 'Konbu'),\n",
              " (6, 'Michael', 'Suyama', 44, 'Gula Malacca'),\n",
              " (6, 'Michael', 'Suyama', 11, 'Queso Cabrales'),\n",
              " (6, 'Michael', 'Suyama', 16, 'Pavlova'),\n",
              " (6, 'Michael', 'Suyama', 69, 'Gudbrandsdalsost'),\n",
              " (6, 'Michael', 'Suyama', 36, 'Inlagd Sill'),\n",
              " (6, 'Michael', 'Suyama', 59, 'Raclette Courdavault'),\n",
              " (6, 'Michael', 'Suyama', 62, 'Tarte au sucre'),\n",
              " (6, 'Michael', 'Suyama', 1, 'Chai'),\n",
              " (6, 'Michael', 'Suyama', 50, 'Valkoinen suklaa'),\n",
              " (6, 'Michael', 'Suyama', 24, 'Guaraná Fantástica'),\n",
              " (6, 'Michael', 'Suyama', 57, 'Ravioli Angelo'),\n",
              " (6, 'Michael', 'Suyama', 55, 'Pâté chinois'),\n",
              " (6, 'Michael', 'Suyama', 64, 'Wimmers gute Semmelknödel'),\n",
              " (6, 'Michael', 'Suyama', 74, 'Longlife Tofu'),\n",
              " (6, 'Michael', 'Suyama', 35, 'Steeleye Stout'),\n",
              " (6, 'Michael', 'Suyama', 46, 'Spegesild'),\n",
              " (6, 'Michael', 'Suyama', 53, 'Perth Pasties'),\n",
              " (6, 'Michael', 'Suyama', 76, 'Lakkalikööri'),\n",
              " (6, 'Michael', 'Suyama', 12, 'Queso Manchego La Pastora'),\n",
              " (6, 'Michael', 'Suyama', 19, 'Teatime Chocolate Biscuits'),\n",
              " (6, 'Michael', 'Suyama', 52, 'Filo Mix'),\n",
              " (6, 'Michael', 'Suyama', 47, 'Zaanse koeken'),\n",
              " (6, 'Michael', 'Suyama', 15, 'Genen Shouyu'),\n",
              " (6, 'Michael', 'Suyama', 28, 'Rössle Sauerkraut'),\n",
              " (6, 'Michael', 'Suyama', 65, 'Louisiana Fiery Hot Pepper Sauce'),\n",
              " (6, 'Michael', 'Suyama', 29, 'Thüringer Rostbratwurst'),\n",
              " (6, 'Michael', 'Suyama', 75, 'Rhönbräu Klosterbier'),\n",
              " (6, 'Michael', 'Suyama', 10, 'Ikura'),\n",
              " (6, 'Michael', 'Suyama', 56, 'Gnocchi di nonna Alice'),\n",
              " (6, 'Michael', 'Suyama', 60, 'Camembert Pierrot'),\n",
              " (6, 'Michael', 'Suyama', 21, \"Sir Rodney's Scones\"),\n",
              " (6, 'Michael', 'Suyama', 49, 'Maxilaku'),\n",
              " (6, 'Michael', 'Suyama', 39, 'Chartreuse verte'),\n",
              " (6, 'Michael', 'Suyama', 73, 'Röd Kaviar'),\n",
              " (6, 'Michael', 'Suyama', 4, \"Chef Anton's Cajun Seasoning\"),\n",
              " (6, 'Michael', 'Suyama', 48, 'Chocolade'),\n",
              " (6, 'Michael', 'Suyama', 5, \"Chef Anton's Gumbo Mix\"),\n",
              " (6, 'Michael', 'Suyama', 61, \"Sirop d'érable\"),\n",
              " (6, 'Michael', 'Suyama', 77, 'Original Frankfurter grüne Soße'),\n",
              " (6, 'Michael', 'Suyama', 40, 'Boston Crab Meat'),\n",
              " (6, 'Michael', 'Suyama', 63, 'Vegie-spread'),\n",
              " (6, 'Michael', 'Suyama', 34, 'Sasquatch Ale'),\n",
              " (6, 'Michael', 'Suyama', 3, 'Aniseed Syrup'),\n",
              " (6, 'Michael', 'Suyama', 7, \"Uncle Bob's Organic Dried Pears\"),\n",
              " (6, 'Michael', 'Suyama', 54, 'Tourtière'),\n",
              " (6, 'Michael', 'Suyama', 70, 'Outback Lager'),\n",
              " (6, 'Michael', 'Suyama', 26, 'Gumbär Gummibärchen')]"
            ],
            "text/html": [
              "<table>\n",
              "    <thead>\n",
              "        <tr>\n",
              "            <th>EmployeeID</th>\n",
              "            <th>FirstName</th>\n",
              "            <th>LastName</th>\n",
              "            <th>ProductID</th>\n",
              "            <th>ProductName</th>\n",
              "        </tr>\n",
              "    </thead>\n",
              "    <tbody>\n",
              "        <tr>\n",
              "            <td>6</td>\n",
              "            <td>Michael</td>\n",
              "            <td>Suyama</td>\n",
              "            <td>14</td>\n",
              "            <td>Tofu</td>\n",
              "        </tr>\n",
              "        <tr>\n",
              "            <td>6</td>\n",
              "            <td>Michael</td>\n",
              "            <td>Suyama</td>\n",
              "            <td>51</td>\n",
              "            <td>Manjimup Dried Apples</td>\n",
              "        </tr>\n",
              "        <tr>\n",
              "            <td>6</td>\n",
              "            <td>Michael</td>\n",
              "            <td>Suyama</td>\n",
              "            <td>2</td>\n",
              "            <td>Chang</td>\n",
              "        </tr>\n",
              "        <tr>\n",
              "            <td>6</td>\n",
              "            <td>Michael</td>\n",
              "            <td>Suyama</td>\n",
              "            <td>41</td>\n",
              "            <td>Jack&#x27;s New England Clam Chowder</td>\n",
              "        </tr>\n",
              "        <tr>\n",
              "            <td>6</td>\n",
              "            <td>Michael</td>\n",
              "            <td>Suyama</td>\n",
              "            <td>33</td>\n",
              "            <td>Geitost</td>\n",
              "        </tr>\n",
              "        <tr>\n",
              "            <td>6</td>\n",
              "            <td>Michael</td>\n",
              "            <td>Suyama</td>\n",
              "            <td>20</td>\n",
              "            <td>Sir Rodney&#x27;s Marmalade</td>\n",
              "        </tr>\n",
              "        <tr>\n",
              "            <td>6</td>\n",
              "            <td>Michael</td>\n",
              "            <td>Suyama</td>\n",
              "            <td>31</td>\n",
              "            <td>Gorgonzola Telino</td>\n",
              "        </tr>\n",
              "        <tr>\n",
              "            <td>6</td>\n",
              "            <td>Michael</td>\n",
              "            <td>Suyama</td>\n",
              "            <td>72</td>\n",
              "            <td>Mozzarella di Giovanni</td>\n",
              "        </tr>\n",
              "        <tr>\n",
              "            <td>6</td>\n",
              "            <td>Michael</td>\n",
              "            <td>Suyama</td>\n",
              "            <td>71</td>\n",
              "            <td>Flotemysost</td>\n",
              "        </tr>\n",
              "        <tr>\n",
              "            <td>6</td>\n",
              "            <td>Michael</td>\n",
              "            <td>Suyama</td>\n",
              "            <td>13</td>\n",
              "            <td>Konbu</td>\n",
              "        </tr>\n",
              "        <tr>\n",
              "            <td>6</td>\n",
              "            <td>Michael</td>\n",
              "            <td>Suyama</td>\n",
              "            <td>44</td>\n",
              "            <td>Gula Malacca</td>\n",
              "        </tr>\n",
              "        <tr>\n",
              "            <td>6</td>\n",
              "            <td>Michael</td>\n",
              "            <td>Suyama</td>\n",
              "            <td>11</td>\n",
              "            <td>Queso Cabrales</td>\n",
              "        </tr>\n",
              "        <tr>\n",
              "            <td>6</td>\n",
              "            <td>Michael</td>\n",
              "            <td>Suyama</td>\n",
              "            <td>16</td>\n",
              "            <td>Pavlova</td>\n",
              "        </tr>\n",
              "        <tr>\n",
              "            <td>6</td>\n",
              "            <td>Michael</td>\n",
              "            <td>Suyama</td>\n",
              "            <td>69</td>\n",
              "            <td>Gudbrandsdalsost</td>\n",
              "        </tr>\n",
              "        <tr>\n",
              "            <td>6</td>\n",
              "            <td>Michael</td>\n",
              "            <td>Suyama</td>\n",
              "            <td>36</td>\n",
              "            <td>Inlagd Sill</td>\n",
              "        </tr>\n",
              "        <tr>\n",
              "            <td>6</td>\n",
              "            <td>Michael</td>\n",
              "            <td>Suyama</td>\n",
              "            <td>59</td>\n",
              "            <td>Raclette Courdavault</td>\n",
              "        </tr>\n",
              "        <tr>\n",
              "            <td>6</td>\n",
              "            <td>Michael</td>\n",
              "            <td>Suyama</td>\n",
              "            <td>62</td>\n",
              "            <td>Tarte au sucre</td>\n",
              "        </tr>\n",
              "        <tr>\n",
              "            <td>6</td>\n",
              "            <td>Michael</td>\n",
              "            <td>Suyama</td>\n",
              "            <td>1</td>\n",
              "            <td>Chai</td>\n",
              "        </tr>\n",
              "        <tr>\n",
              "            <td>6</td>\n",
              "            <td>Michael</td>\n",
              "            <td>Suyama</td>\n",
              "            <td>50</td>\n",
              "            <td>Valkoinen suklaa</td>\n",
              "        </tr>\n",
              "        <tr>\n",
              "            <td>6</td>\n",
              "            <td>Michael</td>\n",
              "            <td>Suyama</td>\n",
              "            <td>24</td>\n",
              "            <td>Guaraná Fantástica</td>\n",
              "        </tr>\n",
              "        <tr>\n",
              "            <td>6</td>\n",
              "            <td>Michael</td>\n",
              "            <td>Suyama</td>\n",
              "            <td>57</td>\n",
              "            <td>Ravioli Angelo</td>\n",
              "        </tr>\n",
              "        <tr>\n",
              "            <td>6</td>\n",
              "            <td>Michael</td>\n",
              "            <td>Suyama</td>\n",
              "            <td>55</td>\n",
              "            <td>Pâté chinois</td>\n",
              "        </tr>\n",
              "        <tr>\n",
              "            <td>6</td>\n",
              "            <td>Michael</td>\n",
              "            <td>Suyama</td>\n",
              "            <td>64</td>\n",
              "            <td>Wimmers gute Semmelknödel</td>\n",
              "        </tr>\n",
              "        <tr>\n",
              "            <td>6</td>\n",
              "            <td>Michael</td>\n",
              "            <td>Suyama</td>\n",
              "            <td>74</td>\n",
              "            <td>Longlife Tofu</td>\n",
              "        </tr>\n",
              "        <tr>\n",
              "            <td>6</td>\n",
              "            <td>Michael</td>\n",
              "            <td>Suyama</td>\n",
              "            <td>35</td>\n",
              "            <td>Steeleye Stout</td>\n",
              "        </tr>\n",
              "        <tr>\n",
              "            <td>6</td>\n",
              "            <td>Michael</td>\n",
              "            <td>Suyama</td>\n",
              "            <td>46</td>\n",
              "            <td>Spegesild</td>\n",
              "        </tr>\n",
              "        <tr>\n",
              "            <td>6</td>\n",
              "            <td>Michael</td>\n",
              "            <td>Suyama</td>\n",
              "            <td>53</td>\n",
              "            <td>Perth Pasties</td>\n",
              "        </tr>\n",
              "        <tr>\n",
              "            <td>6</td>\n",
              "            <td>Michael</td>\n",
              "            <td>Suyama</td>\n",
              "            <td>76</td>\n",
              "            <td>Lakkalikööri</td>\n",
              "        </tr>\n",
              "        <tr>\n",
              "            <td>6</td>\n",
              "            <td>Michael</td>\n",
              "            <td>Suyama</td>\n",
              "            <td>12</td>\n",
              "            <td>Queso Manchego La Pastora</td>\n",
              "        </tr>\n",
              "        <tr>\n",
              "            <td>6</td>\n",
              "            <td>Michael</td>\n",
              "            <td>Suyama</td>\n",
              "            <td>19</td>\n",
              "            <td>Teatime Chocolate Biscuits</td>\n",
              "        </tr>\n",
              "        <tr>\n",
              "            <td>6</td>\n",
              "            <td>Michael</td>\n",
              "            <td>Suyama</td>\n",
              "            <td>52</td>\n",
              "            <td>Filo Mix</td>\n",
              "        </tr>\n",
              "        <tr>\n",
              "            <td>6</td>\n",
              "            <td>Michael</td>\n",
              "            <td>Suyama</td>\n",
              "            <td>47</td>\n",
              "            <td>Zaanse koeken</td>\n",
              "        </tr>\n",
              "        <tr>\n",
              "            <td>6</td>\n",
              "            <td>Michael</td>\n",
              "            <td>Suyama</td>\n",
              "            <td>15</td>\n",
              "            <td>Genen Shouyu</td>\n",
              "        </tr>\n",
              "        <tr>\n",
              "            <td>6</td>\n",
              "            <td>Michael</td>\n",
              "            <td>Suyama</td>\n",
              "            <td>28</td>\n",
              "            <td>Rössle Sauerkraut</td>\n",
              "        </tr>\n",
              "        <tr>\n",
              "            <td>6</td>\n",
              "            <td>Michael</td>\n",
              "            <td>Suyama</td>\n",
              "            <td>65</td>\n",
              "            <td>Louisiana Fiery Hot Pepper Sauce</td>\n",
              "        </tr>\n",
              "        <tr>\n",
              "            <td>6</td>\n",
              "            <td>Michael</td>\n",
              "            <td>Suyama</td>\n",
              "            <td>29</td>\n",
              "            <td>Thüringer Rostbratwurst</td>\n",
              "        </tr>\n",
              "        <tr>\n",
              "            <td>6</td>\n",
              "            <td>Michael</td>\n",
              "            <td>Suyama</td>\n",
              "            <td>75</td>\n",
              "            <td>Rhönbräu Klosterbier</td>\n",
              "        </tr>\n",
              "        <tr>\n",
              "            <td>6</td>\n",
              "            <td>Michael</td>\n",
              "            <td>Suyama</td>\n",
              "            <td>10</td>\n",
              "            <td>Ikura</td>\n",
              "        </tr>\n",
              "        <tr>\n",
              "            <td>6</td>\n",
              "            <td>Michael</td>\n",
              "            <td>Suyama</td>\n",
              "            <td>56</td>\n",
              "            <td>Gnocchi di nonna Alice</td>\n",
              "        </tr>\n",
              "        <tr>\n",
              "            <td>6</td>\n",
              "            <td>Michael</td>\n",
              "            <td>Suyama</td>\n",
              "            <td>60</td>\n",
              "            <td>Camembert Pierrot</td>\n",
              "        </tr>\n",
              "        <tr>\n",
              "            <td>6</td>\n",
              "            <td>Michael</td>\n",
              "            <td>Suyama</td>\n",
              "            <td>21</td>\n",
              "            <td>Sir Rodney&#x27;s Scones</td>\n",
              "        </tr>\n",
              "        <tr>\n",
              "            <td>6</td>\n",
              "            <td>Michael</td>\n",
              "            <td>Suyama</td>\n",
              "            <td>49</td>\n",
              "            <td>Maxilaku</td>\n",
              "        </tr>\n",
              "        <tr>\n",
              "            <td>6</td>\n",
              "            <td>Michael</td>\n",
              "            <td>Suyama</td>\n",
              "            <td>39</td>\n",
              "            <td>Chartreuse verte</td>\n",
              "        </tr>\n",
              "        <tr>\n",
              "            <td>6</td>\n",
              "            <td>Michael</td>\n",
              "            <td>Suyama</td>\n",
              "            <td>73</td>\n",
              "            <td>Röd Kaviar</td>\n",
              "        </tr>\n",
              "        <tr>\n",
              "            <td>6</td>\n",
              "            <td>Michael</td>\n",
              "            <td>Suyama</td>\n",
              "            <td>4</td>\n",
              "            <td>Chef Anton&#x27;s Cajun Seasoning</td>\n",
              "        </tr>\n",
              "        <tr>\n",
              "            <td>6</td>\n",
              "            <td>Michael</td>\n",
              "            <td>Suyama</td>\n",
              "            <td>48</td>\n",
              "            <td>Chocolade</td>\n",
              "        </tr>\n",
              "        <tr>\n",
              "            <td>6</td>\n",
              "            <td>Michael</td>\n",
              "            <td>Suyama</td>\n",
              "            <td>5</td>\n",
              "            <td>Chef Anton&#x27;s Gumbo Mix</td>\n",
              "        </tr>\n",
              "        <tr>\n",
              "            <td>6</td>\n",
              "            <td>Michael</td>\n",
              "            <td>Suyama</td>\n",
              "            <td>61</td>\n",
              "            <td>Sirop d&#x27;érable</td>\n",
              "        </tr>\n",
              "        <tr>\n",
              "            <td>6</td>\n",
              "            <td>Michael</td>\n",
              "            <td>Suyama</td>\n",
              "            <td>77</td>\n",
              "            <td>Original Frankfurter grüne Soße</td>\n",
              "        </tr>\n",
              "        <tr>\n",
              "            <td>6</td>\n",
              "            <td>Michael</td>\n",
              "            <td>Suyama</td>\n",
              "            <td>40</td>\n",
              "            <td>Boston Crab Meat</td>\n",
              "        </tr>\n",
              "        <tr>\n",
              "            <td>6</td>\n",
              "            <td>Michael</td>\n",
              "            <td>Suyama</td>\n",
              "            <td>63</td>\n",
              "            <td>Vegie-spread</td>\n",
              "        </tr>\n",
              "        <tr>\n",
              "            <td>6</td>\n",
              "            <td>Michael</td>\n",
              "            <td>Suyama</td>\n",
              "            <td>34</td>\n",
              "            <td>Sasquatch Ale</td>\n",
              "        </tr>\n",
              "        <tr>\n",
              "            <td>6</td>\n",
              "            <td>Michael</td>\n",
              "            <td>Suyama</td>\n",
              "            <td>3</td>\n",
              "            <td>Aniseed Syrup</td>\n",
              "        </tr>\n",
              "        <tr>\n",
              "            <td>6</td>\n",
              "            <td>Michael</td>\n",
              "            <td>Suyama</td>\n",
              "            <td>7</td>\n",
              "            <td>Uncle Bob&#x27;s Organic Dried Pears</td>\n",
              "        </tr>\n",
              "        <tr>\n",
              "            <td>6</td>\n",
              "            <td>Michael</td>\n",
              "            <td>Suyama</td>\n",
              "            <td>54</td>\n",
              "            <td>Tourtière</td>\n",
              "        </tr>\n",
              "        <tr>\n",
              "            <td>6</td>\n",
              "            <td>Michael</td>\n",
              "            <td>Suyama</td>\n",
              "            <td>70</td>\n",
              "            <td>Outback Lager</td>\n",
              "        </tr>\n",
              "        <tr>\n",
              "            <td>6</td>\n",
              "            <td>Michael</td>\n",
              "            <td>Suyama</td>\n",
              "            <td>26</td>\n",
              "            <td>Gumbär Gummibärchen</td>\n",
              "        </tr>\n",
              "    </tbody>\n",
              "</table>"
            ]
          },
          "metadata": {},
          "execution_count": 146
        }
      ],
      "metadata": {
        "id": "LXOIiGBRP5mW",
        "colab": {
          "base_uri": "https://localhost:8080/",
          "height": 1000
        },
        "outputId": "c27ea5a2-60fa-441a-94da-37cae580a6a2"
      }
    },
    {
      "cell_type": "markdown",
      "source": [
        "### Ex.21* Find customers that never placed an order"
      ],
      "metadata": {
        "id": "kvuZQGMqP5ml"
      }
    },
    {
      "cell_type": "code",
      "execution_count": 150,
      "source": [
        "%%sql\n",
        "-- start your code here\n",
        "SELECT Customers.CustomerID, CompanyName, ContactName\n",
        "FROM Customers\n",
        "LEFT OUTER JOIN Orders\n",
        "ON Customers.CustomerID = Orders.CustomerID\n",
        "WHERE Orders.CustomerID IS NULL"
      ],
      "outputs": [
        {
          "output_type": "stream",
          "name": "stdout",
          "text": [
            " * sqlite:///northwind.sqlite3\n",
            "Done.\n"
          ]
        },
        {
          "output_type": "execute_result",
          "data": {
            "text/plain": [
              "[('FISSA', 'FISSA Fabrica Inter. Salchichas S.A.', 'Diego Roel'),\n",
              " ('PARIS', 'Paris spécialités', 'Marie Bertrand')]"
            ],
            "text/html": [
              "<table>\n",
              "    <thead>\n",
              "        <tr>\n",
              "            <th>CustomerID</th>\n",
              "            <th>CompanyName</th>\n",
              "            <th>ContactName</th>\n",
              "        </tr>\n",
              "    </thead>\n",
              "    <tbody>\n",
              "        <tr>\n",
              "            <td>FISSA</td>\n",
              "            <td>FISSA Fabrica Inter. Salchichas S.A.</td>\n",
              "            <td>Diego Roel</td>\n",
              "        </tr>\n",
              "        <tr>\n",
              "            <td>PARIS</td>\n",
              "            <td>Paris spécialités</td>\n",
              "            <td>Marie Bertrand</td>\n",
              "        </tr>\n",
              "    </tbody>\n",
              "</table>"
            ]
          },
          "metadata": {},
          "execution_count": 150
        }
      ],
      "metadata": {
        "id": "F7uyq24fP5ml",
        "colab": {
          "base_uri": "https://localhost:8080/",
          "height": 119
        },
        "outputId": "3b2e64bc-8084-4667-8490-f2ae73b2b0ea"
      }
    },
    {
      "cell_type": "markdown",
      "source": [
        "Note that the Jupyter Notebook displays Null as None."
      ],
      "metadata": {
        "id": "1avlw8OTP5ms"
      }
    },
    {
      "cell_type": "markdown",
      "source": [
        "### Ex.22* Find customers who never placed an order from Margaret Peacock (EmployeeID 4)"
      ],
      "metadata": {
        "id": "FZ1FrCvoP5mt"
      }
    },
    {
      "cell_type": "code",
      "execution_count": 152,
      "source": [
        "%%sql\n",
        "-- start your code here\n",
        "SELECT Customers.CustomerID, CompanyName, ContactName\n",
        "FROM Customers\n",
        "LEFT OUTER JOIN (SELECT * FROM Orders WHERE EmployeeID = 4) AS MargaretOrders\n",
        "ON Customers.CustomerID = MargaretOrders.CustomerID\n",
        "WHERE MargaretOrders.CustomerID IS NULL"
      ],
      "outputs": [
        {
          "output_type": "stream",
          "name": "stdout",
          "text": [
            " * sqlite:///northwind.sqlite3\n",
            "Done.\n"
          ]
        },
        {
          "output_type": "execute_result",
          "data": {
            "text/plain": [
              "[('CONSH', 'Consolidated Holdings', 'Elizabeth Brown'),\n",
              " ('DUMON', 'Du monde entier', 'Janine Labrune'),\n",
              " ('FISSA', 'FISSA Fabrica Inter. Salchichas S.A.', 'Diego Roel'),\n",
              " ('FRANR', 'France restauration', 'Carine Schmitt'),\n",
              " ('GROSR', 'GROSELLA-Restaurante', 'Manuel Pereira'),\n",
              " ('LAUGB', 'Laughing Bacchus Wine Cellars', 'Yoshi Tannamuri'),\n",
              " ('LAZYK', 'Lazy K Kountry Store', 'John Steel'),\n",
              " ('NORTS', 'North/South', 'Simon Crowther'),\n",
              " ('PARIS', 'Paris spécialités', 'Marie Bertrand'),\n",
              " ('PERIC', 'Pericles Comidas clásicas', 'Guillermo Fernández'),\n",
              " ('PRINI', 'Princesa Isabel Vinhos', 'Isabel de Castro'),\n",
              " ('SANTG', 'Santé Gourmet', 'Jonas Bergulfsen'),\n",
              " ('SEVES', 'Seven Seas Imports', 'Hari Kumar'),\n",
              " ('SPECD', 'Spécialités du monde', 'Dominique Perrier'),\n",
              " ('THEBI', 'The Big Cheese', 'Liz Nixon'),\n",
              " ('VINET', 'Vins et alcools Chevalier', 'Paul Henriot')]"
            ],
            "text/html": [
              "<table>\n",
              "    <thead>\n",
              "        <tr>\n",
              "            <th>CustomerID</th>\n",
              "            <th>CompanyName</th>\n",
              "            <th>ContactName</th>\n",
              "        </tr>\n",
              "    </thead>\n",
              "    <tbody>\n",
              "        <tr>\n",
              "            <td>CONSH</td>\n",
              "            <td>Consolidated Holdings</td>\n",
              "            <td>Elizabeth Brown</td>\n",
              "        </tr>\n",
              "        <tr>\n",
              "            <td>DUMON</td>\n",
              "            <td>Du monde entier</td>\n",
              "            <td>Janine Labrune</td>\n",
              "        </tr>\n",
              "        <tr>\n",
              "            <td>FISSA</td>\n",
              "            <td>FISSA Fabrica Inter. Salchichas S.A.</td>\n",
              "            <td>Diego Roel</td>\n",
              "        </tr>\n",
              "        <tr>\n",
              "            <td>FRANR</td>\n",
              "            <td>France restauration</td>\n",
              "            <td>Carine Schmitt</td>\n",
              "        </tr>\n",
              "        <tr>\n",
              "            <td>GROSR</td>\n",
              "            <td>GROSELLA-Restaurante</td>\n",
              "            <td>Manuel Pereira</td>\n",
              "        </tr>\n",
              "        <tr>\n",
              "            <td>LAUGB</td>\n",
              "            <td>Laughing Bacchus Wine Cellars</td>\n",
              "            <td>Yoshi Tannamuri</td>\n",
              "        </tr>\n",
              "        <tr>\n",
              "            <td>LAZYK</td>\n",
              "            <td>Lazy K Kountry Store</td>\n",
              "            <td>John Steel</td>\n",
              "        </tr>\n",
              "        <tr>\n",
              "            <td>NORTS</td>\n",
              "            <td>North/South</td>\n",
              "            <td>Simon Crowther</td>\n",
              "        </tr>\n",
              "        <tr>\n",
              "            <td>PARIS</td>\n",
              "            <td>Paris spécialités</td>\n",
              "            <td>Marie Bertrand</td>\n",
              "        </tr>\n",
              "        <tr>\n",
              "            <td>PERIC</td>\n",
              "            <td>Pericles Comidas clásicas</td>\n",
              "            <td>Guillermo Fernández</td>\n",
              "        </tr>\n",
              "        <tr>\n",
              "            <td>PRINI</td>\n",
              "            <td>Princesa Isabel Vinhos</td>\n",
              "            <td>Isabel de Castro</td>\n",
              "        </tr>\n",
              "        <tr>\n",
              "            <td>SANTG</td>\n",
              "            <td>Santé Gourmet</td>\n",
              "            <td>Jonas Bergulfsen</td>\n",
              "        </tr>\n",
              "        <tr>\n",
              "            <td>SEVES</td>\n",
              "            <td>Seven Seas Imports</td>\n",
              "            <td>Hari Kumar</td>\n",
              "        </tr>\n",
              "        <tr>\n",
              "            <td>SPECD</td>\n",
              "            <td>Spécialités du monde</td>\n",
              "            <td>Dominique Perrier</td>\n",
              "        </tr>\n",
              "        <tr>\n",
              "            <td>THEBI</td>\n",
              "            <td>The Big Cheese</td>\n",
              "            <td>Liz Nixon</td>\n",
              "        </tr>\n",
              "        <tr>\n",
              "            <td>VINET</td>\n",
              "            <td>Vins et alcools Chevalier</td>\n",
              "            <td>Paul Henriot</td>\n",
              "        </tr>\n",
              "    </tbody>\n",
              "</table>"
            ]
          },
          "metadata": {},
          "execution_count": 152
        }
      ],
      "metadata": {
        "id": "E5KAA0UBP5mu",
        "colab": {
          "base_uri": "https://localhost:8080/",
          "height": 418
        },
        "outputId": "86169bc3-223f-4ed8-909f-fdf74c78b9d8"
      }
    },
    {
      "cell_type": "markdown",
      "source": [
        "### Ex.23* Find high-value customers - 1\n",
        "\n",
        "We define high-value customers as those who have made at least 1 order with a total value >= $10,000 (ignore discount). We only consider orders placed in year 2016."
      ],
      "metadata": {
        "id": "83jTvbPjP5my"
      }
    },
    {
      "cell_type": "code",
      "execution_count": 164,
      "source": [
        "%%sql\n",
        "-- start your code here\n",
        "SELECT Customers.CustomerID, TotalPrice\n",
        "FROM Customers\n",
        "JOIN Orders ON Customers.CustomerID = Orders.CustomerID\n",
        "JOIN ( SELECT OrderID, ROUND(SUM(UnitPrice * Quantity), 2) AS TotalPrice FROM OrderDetails GROUP BY OrderID HAVING TotalPrice >= 10000 ) AS OrderDetails\n",
        "ON Orders.OrderID = OrderDetails.OrderID\n",
        "WHERE DATE(Orders.ShippedDate) BETWEEN '2016-01-01' AND '2016-12-31'"
      ],
      "outputs": [
        {
          "output_type": "stream",
          "name": "stdout",
          "text": [
            " * sqlite:///northwind.sqlite3\n",
            "Done.\n"
          ]
        },
        {
          "output_type": "execute_result",
          "data": {
            "text/plain": [
              "[('KOENE', 11490.7),\n",
              " ('QUICK', 17250.0),\n",
              " ('RATTC', 11380.0),\n",
              " ('HUNGO', 10835.24),\n",
              " ('HANAR', 15810.0),\n",
              " ('SAVEA', 16321.9)]"
            ],
            "text/html": [
              "<table>\n",
              "    <thead>\n",
              "        <tr>\n",
              "            <th>CustomerID</th>\n",
              "            <th>TotalPrice</th>\n",
              "        </tr>\n",
              "    </thead>\n",
              "    <tbody>\n",
              "        <tr>\n",
              "            <td>KOENE</td>\n",
              "            <td>11490.7</td>\n",
              "        </tr>\n",
              "        <tr>\n",
              "            <td>QUICK</td>\n",
              "            <td>17250.0</td>\n",
              "        </tr>\n",
              "        <tr>\n",
              "            <td>RATTC</td>\n",
              "            <td>11380.0</td>\n",
              "        </tr>\n",
              "        <tr>\n",
              "            <td>HUNGO</td>\n",
              "            <td>10835.24</td>\n",
              "        </tr>\n",
              "        <tr>\n",
              "            <td>HANAR</td>\n",
              "            <td>15810.0</td>\n",
              "        </tr>\n",
              "        <tr>\n",
              "            <td>SAVEA</td>\n",
              "            <td>16321.9</td>\n",
              "        </tr>\n",
              "    </tbody>\n",
              "</table>"
            ]
          },
          "metadata": {},
          "execution_count": 164
        }
      ],
      "metadata": {
        "id": "XUY5JDlTP5mz",
        "colab": {
          "base_uri": "https://localhost:8080/",
          "height": 204
        },
        "outputId": "8ecd951a-e5cc-4391-9e7f-d3f040cc49ac"
      }
    },
    {
      "cell_type": "markdown",
      "source": [
        "### Ex.24 Find high-value customers - 2\n",
        "\n",
        "This time, we define high-value customers as those who have made total order >= $15,000 (ignore discount). We only consider orders placed in year 2016."
      ],
      "metadata": {
        "id": "HjWfxr2LP5m2"
      }
    },
    {
      "cell_type": "code",
      "execution_count": 168,
      "source": [
        "%%sql\n",
        "-- start your code here\n",
        "SELECT Customers.CustomerID, SUM(OrderDetails.TotalPrice) AS TotalPrice\n",
        "FROM Customers\n",
        "JOIN Orders ON Customers.CustomerID = Orders.CustomerID\n",
        "JOIN ( SELECT OrderID, ROUND(SUM(UnitPrice * Quantity), 2) AS TotalPrice FROM OrderDetails GROUP BY OrderID ) AS OrderDetails\n",
        "ON Orders.OrderID = OrderDetails.OrderID\n",
        "WHERE TotalPrice >= 15000 AND DATE(Orders.ShippedDate) BETWEEN '2016-01-01' AND '2016-12-31'\n",
        "GROUP BY Orders.CustomerID"
      ],
      "outputs": [
        {
          "output_type": "stream",
          "name": "stdout",
          "text": [
            " * sqlite:///northwind.sqlite3\n",
            "Done.\n"
          ]
        },
        {
          "output_type": "execute_result",
          "data": {
            "text/plain": [
              "[('HANAR', 15810.0), ('QUICK', 17250.0), ('SAVEA', 16321.9)]"
            ],
            "text/html": [
              "<table>\n",
              "    <thead>\n",
              "        <tr>\n",
              "            <th>CustomerID</th>\n",
              "            <th>TotalPrice</th>\n",
              "        </tr>\n",
              "    </thead>\n",
              "    <tbody>\n",
              "        <tr>\n",
              "            <td>HANAR</td>\n",
              "            <td>15810.0</td>\n",
              "        </tr>\n",
              "        <tr>\n",
              "            <td>QUICK</td>\n",
              "            <td>17250.0</td>\n",
              "        </tr>\n",
              "        <tr>\n",
              "            <td>SAVEA</td>\n",
              "            <td>16321.9</td>\n",
              "        </tr>\n",
              "    </tbody>\n",
              "</table>"
            ]
          },
          "metadata": {},
          "execution_count": 168
        }
      ],
      "metadata": {
        "id": "RX190v6VP5m3",
        "colab": {
          "base_uri": "https://localhost:8080/",
          "height": 140
        },
        "outputId": "d05d783f-5adf-4367-f8db-4d2f8d12e2f1"
      }
    },
    {
      "cell_type": "markdown",
      "source": [
        "## Part 4. Others\n",
        "\n",
        "If we don't have time to go through all the concepts below, I encourage you to learn them on your own.\n",
        "\n",
        "1. CTE and temporary table\n",
        "2. Self-join\n",
        "3. `CASE` keyword\n",
        "4. `UNION` keyword\n",
        "\n",
        "Many SQL implementations support something called Common Table Expression (CTE).\n",
        "\n",
        ">A CTE is a named temporary result set that exists within the scope of a single statement and that can be referred to later within that statement, possibly multiple times.\n",
        "\n",
        "CTE is like a subquery, but it's more flexible. In particular, it can be referred to many times in a query, as if we have a temporary table. CTE is created using the `WITH` keyword. Below is a trivial example of CTE.\n",
        "\n",
        "```\n",
        "WITH\n",
        "  cte1 AS (SELECT a, b FROM table1),\n",
        "  cte2 AS (SELECT c, d FROM table2)\n",
        "SELECT b, d FROM cte1 JOIN cte2\n",
        "WHERE cte1.a = cte2.c;\n",
        "\n",
        "```\n",
        "\n",
        "You can also use a temporary table to store `SELECT` result. Temporary table can be referred to multiple times in a single session. The syntax to create temporary table and store results from `SELECT` is\n",
        "\n",
        "```\n",
        "CREATE TEMPORARY TABLE TableName AS SELECT...\n",
        "```"
      ],
      "metadata": {
        "id": "1OaiErBgP5m9"
      }
    },
    {
      "cell_type": "markdown",
      "source": [
        "### Ex.25* Find the total number of orders fulfilled by the oldest employee (CTE, Subquery, and temporary table)"
      ],
      "metadata": {
        "id": "HUnWyfP7P5m9"
      }
    },
    {
      "cell_type": "code",
      "execution_count": null,
      "source": [
        "%%sql\n",
        "/* CTE (WITH keyword) */\n",
        "-- start your code here\n"
      ],
      "outputs": [],
      "metadata": {
        "id": "yxy9SdqjDxE-"
      }
    },
    {
      "cell_type": "code",
      "execution_count": null,
      "source": [
        "%%sql\n",
        "/* Subquery */\n",
        "-- start your code here\n"
      ],
      "outputs": [],
      "metadata": {
        "id": "guv3XseEP5nE"
      }
    },
    {
      "cell_type": "code",
      "execution_count": null,
      "source": [
        "%%sql\n",
        "/* Temporary Table */\n",
        "-- start your code here\n"
      ],
      "outputs": [],
      "metadata": {
        "id": "KLQ1D4kpHL92"
      }
    },
    {
      "cell_type": "markdown",
      "source": [
        "### Ex.26* For each employee, find what percentage of his/her orders were shipped late?\n",
        "\n",
        "In your result, display `EmployeeID`, `LastName`, total number of orders, number of late orders, % of late orders (rounding to 2 decimal places).\n",
        "\n",
        "Define late order as `RequiredData <= ShipppedDate`.\n",
        "\n",
        "Below are three simpler related questions. You may want to solve them first before you attempt Ex.26 itself.\n",
        "\n",
        "1. Which orders were shipped late?\n",
        "2. Which employee has the most late orders?\n",
        "3. Compare each employee's number of orders and number of late orders.\n",
        "\n",
        "Note: There are many ways to solve this exercise. One of them is to create temporary tables to help us store intermediate results."
      ],
      "metadata": {
        "id": "gHUaCSmIP5nM"
      }
    },
    {
      "cell_type": "code",
      "execution_count": null,
      "source": [
        "%%sql\n",
        "-- 1. Which orders were shipped late?\n",
        "-- start your code here\n"
      ],
      "outputs": [],
      "metadata": {
        "id": "iugXHkKNP5nM"
      }
    },
    {
      "cell_type": "code",
      "execution_count": null,
      "source": [
        "%%sql\n",
        "-- 2. Which employee has the most late orders?\n",
        "-- start your code here\n"
      ],
      "outputs": [],
      "metadata": {
        "id": "PQhltRXIP5nR"
      }
    },
    {
      "cell_type": "code",
      "execution_count": null,
      "source": [
        "%%sql\n",
        "-- 3. Compare each employee's number of orders and number of late orders\n",
        "-- start your code here\n"
      ],
      "outputs": [],
      "metadata": {
        "id": "RLMQIAUgP5nW"
      }
    },
    {
      "cell_type": "code",
      "execution_count": null,
      "source": [
        "%%sql\n",
        "-- Solve Ex.26 (Find % of late orders for each employee)\n",
        "-- start your code here\n"
      ],
      "outputs": [],
      "metadata": {
        "id": "C2RZsV0aP5nb"
      }
    },
    {
      "cell_type": "markdown",
      "source": [
        "### Ex.27* Find customers with multiple orders in 5 day period"
      ],
      "metadata": {
        "id": "APGnHoLSP5nf"
      }
    },
    {
      "cell_type": "code",
      "execution_count": null,
      "source": [
        "%%sql\n",
        "-- start your code here\n",
        "-- JOIN keyword\n"
      ],
      "outputs": [],
      "metadata": {
        "id": "9rFxd4jNP5ng"
      }
    },
    {
      "cell_type": "markdown",
      "source": [
        "### Ex.28 Group customers by its total order value in 2016 for a sales compaign.\n",
        "\n",
        "Group customers into four categories, very high (total order in 2016 > 10,000), high (5,000 < total order <= 10,000), medium (1,000 < total order <= 5,000), and low (0 < total order <= 1,000). When calculating total order value, you can ignore discount.\n",
        "\n",
        "We will learn the `CASE` keyword."
      ],
      "metadata": {
        "id": "eaS3FD86P5no"
      }
    },
    {
      "cell_type": "code",
      "execution_count": null,
      "source": [
        "%%sql\n",
        "-- step 1\n",
        "DROP TABLE IF EXISTS TotalOrderAmountTpTable;\n",
        "\n",
        "CREATE TEMPORARY TABLE TotalOrderAmountTpTable AS\n",
        "SELECT Customers.CustomerID, CompanyName, SUM(UnitPrice * Quantity) AS TotalOrderAmount\n",
        "FROM Customers\n",
        "  JOIN Orders ON Customers.CustomerID = Orders.CustomerID\n",
        "  JOIN OrderDetails ON Orders.OrderID = OrderDetails.OrderID\n",
        "WHERE strftime('%Y', OrderDate) = \"2016\"\n",
        "GROUP BY Customers.CustomerID, CompanyName\n",
        "ORDER BY TotalOrderAmount DESC"
      ],
      "outputs": [],
      "metadata": {
        "id": "EiZLC4bqP5np"
      }
    },
    {
      "cell_type": "code",
      "execution_count": null,
      "source": [
        "%%sql\n",
        "-- step 2\n",
        "SELECT CustomerID, CompanyName, totalOrderAmount,\n",
        "CASE\n",
        "  WHEN TotalOrderAmount > 0 AND TotalOrderAmount <= 1000 THEN 'Low'\n",
        "  WHEN TotalOrderAmount > 1000 AND TotalOrderAmount <= 5000 THEN 'Medium'\n",
        "  WHEN TotalOrderAmount > 5000 AND TotalOrderAmount <= 10000 THEN 'High'\n",
        "  WHEN TotalOrderAmount > 10000 THEN 'Very High'\n",
        "END AS CustomerCategory\n",
        "FROM TotalOrderAmountTpTable\n",
        "ORDER BY CustomerID;"
      ],
      "outputs": [],
      "metadata": {
        "id": "nCw_z8kwP5ns"
      }
    },
    {
      "cell_type": "markdown",
      "source": [
        "### Ex. 29 Countries with suppliers and customers\n",
        "\n",
        "Some Northwind employees are planning a business trip, and they would like to visit as many customers and suppliers as possible. They would like to see a list of all countries and their corresponding total number of customers and total number of suppliers.\n",
        "\n",
        "#### Method 1. Use intermediate tables.\n",
        "\n",
        "We will use temporary tables."
      ],
      "metadata": {
        "id": "ZqGPk7IBP5nv"
      }
    },
    {
      "cell_type": "code",
      "execution_count": null,
      "source": [
        "%%sql\n",
        "-- step 1: count total customers by country\n",
        "DROP TABLE IF EXISTS TotalCustomersTpTable;\n",
        "\n",
        "CREATE TEMPORARY TABLE TotalCustomersTpTable AS\n",
        "SELECT Country, COUNT(CustomerID) AS TotalCustomers\n",
        "FROM Customers\n",
        "GROUP BY Country"
      ],
      "outputs": [],
      "metadata": {
        "id": "1pY3SXUZP5nw"
      }
    },
    {
      "cell_type": "code",
      "execution_count": null,
      "source": [
        "%%sql\n",
        "-- step 2: count total suppliers by country\n",
        "DROP TABLE IF EXISTS TotalSuppliersTpTable;\n",
        "\n",
        "CREATE TEMPORARY TABLE TotalSuppliersTpTable AS\n",
        "SELECT Country, COUNT(SupplierID) AS TotalSuppliers\n",
        "FROM Suppliers\n",
        "GROUP BY Country"
      ],
      "outputs": [],
      "metadata": {
        "id": "fCJHTOjuP5n1"
      }
    },
    {
      "cell_type": "code",
      "execution_count": null,
      "source": [
        "%%sql\n",
        "-- step 3: join two intermediate tables (full outer join using union)\n",
        "SELECT TotalCustomersTpTable.Country, TotalCustomers, TotalSuppliers\n",
        "FROM TotalCustomersTpTable\n",
        "  LEFT JOIN TotalSuppliersTpTable\n",
        "    ON TotalCustomersTpTable.Country = TotalSuppliersTpTable.Country\n",
        "UNION\n",
        "SELECT TotalSuppliersTpTable.Country, TotalCustomers, TotalSuppliers\n",
        "FROM TotalSuppliersTpTable\n",
        "  LEFT JOIN TotalCustomersTpTable\n",
        "    ON TotalCustomersTpTable.Country = TotalSuppliersTpTable.Country\n",
        "ORDER BY TotalSuppliersTpTable.Country"
      ],
      "outputs": [],
      "metadata": {
        "id": "FRWI53UNP5n4"
      }
    },
    {
      "cell_type": "code",
      "execution_count": null,
      "source": [
        "%%sql\n",
        "-- clean up\n",
        "DROP TABLE TotalCustomersTpTable;\n",
        "DROP TABLE TotalSuppliersTpTable;"
      ],
      "outputs": [],
      "metadata": {
        "id": "AOOpyIVmP5n6"
      }
    },
    {
      "cell_type": "markdown",
      "source": [
        "#### Method 2. Use subquery to get a derived table\n",
        "\n",
        "We find all distinct countries in `Customers` and `Supplier` tables, and combine them to be a derived table `CountriesTable`. This table exists only during the execution of the query. We then `LEFT JOIN` the table to `Customers` and `Supplier` tables, and use `GROUP BY` to obtain the result."
      ],
      "metadata": {
        "id": "9IjyAoi7P5n-"
      }
    },
    {
      "cell_type": "code",
      "execution_count": null,
      "source": [
        "%%sql\n",
        "-- Display intermediate result to take a look (debug)\n",
        "SELECT\n",
        "  CountriesTable.Country,\n",
        "  CustomerID,\n",
        "  SupplierID\n",
        "FROM\n",
        "  (SELECT DISTINCT Country FROM Customers\n",
        "   UNION\n",
        "   SELECT DISTINCT Country FROM Suppliers\n",
        "  ) AS CountriesTable -- We have a subquery under the FROM keyword. It gives a derived table, CountriesTable.\n",
        "  LEFT JOIN Customers ON CountriesTable.Country = Customers.Country\n",
        "  LEFT JOIN Suppliers ON CountriesTable.Country = Suppliers.Country"
      ],
      "outputs": [],
      "metadata": {
        "id": "bU_hRj-ED1kr"
      }
    },
    {
      "cell_type": "code",
      "execution_count": null,
      "source": [
        "%%sql\n",
        "-- now, completely solve ex.29\n",
        "SELECT\n",
        "  CountriesTable.Country,\n",
        "  Count(DISTINCT CustomerID) AS TotalCustomers,\n",
        "  Count(DISTINCT SupplierID) AS TotalSuppliers\n",
        "FROM\n",
        "  (SELECT DISTINCT Country FROM Customers\n",
        "   UNION\n",
        "   SELECT DISTINCT Country FROM Suppliers\n",
        "  ) AS CountriesTable -- We have a subquery under the FROM keyword. It gives a derived table, CountriesTable.\n",
        "  LEFT JOIN Customers ON CountriesTable.Country = Customers.Country\n",
        "  LEFT JOIN Suppliers ON CountriesTable.Country = Suppliers.Country\n",
        "GROUP BY CountriesTable.Country\n",
        "ORDER BY CountriesTable.Country"
      ],
      "outputs": [],
      "metadata": {
        "id": "Y2jUT61cP5n_"
      }
    },
    {
      "cell_type": "markdown",
      "source": [
        "## Summary\n",
        "\n",
        "We have covered quite a few basic SQL keywords. They are mostly about getting data from a DB and manipulate the retrieved data. There are much more to SQL. Take a look at this [post](https://stackoverflow.com/questions/2054130/what-is-advanced-sql) to get an idea of what advanced SQL topics are about, and if you are interested, explore them on your own.\n",
        "\n",
        "\n",
        "## References\n",
        "\n",
        "Most of the exercises in this notebook are drawn from this [book](https://www.amazon.ca/SQL-Practice-Problems-learn-doing-ebook/dp/B01N41VQFO) by Sylvia Moestl Vasilik. The book is based on Microsoft SQL server and its T-SQL.\n",
        "\n",
        "Another great SQL book for beginner is [SQL in 10 Minute](https://www.amazon.ca/SQL-Minutes-Sams-Teach-Yourself/dp/0135182794) by Ben Forta."
      ],
      "metadata": {
        "id": "MX-r4ZGhP5oE"
      }
    },
    {
      "cell_type": "code",
      "execution_count": null,
      "source": [],
      "outputs": [],
      "metadata": {
        "id": "q8bRB4GmP5oF"
      }
    },
    {
      "cell_type": "markdown",
      "source": [
        "## Appendix\n",
        "\n",
        "Examples of various joins shown in the slides."
      ],
      "metadata": {
        "id": "_KfSNG5KP5oI"
      }
    },
    {
      "cell_type": "code",
      "execution_count": null,
      "source": [
        "# create a new sqlite database\n",
        "%sql sqlite:///join_playground.sqlite3"
      ],
      "outputs": [],
      "metadata": {
        "id": "VppwXfH7zXyt"
      }
    },
    {
      "cell_type": "code",
      "execution_count": null,
      "source": [
        "%%sql\n",
        "\n",
        "-- create left table: table1\n",
        "DROP TABLE IF EXISTS table1;\n",
        "\n",
        "CREATE TABLE table1 (\n",
        "  pk INTEGER NOT NULL,\n",
        "  t1c1 TEXT NOT NULL\n",
        ");\n",
        "\n",
        "INSERT INTO table1\n",
        "    (pk, t1c1)\n",
        "VALUES\n",
        "    (1,\"a\"),\n",
        "    (2,\"b\");\n",
        "\n",
        "-- create right table: table2\n",
        "DROP TABLE IF EXISTS table2;\n",
        "\n",
        "CREATE TABLE table2 (\n",
        "  fk INTEGER NOT NULL,\n",
        "  t2c1 TEXT NOT NULL\n",
        ");\n",
        "\n",
        "INSERT INTO table2\n",
        "    (fk, t2c1)\n",
        "VALUES\n",
        "    (1,\"c\"),\n",
        "    (1,\"d\"),\n",
        "    (3,\"e\");"
      ],
      "outputs": [],
      "metadata": {
        "id": "k6LIK-5VP5oJ"
      }
    },
    {
      "cell_type": "code",
      "execution_count": null,
      "source": [
        "%%sql\n",
        "select * from table1;"
      ],
      "outputs": [],
      "metadata": {
        "id": "D-EBvGSmP5oe"
      }
    },
    {
      "cell_type": "code",
      "execution_count": null,
      "source": [
        "%%sql\n",
        "select * from table2;"
      ],
      "outputs": [],
      "metadata": {
        "id": "RueQp1XrP5ol"
      }
    },
    {
      "cell_type": "code",
      "execution_count": null,
      "source": [
        "%%sql\n",
        "-- inner join\n",
        "select * from table1 join table2 on table1.pk = table2.fk"
      ],
      "outputs": [],
      "metadata": {
        "id": "WLKJbsiyP5on"
      }
    },
    {
      "cell_type": "code",
      "execution_count": null,
      "source": [
        "%%sql\n",
        "-- left join\n",
        "select *\n",
        "from table1\n",
        "  left join table2 on table1.pk = table2.fk"
      ],
      "outputs": [],
      "metadata": {
        "id": "9oDsKf8OP5oq"
      }
    },
    {
      "cell_type": "code",
      "execution_count": null,
      "source": [
        "%%sql\n",
        "-- left join with exclusion\n",
        "select *\n",
        "from table1\n",
        "  left join table2 on table1.pk = table2.fk\n",
        "where table2.fk IS NULL"
      ],
      "outputs": [],
      "metadata": {
        "id": "bwqlAhCLP5ou"
      }
    },
    {
      "cell_type": "code",
      "execution_count": null,
      "source": [
        "%%sql\n",
        "-- right join using LEFT JOIN key word\n",
        "select *\n",
        "from table2\n",
        "  left join table1 on table2.fk = table1.pk"
      ],
      "outputs": [],
      "metadata": {
        "id": "sgyyBEw5P5o0"
      }
    },
    {
      "cell_type": "code",
      "execution_count": null,
      "source": [
        "%%sql\n",
        "-- right join with exclusion using LEFT JOIN and WHERE key word\n",
        "select *\n",
        "from table2\n",
        "  left join table1 on table2.fk = table1.pk\n",
        "where table1.pk is NULL"
      ],
      "outputs": [],
      "metadata": {
        "id": "2QJleWGiP5o6"
      }
    },
    {
      "cell_type": "code",
      "execution_count": null,
      "source": [
        "%%sql\n",
        "-- fuller outer join\n",
        "-- it is important to list all the column names (i.e. not using *; can use * if using MySQL)\n",
        "-- https://stackoverflow.com/questions/53076981/sql-union-doesnt-check-for-matching-column-names-is-it-up-to-me\n",
        "\n",
        "select pk, t1c1, fk, t2c1\n",
        "from table1\n",
        "  left join table2 on table1.pk = table2.fk\n",
        "union\n",
        "select pk, t1c1, fk, t2c1\n",
        "from table2\n",
        "  left join table1 on table2.fk = table1.pk;"
      ],
      "outputs": [],
      "metadata": {
        "id": "wTOU-JaFP5o8"
      }
    },
    {
      "cell_type": "code",
      "execution_count": null,
      "source": [
        "%%sql\n",
        "-- full outer join with exclusion\n",
        "select pk, t1c1, fk, t2c1\n",
        "from table1\n",
        "  left join table2 on table1.pk = table2.fk\n",
        "where table2.fk is NULL\n",
        "union\n",
        "select pk, t1c1, fk, t2c1\n",
        "from table2\n",
        "  left join table1 on table2.fk = table1.pk\n",
        "where table1.pk is NULL;"
      ],
      "outputs": [],
      "metadata": {
        "id": "VlBjOIV2P5o_"
      }
    },
    {
      "cell_type": "code",
      "execution_count": null,
      "source": [],
      "outputs": [],
      "metadata": {
        "id": "Ni_n1mWNP5pC"
      }
    }
  ]
}